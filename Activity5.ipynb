{
 "cells": [
  {
   "cell_type": "code",
   "execution_count": 1,
   "id": "ff9334a0-0c30-4420-99a3-dbfef8cab819",
   "metadata": {},
   "outputs": [
    {
     "ename": "AttributeError",
     "evalue": "module 'warnings' has no attribute 'filter'",
     "output_type": "error",
     "traceback": [
      "\u001b[1;31m---------------------------------------------------------------------------\u001b[0m",
      "\u001b[1;31mAttributeError\u001b[0m                            Traceback (most recent call last)",
      "Cell \u001b[1;32mIn[1], line 6\u001b[0m\n\u001b[0;32m      4\u001b[0m \u001b[38;5;28;01mimport\u001b[39;00m\u001b[38;5;250m \u001b[39m\u001b[38;5;21;01mseaborn\u001b[39;00m\u001b[38;5;250m \u001b[39m\u001b[38;5;28;01mas\u001b[39;00m\u001b[38;5;250m \u001b[39m\u001b[38;5;21;01msns\u001b[39;00m\n\u001b[0;32m      5\u001b[0m \u001b[38;5;28;01mimport\u001b[39;00m\u001b[38;5;250m \u001b[39m\u001b[38;5;21;01mwarnings\u001b[39;00m\n\u001b[1;32m----> 6\u001b[0m \u001b[43mwarnings\u001b[49m\u001b[38;5;241;43m.\u001b[39;49m\u001b[43mfilter\u001b[49m(\u001b[38;5;124m'\u001b[39m\u001b[38;5;124mignore\u001b[39m\u001b[38;5;124m'\u001b[39m)\n",
      "\u001b[1;31mAttributeError\u001b[0m: module 'warnings' has no attribute 'filter'"
     ]
    }
   ],
   "source": [
    "import numpy as np\n",
    "import pandas as pd\n",
    "import matplotlib.pyplot as plt\n",
    "import seaborn as sns\n",
    "import warnings\n",
    "warnings.filter('ignore')"
   ]
  },
  {
   "cell_type": "code",
   "execution_count": 2,
   "id": "8d52cf27-47fd-43ba-8cf5-4af6ee5f5a9b",
   "metadata": {},
   "outputs": [],
   "source": [
    "net = pd.read_csv('datasets\\\\Internet-Demographic.csv')"
   ]
  },
  {
   "cell_type": "code",
   "execution_count": 3,
   "id": "3453035b-4a90-42d4-9f49-2abbaf8d14a0",
   "metadata": {},
   "outputs": [
    {
     "data": {
      "text/html": [
       "<div>\n",
       "<style scoped>\n",
       "    .dataframe tbody tr th:only-of-type {\n",
       "        vertical-align: middle;\n",
       "    }\n",
       "\n",
       "    .dataframe tbody tr th {\n",
       "        vertical-align: top;\n",
       "    }\n",
       "\n",
       "    .dataframe thead th {\n",
       "        text-align: right;\n",
       "    }\n",
       "</style>\n",
       "<table border=\"1\" class=\"dataframe\">\n",
       "  <thead>\n",
       "    <tr style=\"text-align: right;\">\n",
       "      <th></th>\n",
       "      <th>Country Name</th>\n",
       "      <th>Country Code</th>\n",
       "      <th>Birth rate</th>\n",
       "      <th>Internet users</th>\n",
       "      <th>Income Group</th>\n",
       "    </tr>\n",
       "  </thead>\n",
       "  <tbody>\n",
       "    <tr>\n",
       "      <th>0</th>\n",
       "      <td>Aruba</td>\n",
       "      <td>ABW</td>\n",
       "      <td>10.244</td>\n",
       "      <td>78.9</td>\n",
       "      <td>High income</td>\n",
       "    </tr>\n",
       "    <tr>\n",
       "      <th>1</th>\n",
       "      <td>Afghanistan</td>\n",
       "      <td>AFG</td>\n",
       "      <td>35.253</td>\n",
       "      <td>5.9</td>\n",
       "      <td>Low income</td>\n",
       "    </tr>\n",
       "    <tr>\n",
       "      <th>2</th>\n",
       "      <td>Angola</td>\n",
       "      <td>AGO</td>\n",
       "      <td>45.985</td>\n",
       "      <td>19.1</td>\n",
       "      <td>Upper middle income</td>\n",
       "    </tr>\n",
       "    <tr>\n",
       "      <th>3</th>\n",
       "      <td>Albania</td>\n",
       "      <td>ALB</td>\n",
       "      <td>12.877</td>\n",
       "      <td>57.2</td>\n",
       "      <td>Upper middle income</td>\n",
       "    </tr>\n",
       "    <tr>\n",
       "      <th>4</th>\n",
       "      <td>United Arab Emirates</td>\n",
       "      <td>ARE</td>\n",
       "      <td>11.044</td>\n",
       "      <td>88.0</td>\n",
       "      <td>High income</td>\n",
       "    </tr>\n",
       "    <tr>\n",
       "      <th>...</th>\n",
       "      <td>...</td>\n",
       "      <td>...</td>\n",
       "      <td>...</td>\n",
       "      <td>...</td>\n",
       "      <td>...</td>\n",
       "    </tr>\n",
       "    <tr>\n",
       "      <th>190</th>\n",
       "      <td>Yemen, Rep.</td>\n",
       "      <td>YEM</td>\n",
       "      <td>32.947</td>\n",
       "      <td>20.0</td>\n",
       "      <td>Lower middle income</td>\n",
       "    </tr>\n",
       "    <tr>\n",
       "      <th>191</th>\n",
       "      <td>South Africa</td>\n",
       "      <td>ZAF</td>\n",
       "      <td>20.850</td>\n",
       "      <td>46.5</td>\n",
       "      <td>Upper middle income</td>\n",
       "    </tr>\n",
       "    <tr>\n",
       "      <th>192</th>\n",
       "      <td>Congo, Dem. Rep.</td>\n",
       "      <td>COD</td>\n",
       "      <td>42.394</td>\n",
       "      <td>2.2</td>\n",
       "      <td>Low income</td>\n",
       "    </tr>\n",
       "    <tr>\n",
       "      <th>193</th>\n",
       "      <td>Zambia</td>\n",
       "      <td>ZMB</td>\n",
       "      <td>40.471</td>\n",
       "      <td>15.4</td>\n",
       "      <td>Lower middle income</td>\n",
       "    </tr>\n",
       "    <tr>\n",
       "      <th>194</th>\n",
       "      <td>Zimbabwe</td>\n",
       "      <td>ZWE</td>\n",
       "      <td>35.715</td>\n",
       "      <td>18.5</td>\n",
       "      <td>Low income</td>\n",
       "    </tr>\n",
       "  </tbody>\n",
       "</table>\n",
       "<p>195 rows × 5 columns</p>\n",
       "</div>"
      ],
      "text/plain": [
       "             Country Name Country Code  Birth rate  Internet users  \\\n",
       "0                   Aruba          ABW      10.244            78.9   \n",
       "1             Afghanistan          AFG      35.253             5.9   \n",
       "2                  Angola          AGO      45.985            19.1   \n",
       "3                 Albania          ALB      12.877            57.2   \n",
       "4    United Arab Emirates          ARE      11.044            88.0   \n",
       "..                    ...          ...         ...             ...   \n",
       "190           Yemen, Rep.          YEM      32.947            20.0   \n",
       "191          South Africa          ZAF      20.850            46.5   \n",
       "192      Congo, Dem. Rep.          COD      42.394             2.2   \n",
       "193                Zambia          ZMB      40.471            15.4   \n",
       "194              Zimbabwe          ZWE      35.715            18.5   \n",
       "\n",
       "            Income Group  \n",
       "0            High income  \n",
       "1             Low income  \n",
       "2    Upper middle income  \n",
       "3    Upper middle income  \n",
       "4            High income  \n",
       "..                   ...  \n",
       "190  Lower middle income  \n",
       "191  Upper middle income  \n",
       "192           Low income  \n",
       "193  Lower middle income  \n",
       "194           Low income  \n",
       "\n",
       "[195 rows x 5 columns]"
      ]
     },
     "execution_count": 3,
     "metadata": {},
     "output_type": "execute_result"
    }
   ],
   "source": [
    "net"
   ]
  },
  {
   "cell_type": "code",
   "execution_count": 4,
   "id": "57d8f3f4-2db9-41b0-bab1-8951eebefdfb",
   "metadata": {},
   "outputs": [
    {
     "name": "stdout",
     "output_type": "stream",
     "text": [
      "<class 'pandas.core.frame.DataFrame'>\n",
      "RangeIndex: 195 entries, 0 to 194\n",
      "Data columns (total 5 columns):\n",
      " #   Column          Non-Null Count  Dtype  \n",
      "---  ------          --------------  -----  \n",
      " 0   Country Name    195 non-null    object \n",
      " 1   Country Code    195 non-null    object \n",
      " 2   Birth rate      195 non-null    float64\n",
      " 3   Internet users  195 non-null    float64\n",
      " 4   Income Group    195 non-null    object \n",
      "dtypes: float64(2), object(3)\n",
      "memory usage: 7.7+ KB\n"
     ]
    }
   ],
   "source": [
    "net.info()"
   ]
  },
  {
   "cell_type": "code",
   "execution_count": 5,
   "id": "4f828258-289c-4aa5-a655-c82d72fd70d7",
   "metadata": {},
   "outputs": [
    {
     "data": {
      "text/html": [
       "<div>\n",
       "<style scoped>\n",
       "    .dataframe tbody tr th:only-of-type {\n",
       "        vertical-align: middle;\n",
       "    }\n",
       "\n",
       "    .dataframe tbody tr th {\n",
       "        vertical-align: top;\n",
       "    }\n",
       "\n",
       "    .dataframe thead th {\n",
       "        text-align: right;\n",
       "    }\n",
       "</style>\n",
       "<table border=\"1\" class=\"dataframe\">\n",
       "  <thead>\n",
       "    <tr style=\"text-align: right;\">\n",
       "      <th></th>\n",
       "      <th>Birth rate</th>\n",
       "      <th>Internet users</th>\n",
       "    </tr>\n",
       "  </thead>\n",
       "  <tbody>\n",
       "    <tr>\n",
       "      <th>count</th>\n",
       "      <td>195.000000</td>\n",
       "      <td>195.000000</td>\n",
       "    </tr>\n",
       "    <tr>\n",
       "      <th>mean</th>\n",
       "      <td>21.469928</td>\n",
       "      <td>42.076471</td>\n",
       "    </tr>\n",
       "    <tr>\n",
       "      <th>std</th>\n",
       "      <td>10.605467</td>\n",
       "      <td>29.030788</td>\n",
       "    </tr>\n",
       "    <tr>\n",
       "      <th>min</th>\n",
       "      <td>7.900000</td>\n",
       "      <td>0.900000</td>\n",
       "    </tr>\n",
       "    <tr>\n",
       "      <th>25%</th>\n",
       "      <td>12.120500</td>\n",
       "      <td>14.520000</td>\n",
       "    </tr>\n",
       "    <tr>\n",
       "      <th>50%</th>\n",
       "      <td>19.680000</td>\n",
       "      <td>41.000000</td>\n",
       "    </tr>\n",
       "    <tr>\n",
       "      <th>75%</th>\n",
       "      <td>29.759500</td>\n",
       "      <td>66.225000</td>\n",
       "    </tr>\n",
       "    <tr>\n",
       "      <th>max</th>\n",
       "      <td>49.661000</td>\n",
       "      <td>96.546800</td>\n",
       "    </tr>\n",
       "  </tbody>\n",
       "</table>\n",
       "</div>"
      ],
      "text/plain": [
       "       Birth rate  Internet users\n",
       "count  195.000000      195.000000\n",
       "mean    21.469928       42.076471\n",
       "std     10.605467       29.030788\n",
       "min      7.900000        0.900000\n",
       "25%     12.120500       14.520000\n",
       "50%     19.680000       41.000000\n",
       "75%     29.759500       66.225000\n",
       "max     49.661000       96.546800"
      ]
     },
     "execution_count": 5,
     "metadata": {},
     "output_type": "execute_result"
    }
   ],
   "source": [
    "net.describe()"
   ]
  },
  {
   "cell_type": "markdown",
   "id": "a1b66363-b888-4e29-97c5-b9c3ccd91a25",
   "metadata": {},
   "source": [
    "<h1> Insight No.1 </h1>"
   ]
  },
  {
   "cell_type": "markdown",
   "id": "fecaf80e-12bc-43de-b491-63554dfdf71a",
   "metadata": {},
   "source": [
    "<h1> Distribution of Birth Rates </h1>"
   ]
  },
  {
   "cell_type": "code",
   "execution_count": 7,
   "id": "9197f0e5-04a0-42e1-8a4c-4fec3ff95536",
   "metadata": {},
   "outputs": [
    {
     "data": {
      "text/plain": [
       "np.float64(21.469928205128202)"
      ]
     },
     "execution_count": 7,
     "metadata": {},
     "output_type": "execute_result"
    }
   ],
   "source": [
    "net['Birth rate'].mean()"
   ]
  },
  {
   "cell_type": "code",
   "execution_count": 13,
   "id": "088db159-d448-4c20-9225-e1665eaad9a8",
   "metadata": {},
   "outputs": [
    {
     "data": {
      "image/png": "[encoded data removed]",
      "text/plain": [
       "<Figure size 800x500 with 1 Axes>"
      ]
     },
     "metadata": {},
     "output_type": "display_data"
    }
   ],
   "source": [
    "plt.figure(figsize=(8,5))\n",
    "sns.histplot(net['Birth rate'], bins=20, kde=True)\n",
    "plt.xlabel('Birth Rate')\n",
    "plt.ylabel('Frequency')\n",
    "plt.title('Distribution of Birth Rates')\n",
    "plt.grid(True)\n",
    "plt.show()"
   ]
  },
  {
   "cell_type": "markdown",
   "id": "35f52dbd-6f17-4a29-b876-6cad3129f8ef",
   "metadata": {},
   "source": [
    "<h1> Insight No.2 </h1>"
   ]
  },
  {
   "cell_type": "markdown",
   "id": "d2e7a7c7-1d55-4a54-9041-d27a9fbecf98",
   "metadata": {},
   "source": [
    "<h1>Top 5 Countries with the Highest Internet Usage</h1>"
   ]
  },
  {
   "cell_type": "code",
   "execution_count": 15,
   "id": "27690c20-1687-45ef-afb1-1602a9ec2e05",
   "metadata": {},
   "outputs": [
    {
     "data": {
      "text/html": [
       "<div>\n",
       "<style scoped>\n",
       "    .dataframe tbody tr th:only-of-type {\n",
       "        vertical-align: middle;\n",
       "    }\n",
       "\n",
       "    .dataframe tbody tr th {\n",
       "        vertical-align: top;\n",
       "    }\n",
       "\n",
       "    .dataframe thead th {\n",
       "        text-align: right;\n",
       "    }\n",
       "</style>\n",
       "<table border=\"1\" class=\"dataframe\">\n",
       "  <thead>\n",
       "    <tr style=\"text-align: right;\">\n",
       "      <th></th>\n",
       "      <th>Country Name</th>\n",
       "      <th>Internet users</th>\n",
       "    </tr>\n",
       "  </thead>\n",
       "  <tbody>\n",
       "    <tr>\n",
       "      <th>84</th>\n",
       "      <td>Iceland</td>\n",
       "      <td>96.5468</td>\n",
       "    </tr>\n",
       "    <tr>\n",
       "      <th>22</th>\n",
       "      <td>Bermuda</td>\n",
       "      <td>95.3000</td>\n",
       "    </tr>\n",
       "    <tr>\n",
       "      <th>131</th>\n",
       "      <td>Norway</td>\n",
       "      <td>95.0534</td>\n",
       "    </tr>\n",
       "    <tr>\n",
       "      <th>163</th>\n",
       "      <td>Sweden</td>\n",
       "      <td>94.7836</td>\n",
       "    </tr>\n",
       "    <tr>\n",
       "      <th>47</th>\n",
       "      <td>Denmark</td>\n",
       "      <td>94.6297</td>\n",
       "    </tr>\n",
       "  </tbody>\n",
       "</table>\n",
       "</div>"
      ],
      "text/plain": [
       "    Country Name  Internet users\n",
       "84       Iceland         96.5468\n",
       "22       Bermuda         95.3000\n",
       "131       Norway         95.0534\n",
       "163       Sweden         94.7836\n",
       "47       Denmark         94.6297"
      ]
     },
     "metadata": {},
     "output_type": "display_data"
    }
   ],
   "source": [
    "top5 = net.nlargest(5, 'Internet users')[['Country Name', 'Internet users']]\n",
    "display(top5)"
   ]
  },
  {
   "cell_type": "markdown",
   "id": "a3051139-e3eb-4a98-a49c-96a489a07841",
   "metadata": {},
   "source": [
    "<h1>Insight No.3</h1>"
   ]
  },
  {
   "cell_type": "markdown",
   "id": "ff1400dc-8120-4cbb-bca9-945dce51b23b",
   "metadata": {},
   "source": [
    "<h1>Count of Countries by Income Group</h1>"
   ]
  },
  {
   "cell_type": "code",
   "execution_count": 31,
   "id": "0b31229b-cd31-4bb6-a648-fe256052816b",
   "metadata": {},
   "outputs": [
    {
     "data": {
      "image/png": "[encoded data removed]",
      "text/plain": [
       "<Figure size 800x500 with 1 Axes>"
      ]
     },
     "metadata": {},
     "output_type": "display_data"
    }
   ],
   "source": [
    "income_counts = net['Income Group'].value_counts()\n",
    "income_counts.plot(kind='bar', color='skyblue', figsize=(8,5))\n",
    "plt.xlabel('Income Group')\n",
    "plt.ylabel('Number of Countries')\n",
    "plt.title('Count of Countries by Income Group')\n",
    "plt.show()"
   ]
  },
  {
   "cell_type": "markdown",
   "id": "70160900-9e50-4b26-8e11-78f3a8607aff",
   "metadata": {},
   "source": [
    "<h1>Insight No.4 </h1>"
   ]
  },
  {
   "cell_type": "markdown",
   "id": "d5dc7174-81bc-4463-9841-31420c55e7fc",
   "metadata": {},
   "source": [
    "<h1>Box Plot of Internet Usage</h1>"
   ]
  },
  {
   "cell_type": "code",
   "execution_count": 20,
   "id": "9cba003c-ac6d-4b8f-a836-0b7a8a8fe9e2",
   "metadata": {},
   "outputs": [
    {
     "data": {
      "image/png": "[encoded data removed]",
      "text/plain": [
       "<Figure size 800x500 with 1 Axes>"
      ]
     },
     "metadata": {},
     "output_type": "display_data"
    }
   ],
   "source": [
    "plt.figure(figsize=(8,5))\n",
    "sns.boxplot(y=net['Internet users'])\n",
    "plt.ylabel('Internet Users (%)')\n",
    "plt.title('Distribution of Internet Usage')\n",
    "plt.show()"
   ]
  },
  {
   "cell_type": "markdown",
   "id": "120cfa20-f1bf-451f-a68b-292737482fc1",
   "metadata": {},
   "source": [
    "<h1>Insight No.5</h1>"
   ]
  },
  {
   "cell_type": "markdown",
   "id": "67c104d2-0072-40eb-baae-4a89649505c6",
   "metadata": {},
   "source": [
    "<h1>Countries with No Internet Access</h1>"
   ]
  },
  {
   "cell_type": "code",
   "execution_count": 36,
   "id": "3e4ae14d-0f66-4f8b-b60c-15f79ecec39c",
   "metadata": {},
   "outputs": [
    {
     "data": {
      "text/plain": [
       "Series([], Name: Country Name, dtype: object)"
      ]
     },
     "metadata": {},
     "output_type": "display_data"
    }
   ],
   "source": [
    "no_internet = net[net['Internet users'] == 0]['Country Name']\n",
    "display(no_internet)\n"
   ]
  },
  {
   "cell_type": "markdown",
   "id": "b5f119a7-d999-492e-8162-a8b016e3da70",
   "metadata": {},
   "source": [
    "<h1>Insight No.6</h1>"
   ]
  },
  {
   "cell_type": "markdown",
   "id": "b56880ad-3ce8-4f39-9062-39807851ec27",
   "metadata": {},
   "source": [
    "<h1>Average Birth Rate</h1>"
   ]
  },
  {
   "cell_type": "code",
   "execution_count": 23,
   "id": "1b94b0ea-c620-43ce-ae6d-66eeb5490814",
   "metadata": {},
   "outputs": [
    {
     "name": "stdout",
     "output_type": "stream",
     "text": [
      "Average Birth Rate: 21.47\n"
     ]
    }
   ],
   "source": [
    "avg_birth_rate = net['Birth rate'].mean()\n",
    "print(f'Average Birth Rate: {avg_birth_rate:.2f}')"
   ]
  },
  {
   "cell_type": "markdown",
   "id": "2606c85b-ed34-4efc-ab82-1e5f4d0de505",
   "metadata": {},
   "source": [
    "<h1>Insight No.7</h1>"
   ]
  },
  {
   "cell_type": "markdown",
   "id": "3015e523-2077-4f9a-b585-790d96264af9",
   "metadata": {},
   "source": [
    "<h1>Scatter Plot: Birth Rate vs Internet Usage</h1>"
   ]
  },
  {
   "cell_type": "code",
   "execution_count": 32,
   "id": "f518b25e-1713-45e9-ade0-e1c830854746",
   "metadata": {},
   "outputs": [
    {
     "data": {
      "image/png": "[encoded data removed]",
      "text/plain": [
       "<Figure size 640x480 with 1 Axes>"
      ]
     },
     "metadata": {},
     "output_type": "display_data"
    }
   ],
   "source": [
    "plt.scatter(net['Internet users'], net['Birth rate'])\n",
    "plt.xlabel('Internet Users')\n",
    "plt.ylabel('Birth Rate')\n",
    "plt.show()"
   ]
  },
  {
   "cell_type": "markdown",
   "id": "c566d27d-95da-4276-bd01-79c671b336f1",
   "metadata": {},
   "source": [
    "<h1>Insight No.8</h1>"
   ]
  },
  {
   "cell_type": "markdown",
   "id": "6a073384-ca05-46a2-a9d1-92f6b036df8a",
   "metadata": {},
   "source": [
    "<h1>Countries with Birth Rates Above 40</h1>"
   ]
  },
  {
   "cell_type": "code",
   "execution_count": 26,
   "id": "1d55cf19-68ad-4359-9060-ed3c27bc3350",
   "metadata": {},
   "outputs": [
    {
     "data": {
      "text/html": [
       "<div>\n",
       "<style scoped>\n",
       "    .dataframe tbody tr th:only-of-type {\n",
       "        vertical-align: middle;\n",
       "    }\n",
       "\n",
       "    .dataframe tbody tr th {\n",
       "        vertical-align: top;\n",
       "    }\n",
       "\n",
       "    .dataframe thead th {\n",
       "        text-align: right;\n",
       "    }\n",
       "</style>\n",
       "<table border=\"1\" class=\"dataframe\">\n",
       "  <thead>\n",
       "    <tr style=\"text-align: right;\">\n",
       "      <th></th>\n",
       "      <th>Country Name</th>\n",
       "      <th>Birth rate</th>\n",
       "    </tr>\n",
       "  </thead>\n",
       "  <tbody>\n",
       "    <tr>\n",
       "      <th>2</th>\n",
       "      <td>Angola</td>\n",
       "      <td>45.985</td>\n",
       "    </tr>\n",
       "    <tr>\n",
       "      <th>11</th>\n",
       "      <td>Burundi</td>\n",
       "      <td>44.151</td>\n",
       "    </tr>\n",
       "    <tr>\n",
       "      <th>14</th>\n",
       "      <td>Burkina Faso</td>\n",
       "      <td>40.551</td>\n",
       "    </tr>\n",
       "    <tr>\n",
       "      <th>65</th>\n",
       "      <td>Gambia, The</td>\n",
       "      <td>42.525</td>\n",
       "    </tr>\n",
       "    <tr>\n",
       "      <th>115</th>\n",
       "      <td>Mali</td>\n",
       "      <td>44.138</td>\n",
       "    </tr>\n",
       "    <tr>\n",
       "      <th>127</th>\n",
       "      <td>Niger</td>\n",
       "      <td>49.661</td>\n",
       "    </tr>\n",
       "    <tr>\n",
       "      <th>128</th>\n",
       "      <td>Nigeria</td>\n",
       "      <td>40.045</td>\n",
       "    </tr>\n",
       "    <tr>\n",
       "      <th>156</th>\n",
       "      <td>Somalia</td>\n",
       "      <td>43.891</td>\n",
       "    </tr>\n",
       "    <tr>\n",
       "      <th>167</th>\n",
       "      <td>Chad</td>\n",
       "      <td>45.745</td>\n",
       "    </tr>\n",
       "    <tr>\n",
       "      <th>178</th>\n",
       "      <td>Uganda</td>\n",
       "      <td>43.474</td>\n",
       "    </tr>\n",
       "    <tr>\n",
       "      <th>192</th>\n",
       "      <td>Congo, Dem. Rep.</td>\n",
       "      <td>42.394</td>\n",
       "    </tr>\n",
       "    <tr>\n",
       "      <th>193</th>\n",
       "      <td>Zambia</td>\n",
       "      <td>40.471</td>\n",
       "    </tr>\n",
       "  </tbody>\n",
       "</table>\n",
       "</div>"
      ],
      "text/plain": [
       "         Country Name  Birth rate\n",
       "2              Angola      45.985\n",
       "11            Burundi      44.151\n",
       "14       Burkina Faso      40.551\n",
       "65        Gambia, The      42.525\n",
       "115              Mali      44.138\n",
       "127             Niger      49.661\n",
       "128           Nigeria      40.045\n",
       "156           Somalia      43.891\n",
       "167              Chad      45.745\n",
       "178            Uganda      43.474\n",
       "192  Congo, Dem. Rep.      42.394\n",
       "193            Zambia      40.471"
      ]
     },
     "metadata": {},
     "output_type": "display_data"
    }
   ],
   "source": [
    "high_birth_rate = net[net['Birth rate'] > 40][['Country Name', 'Birth rate']]\n",
    "display(high_birth_rate)"
   ]
  },
  {
   "cell_type": "markdown",
   "id": "6a6606a5-5f0a-4ea6-887d-cf74e061e57e",
   "metadata": {},
   "source": [
    "<h1> Insight No.9 </h1>"
   ]
  },
  {
   "cell_type": "markdown",
   "id": "a099bf7b-6fe9-4ef1-a030-55313274638f",
   "metadata": {},
   "source": [
    "<h1>Pie Chart of Income Groups</h1>"
   ]
  },
  {
   "cell_type": "code",
   "execution_count": 28,
   "id": "9ecc3ba3-e744-47de-b3ee-9f8c95bc8462",
   "metadata": {},
   "outputs": [
    {
     "data": {
      "text/plain": [
       "Income Group\n",
       "High income            67\n",
       "Low income             30\n",
       "Lower middle income    50\n",
       "Upper middle income    48\n",
       "dtype: int64"
      ]
     },
     "execution_count": 28,
     "metadata": {},
     "output_type": "execute_result"
    }
   ],
   "source": [
    "net.groupby(['Income Group']).size()"
   ]
  },
  {
   "cell_type": "code",
   "execution_count": 27,
   "id": "7130fbc5-2bce-4ff7-a9ac-a1e8076a1a6f",
   "metadata": {},
   "outputs": [
    {
     "data": {
      "image/png": "[encoded data removed]",
      "text/plain": [
       "<Figure size 640x480 with 1 Axes>"
      ]
     },
     "metadata": {},
     "output_type": "display_data"
    }
   ],
   "source": [
    "income = net.groupby(['Income Group']).size()\n",
    "\n",
    "plt.pie(income, autopct = '%1.1f%%', labels=net['Income Group'].unique())\n",
    "plt.show()"
   ]
  },
  {
   "cell_type": "markdown",
   "id": "2e057429-959a-4d21-8abd-ca1a6b2f6b33",
   "metadata": {},
   "source": [
    "<h1>Insight No.10</h1>"
   ]
  },
  {
   "cell_type": "markdown",
   "id": "d246f766-2106-4236-83eb-a4e089b6441a",
   "metadata": {},
   "source": [
    "<h1>Correlation Between Birth Rate and Internet Usage</h1>"
   ]
  },
  {
   "cell_type": "code",
   "execution_count": 33,
   "id": "d37e3197-6baa-40ce-a200-a8621a16c225",
   "metadata": {},
   "outputs": [
    {
     "name": "stdout",
     "output_type": "stream",
     "text": [
      "Correlation between Birth Rate and Internet Users: -0.82\n",
      "Strong negative correlation\n"
     ]
    }
   ],
   "source": [
    "correlation = net['Birth rate'].corr(net['Internet users'])\n",
    "print(f'Correlation between Birth Rate and Internet Users: {correlation:.2f}')\n",
    "if correlation > 0.5:\n",
    "    print(\"Strong positive correlation\")\n",
    "elif correlation < -0.5:\n",
    "    print(\"Strong negative correlation\")\n",
    "else:\n",
    "    print(\"Weak or no correlation\")"
   ]
  }
 ],
 "metadata": {
  "kernelspec": {
   "display_name": "Python 3 (ipykernel)",
   "language": "python",
   "name": "python3"
  },
  "language_info": {
   "codemirror_mode": {
    "name": "ipython",
    "version": 3
   },
   "file_extension": ".py",
   "mimetype": "text/x-python",
   "name": "python",
   "nbconvert_exporter": "python",
   "pygments_lexer": "ipython3",
   "version": "3.13.2"
  }
 },
 "nbformat": 4,
 "nbformat_minor": 5
}
