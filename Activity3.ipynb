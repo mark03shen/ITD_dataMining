{
 "cells": [
  {
   "cell_type": "markdown",
   "id": "b9236b87-5609-4931-b57a-5fa2760bdb36",
   "metadata": {},
   "source": [
    "<h1>United Kingdom Road Accident Data Analysis</h1>\n",
    "<h3>inclusive years 2019-2020</h3>"
   ]
  },
  {
   "cell_type": "code",
   "execution_count": 1,
   "id": "b723b4d2-c490-477f-97d7-d031931bba84",
   "metadata": {},
   "outputs": [],
   "source": [
    "import numpy as np\n",
    "import pandas as pd\n",
    "import seaborn as sns\n",
    "import matplotlib.pyplot as plt\n",
    "from scipy.stats import f_oneway"
   ]
  },
  {
   "cell_type": "code",
   "execution_count": 2,
   "id": "07d34693-e746-4bb7-93a0-61d4a95141c0",
   "metadata": {},
   "outputs": [],
   "source": [
    "accident = pd.read_csv('datasets\\\\accident_data.csv')"
   ]
  },
  {
   "cell_type": "code",
   "execution_count": 3,
   "id": "55c16a49-dd92-4ab2-ad23-40feaade6833",
   "metadata": {},
   "outputs": [
    {
     "data": {
      "text/html": [
       "<div>\n",
       "<style scoped>\n",
       "    .dataframe tbody tr th:only-of-type {\n",
       "        vertical-align: middle;\n",
       "    }\n",
       "\n",
       "    .dataframe tbody tr th {\n",
       "        vertical-align: top;\n",
       "    }\n",
       "\n",
       "    .dataframe thead th {\n",
       "        text-align: right;\n",
       "    }\n",
       "</style>\n",
       "<table border=\"1\" class=\"dataframe\">\n",
       "  <thead>\n",
       "    <tr style=\"text-align: right;\">\n",
       "      <th></th>\n",
       "      <th>Index</th>\n",
       "      <th>Accident_Severity</th>\n",
       "      <th>Accident Date</th>\n",
       "      <th>Latitude</th>\n",
       "      <th>Light_Conditions</th>\n",
       "      <th>District Area</th>\n",
       "      <th>Longitude</th>\n",
       "      <th>Number_of_Casualties</th>\n",
       "      <th>Number_of_Vehicles</th>\n",
       "      <th>Road_Surface_Conditions</th>\n",
       "      <th>Road_Type</th>\n",
       "      <th>Urban_or_Rural_Area</th>\n",
       "      <th>Weather_Conditions</th>\n",
       "      <th>Vehicle_Type</th>\n",
       "    </tr>\n",
       "  </thead>\n",
       "  <tbody>\n",
       "    <tr>\n",
       "      <th>0</th>\n",
       "      <td>200701BS64157</td>\n",
       "      <td>Serious</td>\n",
       "      <td>5/6/2019</td>\n",
       "      <td>51.506187</td>\n",
       "      <td>Darkness - lights lit</td>\n",
       "      <td>Kensington and Chelsea</td>\n",
       "      <td>-0.209082</td>\n",
       "      <td>1</td>\n",
       "      <td>2</td>\n",
       "      <td>Dry</td>\n",
       "      <td>Single carriageway</td>\n",
       "      <td>Urban</td>\n",
       "      <td>Fine no high winds</td>\n",
       "      <td>Car</td>\n",
       "    </tr>\n",
       "    <tr>\n",
       "      <th>1</th>\n",
       "      <td>200701BS65737</td>\n",
       "      <td>Serious</td>\n",
       "      <td>2/7/2019</td>\n",
       "      <td>51.495029</td>\n",
       "      <td>Daylight</td>\n",
       "      <td>Kensington and Chelsea</td>\n",
       "      <td>-0.173647</td>\n",
       "      <td>1</td>\n",
       "      <td>2</td>\n",
       "      <td>Wet or damp</td>\n",
       "      <td>Single carriageway</td>\n",
       "      <td>Urban</td>\n",
       "      <td>Raining no high winds</td>\n",
       "      <td>Car</td>\n",
       "    </tr>\n",
       "    <tr>\n",
       "      <th>2</th>\n",
       "      <td>200701BS66127</td>\n",
       "      <td>Serious</td>\n",
       "      <td>26-08-2019</td>\n",
       "      <td>51.517715</td>\n",
       "      <td>Darkness - lighting unknown</td>\n",
       "      <td>Kensington and Chelsea</td>\n",
       "      <td>-0.210215</td>\n",
       "      <td>1</td>\n",
       "      <td>3</td>\n",
       "      <td>Dry</td>\n",
       "      <td>NaN</td>\n",
       "      <td>Urban</td>\n",
       "      <td>NaN</td>\n",
       "      <td>Taxi/Private hire car</td>\n",
       "    </tr>\n",
       "    <tr>\n",
       "      <th>3</th>\n",
       "      <td>200701BS66128</td>\n",
       "      <td>Serious</td>\n",
       "      <td>16-08-2019</td>\n",
       "      <td>51.495478</td>\n",
       "      <td>Daylight</td>\n",
       "      <td>Kensington and Chelsea</td>\n",
       "      <td>-0.202731</td>\n",
       "      <td>1</td>\n",
       "      <td>4</td>\n",
       "      <td>Dry</td>\n",
       "      <td>Single carriageway</td>\n",
       "      <td>Urban</td>\n",
       "      <td>Fine no high winds</td>\n",
       "      <td>Bus or coach (17 or more pass seats)</td>\n",
       "    </tr>\n",
       "    <tr>\n",
       "      <th>4</th>\n",
       "      <td>200701BS66837</td>\n",
       "      <td>Slight</td>\n",
       "      <td>3/9/2019</td>\n",
       "      <td>51.488576</td>\n",
       "      <td>Darkness - lights lit</td>\n",
       "      <td>Kensington and Chelsea</td>\n",
       "      <td>-0.192487</td>\n",
       "      <td>1</td>\n",
       "      <td>2</td>\n",
       "      <td>Dry</td>\n",
       "      <td>NaN</td>\n",
       "      <td>Urban</td>\n",
       "      <td>NaN</td>\n",
       "      <td>Other vehicle</td>\n",
       "    </tr>\n",
       "    <tr>\n",
       "      <th>...</th>\n",
       "      <td>...</td>\n",
       "      <td>...</td>\n",
       "      <td>...</td>\n",
       "      <td>...</td>\n",
       "      <td>...</td>\n",
       "      <td>...</td>\n",
       "      <td>...</td>\n",
       "      <td>...</td>\n",
       "      <td>...</td>\n",
       "      <td>...</td>\n",
       "      <td>...</td>\n",
       "      <td>...</td>\n",
       "      <td>...</td>\n",
       "      <td>...</td>\n",
       "    </tr>\n",
       "    <tr>\n",
       "      <th>660674</th>\n",
       "      <td>201091NM01760</td>\n",
       "      <td>Slight</td>\n",
       "      <td>18-02-2022</td>\n",
       "      <td>57.374005</td>\n",
       "      <td>Daylight</td>\n",
       "      <td>Highland</td>\n",
       "      <td>-3.467828</td>\n",
       "      <td>2</td>\n",
       "      <td>1</td>\n",
       "      <td>Dry</td>\n",
       "      <td>Single carriageway</td>\n",
       "      <td>Rural</td>\n",
       "      <td>Fine no high winds</td>\n",
       "      <td>Car</td>\n",
       "    </tr>\n",
       "    <tr>\n",
       "      <th>660675</th>\n",
       "      <td>201091NM01881</td>\n",
       "      <td>Slight</td>\n",
       "      <td>21-02-2022</td>\n",
       "      <td>57.232273</td>\n",
       "      <td>Darkness - no lighting</td>\n",
       "      <td>Highland</td>\n",
       "      <td>-3.809281</td>\n",
       "      <td>1</td>\n",
       "      <td>1</td>\n",
       "      <td>Frost or ice</td>\n",
       "      <td>Single carriageway</td>\n",
       "      <td>Rural</td>\n",
       "      <td>Fine no high winds</td>\n",
       "      <td>Car</td>\n",
       "    </tr>\n",
       "    <tr>\n",
       "      <th>660676</th>\n",
       "      <td>201091NM01935</td>\n",
       "      <td>Slight</td>\n",
       "      <td>23-02-2022</td>\n",
       "      <td>57.585044</td>\n",
       "      <td>Daylight</td>\n",
       "      <td>Highland</td>\n",
       "      <td>-3.862727</td>\n",
       "      <td>1</td>\n",
       "      <td>3</td>\n",
       "      <td>Frost or ice</td>\n",
       "      <td>Single carriageway</td>\n",
       "      <td>Rural</td>\n",
       "      <td>Fine no high winds</td>\n",
       "      <td>Car</td>\n",
       "    </tr>\n",
       "    <tr>\n",
       "      <th>660677</th>\n",
       "      <td>201091NM01964</td>\n",
       "      <td>Serious</td>\n",
       "      <td>23-02-2022</td>\n",
       "      <td>57.214898</td>\n",
       "      <td>Darkness - no lighting</td>\n",
       "      <td>Highland</td>\n",
       "      <td>-3.823997</td>\n",
       "      <td>1</td>\n",
       "      <td>2</td>\n",
       "      <td>Wet or damp</td>\n",
       "      <td>Single carriageway</td>\n",
       "      <td>Rural</td>\n",
       "      <td>Fine no high winds</td>\n",
       "      <td>Motorcycle over 500cc</td>\n",
       "    </tr>\n",
       "    <tr>\n",
       "      <th>660678</th>\n",
       "      <td>201091NM02142</td>\n",
       "      <td>Serious</td>\n",
       "      <td>28-02-2022</td>\n",
       "      <td>57.575210</td>\n",
       "      <td>Daylight</td>\n",
       "      <td>Highland</td>\n",
       "      <td>-3.895673</td>\n",
       "      <td>1</td>\n",
       "      <td>1</td>\n",
       "      <td>Wet or damp</td>\n",
       "      <td>Dual carriageway</td>\n",
       "      <td>Rural</td>\n",
       "      <td>Snowing no high winds</td>\n",
       "      <td>Car</td>\n",
       "    </tr>\n",
       "  </tbody>\n",
       "</table>\n",
       "<p>660679 rows × 14 columns</p>\n",
       "</div>"
      ],
      "text/plain": [
       "                Index Accident_Severity Accident Date   Latitude  \\\n",
       "0       200701BS64157           Serious      5/6/2019  51.506187   \n",
       "1       200701BS65737           Serious      2/7/2019  51.495029   \n",
       "2       200701BS66127           Serious    26-08-2019  51.517715   \n",
       "3       200701BS66128           Serious    16-08-2019  51.495478   \n",
       "4       200701BS66837            Slight      3/9/2019  51.488576   \n",
       "...               ...               ...           ...        ...   \n",
       "660674  201091NM01760            Slight    18-02-2022  57.374005   \n",
       "660675  201091NM01881            Slight    21-02-2022  57.232273   \n",
       "660676  201091NM01935            Slight    23-02-2022  57.585044   \n",
       "660677  201091NM01964           Serious    23-02-2022  57.214898   \n",
       "660678  201091NM02142           Serious    28-02-2022  57.575210   \n",
       "\n",
       "                   Light_Conditions           District Area  Longitude  \\\n",
       "0             Darkness - lights lit  Kensington and Chelsea  -0.209082   \n",
       "1                          Daylight  Kensington and Chelsea  -0.173647   \n",
       "2       Darkness - lighting unknown  Kensington and Chelsea  -0.210215   \n",
       "3                          Daylight  Kensington and Chelsea  -0.202731   \n",
       "4             Darkness - lights lit  Kensington and Chelsea  -0.192487   \n",
       "...                             ...                     ...        ...   \n",
       "660674                     Daylight                Highland  -3.467828   \n",
       "660675       Darkness - no lighting                Highland  -3.809281   \n",
       "660676                     Daylight                Highland  -3.862727   \n",
       "660677       Darkness - no lighting                Highland  -3.823997   \n",
       "660678                     Daylight                Highland  -3.895673   \n",
       "\n",
       "        Number_of_Casualties  Number_of_Vehicles Road_Surface_Conditions  \\\n",
       "0                          1                   2                     Dry   \n",
       "1                          1                   2             Wet or damp   \n",
       "2                          1                   3                     Dry   \n",
       "3                          1                   4                     Dry   \n",
       "4                          1                   2                     Dry   \n",
       "...                      ...                 ...                     ...   \n",
       "660674                     2                   1                     Dry   \n",
       "660675                     1                   1            Frost or ice   \n",
       "660676                     1                   3            Frost or ice   \n",
       "660677                     1                   2             Wet or damp   \n",
       "660678                     1                   1             Wet or damp   \n",
       "\n",
       "                 Road_Type Urban_or_Rural_Area     Weather_Conditions  \\\n",
       "0       Single carriageway               Urban     Fine no high winds   \n",
       "1       Single carriageway               Urban  Raining no high winds   \n",
       "2                      NaN               Urban                    NaN   \n",
       "3       Single carriageway               Urban     Fine no high winds   \n",
       "4                      NaN               Urban                    NaN   \n",
       "...                    ...                 ...                    ...   \n",
       "660674  Single carriageway               Rural     Fine no high winds   \n",
       "660675  Single carriageway               Rural     Fine no high winds   \n",
       "660676  Single carriageway               Rural     Fine no high winds   \n",
       "660677  Single carriageway               Rural     Fine no high winds   \n",
       "660678    Dual carriageway               Rural  Snowing no high winds   \n",
       "\n",
       "                                Vehicle_Type  \n",
       "0                                        Car  \n",
       "1                                        Car  \n",
       "2                      Taxi/Private hire car  \n",
       "3       Bus or coach (17 or more pass seats)  \n",
       "4                              Other vehicle  \n",
       "...                                      ...  \n",
       "660674                                   Car  \n",
       "660675                                   Car  \n",
       "660676                                   Car  \n",
       "660677                 Motorcycle over 500cc  \n",
       "660678                                   Car  \n",
       "\n",
       "[660679 rows x 14 columns]"
      ]
     },
     "execution_count": 3,
     "metadata": {},
     "output_type": "execute_result"
    }
   ],
   "source": [
    "accident"
   ]
  },
  {
   "cell_type": "code",
   "execution_count": 4,
   "id": "532aa944-3f2c-4a7f-a9b9-d55320e74ff0",
   "metadata": {},
   "outputs": [
    {
     "name": "stdout",
     "output_type": "stream",
     "text": [
      "<class 'pandas.core.frame.DataFrame'>\n",
      "RangeIndex: 660679 entries, 0 to 660678\n",
      "Data columns (total 14 columns):\n",
      " #   Column                   Non-Null Count   Dtype  \n",
      "---  ------                   --------------   -----  \n",
      " 0   Index                    660679 non-null  object \n",
      " 1   Accident_Severity        660679 non-null  object \n",
      " 2   Accident Date            660679 non-null  object \n",
      " 3   Latitude                 660654 non-null  float64\n",
      " 4   Light_Conditions         660679 non-null  object \n",
      " 5   District Area            660679 non-null  object \n",
      " 6   Longitude                660653 non-null  float64\n",
      " 7   Number_of_Casualties     660679 non-null  int64  \n",
      " 8   Number_of_Vehicles       660679 non-null  int64  \n",
      " 9   Road_Surface_Conditions  659953 non-null  object \n",
      " 10  Road_Type                656159 non-null  object \n",
      " 11  Urban_or_Rural_Area      660664 non-null  object \n",
      " 12  Weather_Conditions       646551 non-null  object \n",
      " 13  Vehicle_Type             660679 non-null  object \n",
      "dtypes: float64(2), int64(2), object(10)\n",
      "memory usage: 70.6+ MB\n"
     ]
    }
   ],
   "source": [
    "accident.info()"
   ]
  },
  {
   "cell_type": "code",
   "execution_count": 5,
   "id": "18d0d555-f06f-402a-b101-058a5dd72305",
   "metadata": {},
   "outputs": [
    {
     "data": {
      "text/html": [
       "<div>\n",
       "<style scoped>\n",
       "    .dataframe tbody tr th:only-of-type {\n",
       "        vertical-align: middle;\n",
       "    }\n",
       "\n",
       "    .dataframe tbody tr th {\n",
       "        vertical-align: top;\n",
       "    }\n",
       "\n",
       "    .dataframe thead th {\n",
       "        text-align: right;\n",
       "    }\n",
       "</style>\n",
       "<table border=\"1\" class=\"dataframe\">\n",
       "  <thead>\n",
       "    <tr style=\"text-align: right;\">\n",
       "      <th></th>\n",
       "      <th>Latitude</th>\n",
       "      <th>Longitude</th>\n",
       "      <th>Number_of_Casualties</th>\n",
       "      <th>Number_of_Vehicles</th>\n",
       "    </tr>\n",
       "  </thead>\n",
       "  <tbody>\n",
       "    <tr>\n",
       "      <th>count</th>\n",
       "      <td>660654.000000</td>\n",
       "      <td>660653.000000</td>\n",
       "      <td>660679.000000</td>\n",
       "      <td>660679.000000</td>\n",
       "    </tr>\n",
       "    <tr>\n",
       "      <th>mean</th>\n",
       "      <td>52.553866</td>\n",
       "      <td>-1.431210</td>\n",
       "      <td>1.357040</td>\n",
       "      <td>1.831255</td>\n",
       "    </tr>\n",
       "    <tr>\n",
       "      <th>std</th>\n",
       "      <td>1.406922</td>\n",
       "      <td>1.383330</td>\n",
       "      <td>0.824847</td>\n",
       "      <td>0.715269</td>\n",
       "    </tr>\n",
       "    <tr>\n",
       "      <th>min</th>\n",
       "      <td>49.914430</td>\n",
       "      <td>-7.516225</td>\n",
       "      <td>1.000000</td>\n",
       "      <td>1.000000</td>\n",
       "    </tr>\n",
       "    <tr>\n",
       "      <th>25%</th>\n",
       "      <td>51.490690</td>\n",
       "      <td>-2.332291</td>\n",
       "      <td>1.000000</td>\n",
       "      <td>1.000000</td>\n",
       "    </tr>\n",
       "    <tr>\n",
       "      <th>50%</th>\n",
       "      <td>52.315641</td>\n",
       "      <td>-1.411667</td>\n",
       "      <td>1.000000</td>\n",
       "      <td>2.000000</td>\n",
       "    </tr>\n",
       "    <tr>\n",
       "      <th>75%</th>\n",
       "      <td>53.453452</td>\n",
       "      <td>-0.232869</td>\n",
       "      <td>1.000000</td>\n",
       "      <td>2.000000</td>\n",
       "    </tr>\n",
       "    <tr>\n",
       "      <th>max</th>\n",
       "      <td>60.757544</td>\n",
       "      <td>1.762010</td>\n",
       "      <td>68.000000</td>\n",
       "      <td>32.000000</td>\n",
       "    </tr>\n",
       "  </tbody>\n",
       "</table>\n",
       "</div>"
      ],
      "text/plain": [
       "            Latitude      Longitude  Number_of_Casualties  Number_of_Vehicles\n",
       "count  660654.000000  660653.000000         660679.000000       660679.000000\n",
       "mean       52.553866      -1.431210              1.357040            1.831255\n",
       "std         1.406922       1.383330              0.824847            0.715269\n",
       "min        49.914430      -7.516225              1.000000            1.000000\n",
       "25%        51.490690      -2.332291              1.000000            1.000000\n",
       "50%        52.315641      -1.411667              1.000000            2.000000\n",
       "75%        53.453452      -0.232869              1.000000            2.000000\n",
       "max        60.757544       1.762010             68.000000           32.000000"
      ]
     },
     "execution_count": 5,
     "metadata": {},
     "output_type": "execute_result"
    }
   ],
   "source": [
    "accident.describe()"
   ]
  },
  {
   "cell_type": "code",
   "execution_count": 6,
   "id": "9b25d29f-70e4-44e3-a7e6-f4b2f7f06a4d",
   "metadata": {},
   "outputs": [
    {
     "data": {
      "text/html": [
       "<div>\n",
       "<style scoped>\n",
       "    .dataframe tbody tr th:only-of-type {\n",
       "        vertical-align: middle;\n",
       "    }\n",
       "\n",
       "    .dataframe tbody tr th {\n",
       "        vertical-align: top;\n",
       "    }\n",
       "\n",
       "    .dataframe thead th {\n",
       "        text-align: right;\n",
       "    }\n",
       "</style>\n",
       "<table border=\"1\" class=\"dataframe\">\n",
       "  <thead>\n",
       "    <tr style=\"text-align: right;\">\n",
       "      <th></th>\n",
       "      <th>count</th>\n",
       "      <th>mean</th>\n",
       "      <th>std</th>\n",
       "      <th>min</th>\n",
       "      <th>25%</th>\n",
       "      <th>50%</th>\n",
       "      <th>75%</th>\n",
       "      <th>max</th>\n",
       "    </tr>\n",
       "  </thead>\n",
       "  <tbody>\n",
       "    <tr>\n",
       "      <th>Latitude</th>\n",
       "      <td>660654.0</td>\n",
       "      <td>52.553866</td>\n",
       "      <td>1.406922</td>\n",
       "      <td>49.914430</td>\n",
       "      <td>51.490690</td>\n",
       "      <td>52.315641</td>\n",
       "      <td>53.453452</td>\n",
       "      <td>60.757544</td>\n",
       "    </tr>\n",
       "    <tr>\n",
       "      <th>Longitude</th>\n",
       "      <td>660653.0</td>\n",
       "      <td>-1.431210</td>\n",
       "      <td>1.383330</td>\n",
       "      <td>-7.516225</td>\n",
       "      <td>-2.332291</td>\n",
       "      <td>-1.411667</td>\n",
       "      <td>-0.232869</td>\n",
       "      <td>1.762010</td>\n",
       "    </tr>\n",
       "    <tr>\n",
       "      <th>Number_of_Casualties</th>\n",
       "      <td>660679.0</td>\n",
       "      <td>1.357040</td>\n",
       "      <td>0.824847</td>\n",
       "      <td>1.000000</td>\n",
       "      <td>1.000000</td>\n",
       "      <td>1.000000</td>\n",
       "      <td>1.000000</td>\n",
       "      <td>68.000000</td>\n",
       "    </tr>\n",
       "    <tr>\n",
       "      <th>Number_of_Vehicles</th>\n",
       "      <td>660679.0</td>\n",
       "      <td>1.831255</td>\n",
       "      <td>0.715269</td>\n",
       "      <td>1.000000</td>\n",
       "      <td>1.000000</td>\n",
       "      <td>2.000000</td>\n",
       "      <td>2.000000</td>\n",
       "      <td>32.000000</td>\n",
       "    </tr>\n",
       "  </tbody>\n",
       "</table>\n",
       "</div>"
      ],
      "text/plain": [
       "                         count       mean       std        min        25%  \\\n",
       "Latitude              660654.0  52.553866  1.406922  49.914430  51.490690   \n",
       "Longitude             660653.0  -1.431210  1.383330  -7.516225  -2.332291   \n",
       "Number_of_Casualties  660679.0   1.357040  0.824847   1.000000   1.000000   \n",
       "Number_of_Vehicles    660679.0   1.831255  0.715269   1.000000   1.000000   \n",
       "\n",
       "                            50%        75%        max  \n",
       "Latitude              52.315641  53.453452  60.757544  \n",
       "Longitude             -1.411667  -0.232869   1.762010  \n",
       "Number_of_Casualties   1.000000   1.000000  68.000000  \n",
       "Number_of_Vehicles     2.000000   2.000000  32.000000  "
      ]
     },
     "execution_count": 6,
     "metadata": {},
     "output_type": "execute_result"
    }
   ],
   "source": [
    "accident.describe().T"
   ]
  },
  {
   "cell_type": "code",
   "execution_count": 7,
   "id": "f840d41c-7c46-48d2-a2a5-0f370dd1cf6b",
   "metadata": {},
   "outputs": [
    {
     "data": {
      "text/plain": [
       "Index                          0\n",
       "Accident_Severity              0\n",
       "Accident Date                  0\n",
       "Latitude                      25\n",
       "Light_Conditions               0\n",
       "District Area                  0\n",
       "Longitude                     26\n",
       "Number_of_Casualties           0\n",
       "Number_of_Vehicles             0\n",
       "Road_Surface_Conditions      726\n",
       "Road_Type                   4520\n",
       "Urban_or_Rural_Area           15\n",
       "Weather_Conditions         14128\n",
       "Vehicle_Type                   0\n",
       "dtype: int64"
      ]
     },
     "execution_count": 7,
     "metadata": {},
     "output_type": "execute_result"
    }
   ],
   "source": [
    "accident.isnull().sum()"
   ]
  },
  {
   "cell_type": "code",
   "execution_count": null,
   "id": "c6eedd7f-4598-4872-b16a-356c6a93fe26",
   "metadata": {},
   "outputs": [],
   "source": []
  },
  {
   "cell_type": "code",
   "execution_count": 8,
   "id": "5a1fa2bd-93ee-4903-8b66-91c6ee88de1f",
   "metadata": {},
   "outputs": [],
   "source": [
    "accident['Latitude'] = accident['Latitude'].fillna(accident['Latitude'].mode()[0])"
   ]
  },
  {
   "cell_type": "code",
   "execution_count": 9,
   "id": "458cdee2-e5f9-41b7-b588-4c6e8aaa423e",
   "metadata": {},
   "outputs": [],
   "source": [
    "accident['Longitude'] = accident['Longitude'].fillna(accident['Longitude'].mode()[0])"
   ]
  },
  {
   "cell_type": "code",
   "execution_count": 10,
   "id": "0da94b74-23a2-4612-aa0f-61059a2e3a09",
   "metadata": {},
   "outputs": [],
   "source": [
    "accident['Weather_Conditions'] = accident['Weather_Conditions'].fillna('unacounted')"
   ]
  },
  {
   "cell_type": "code",
   "execution_count": 11,
   "id": "ea895234-9ab3-4fe6-8c96-a51c73e353fa",
   "metadata": {},
   "outputs": [],
   "source": [
    "accident['Road_Surface_Conditions'] = accident['Road_Surface_Conditions'].fillna(accident['Road_Surface_Conditions'].mode()[0])"
   ]
  },
  {
   "cell_type": "code",
   "execution_count": 12,
   "id": "10b301a5-6531-4438-ab95-1090149cee82",
   "metadata": {},
   "outputs": [],
   "source": [
    "accident['Road_Type'] = accident['Road_Type'].fillna('unknown')"
   ]
  },
  {
   "cell_type": "code",
   "execution_count": 13,
   "id": "cf8c64aa-bc40-4081-ae09-a197f7dac151",
   "metadata": {},
   "outputs": [],
   "source": [
    "accident['Urban_or_Rural_Area'] = accident['Urban_or_Rural_Area'].fillna(accident['Urban_or_Rural_Area'].mode()[0])"
   ]
  },
  {
   "cell_type": "code",
   "execution_count": 14,
   "id": "644734da-3d7a-4c83-a2f0-dc3d383ccba1",
   "metadata": {},
   "outputs": [],
   "source": [
    "accident['Accident Date'] = accident['Accident Date'].fillna(accident['Accident Date'].mode()[0])"
   ]
  },
  {
   "cell_type": "code",
   "execution_count": 15,
   "id": "4d58b1d7-d252-409f-8196-c3e4004acee0",
   "metadata": {},
   "outputs": [
    {
     "data": {
      "text/plain": [
       "Index                      0\n",
       "Accident_Severity          0\n",
       "Accident Date              0\n",
       "Latitude                   0\n",
       "Light_Conditions           0\n",
       "District Area              0\n",
       "Longitude                  0\n",
       "Number_of_Casualties       0\n",
       "Number_of_Vehicles         0\n",
       "Road_Surface_Conditions    0\n",
       "Road_Type                  0\n",
       "Urban_or_Rural_Area        0\n",
       "Weather_Conditions         0\n",
       "Vehicle_Type               0\n",
       "dtype: int64"
      ]
     },
     "execution_count": 15,
     "metadata": {},
     "output_type": "execute_result"
    }
   ],
   "source": [
    "accident.isnull().sum()"
   ]
  },
  {
   "cell_type": "code",
   "execution_count": 16,
   "id": "c96eaf85-c6c6-4b9a-bd28-7932d77917fe",
   "metadata": {},
   "outputs": [
    {
     "name": "stdout",
     "output_type": "stream",
     "text": [
      "<class 'pandas.core.frame.DataFrame'>\n",
      "RangeIndex: 660679 entries, 0 to 660678\n",
      "Data columns (total 14 columns):\n",
      " #   Column                   Non-Null Count   Dtype  \n",
      "---  ------                   --------------   -----  \n",
      " 0   Index                    660679 non-null  object \n",
      " 1   Accident_Severity        660679 non-null  object \n",
      " 2   Accident Date            660679 non-null  object \n",
      " 3   Latitude                 660679 non-null  float64\n",
      " 4   Light_Conditions         660679 non-null  object \n",
      " 5   District Area            660679 non-null  object \n",
      " 6   Longitude                660679 non-null  float64\n",
      " 7   Number_of_Casualties     660679 non-null  int64  \n",
      " 8   Number_of_Vehicles       660679 non-null  int64  \n",
      " 9   Road_Surface_Conditions  660679 non-null  object \n",
      " 10  Road_Type                660679 non-null  object \n",
      " 11  Urban_or_Rural_Area      660679 non-null  object \n",
      " 12  Weather_Conditions       660679 non-null  object \n",
      " 13  Vehicle_Type             660679 non-null  object \n",
      "dtypes: float64(2), int64(2), object(10)\n",
      "memory usage: 70.6+ MB\n"
     ]
    }
   ],
   "source": [
    "accident.info()"
   ]
  },
  {
   "cell_type": "code",
   "execution_count": 17,
   "id": "ae0c8202-a80c-403b-acfe-6ecfe7ffd2bf",
   "metadata": {},
   "outputs": [],
   "source": [
    "accident['Index'] = accident['Index'].astype('category')"
   ]
  },
  {
   "cell_type": "code",
   "execution_count": 18,
   "id": "d2173eb6-da19-4f0e-aca3-3a166681c277",
   "metadata": {},
   "outputs": [],
   "source": [
    "accident['Accident_Severity'] = accident['Accident_Severity'].astype('category')"
   ]
  },
  {
   "cell_type": "code",
   "execution_count": 19,
   "id": "a94f6816-f806-4ddc-897f-f3c89c0fefc5",
   "metadata": {},
   "outputs": [],
   "source": [
    "accident['Accident Date'] = pd.to_datetime(accident['Accident Date'], dayfirst = True, errors = 'coerce')"
   ]
  },
  {
   "cell_type": "code",
   "execution_count": 20,
   "id": "d7ed40c9-23be-4641-addd-d9dc588c52d8",
   "metadata": {},
   "outputs": [],
   "source": [
    "accident['Light_Conditions'] = accident['Light_Conditions'].astype('category')"
   ]
  },
  {
   "cell_type": "code",
   "execution_count": 21,
   "id": "6f850115-e919-42c8-860f-155f1b722b77",
   "metadata": {},
   "outputs": [],
   "source": [
    "accident['District Area'] = accident['District Area'].astype('category')"
   ]
  },
  {
   "cell_type": "code",
   "execution_count": 22,
   "id": "9a24da82-6dbc-427d-b07b-73de604a45ba",
   "metadata": {},
   "outputs": [],
   "source": [
    "accident['Road_Surface_Conditions'] = accident['Road_Surface_Conditions'].astype('category')"
   ]
  },
  {
   "cell_type": "code",
   "execution_count": 23,
   "id": "bd83fca1-ec8a-4784-bd39-9ae150c56911",
   "metadata": {},
   "outputs": [],
   "source": [
    "accident['Road_Type'] = accident['Road_Type'].astype('category')"
   ]
  },
  {
   "cell_type": "code",
   "execution_count": 24,
   "id": "0e281a6f-5899-41d4-a320-bace950c0a49",
   "metadata": {},
   "outputs": [],
   "source": [
    "accident['Urban_or_Rural_Area'] = accident['Urban_or_Rural_Area'].astype('category')"
   ]
  },
  {
   "cell_type": "code",
   "execution_count": 25,
   "id": "a62d5753-a82f-4190-be8d-12afefc31c55",
   "metadata": {},
   "outputs": [],
   "source": [
    "accident['Weather_Conditions'] = accident['Weather_Conditions'].astype('category')"
   ]
  },
  {
   "cell_type": "code",
   "execution_count": 26,
   "id": "33dfca70-663a-4d18-81c8-543cb1447fe1",
   "metadata": {},
   "outputs": [],
   "source": [
    "accident['Vehicle_Type'] = accident['Vehicle_Type'].astype('category')"
   ]
  },
  {
   "cell_type": "code",
   "execution_count": 27,
   "id": "31c65b54-9619-4062-9dde-b8135c7030b1",
   "metadata": {},
   "outputs": [
    {
     "name": "stdout",
     "output_type": "stream",
     "text": [
      "<class 'pandas.core.frame.DataFrame'>\n",
      "RangeIndex: 660679 entries, 0 to 660678\n",
      "Data columns (total 14 columns):\n",
      " #   Column                   Non-Null Count   Dtype         \n",
      "---  ------                   --------------   -----         \n",
      " 0   Index                    660679 non-null  category      \n",
      " 1   Accident_Severity        660679 non-null  category      \n",
      " 2   Accident Date            265007 non-null  datetime64[ns]\n",
      " 3   Latitude                 660679 non-null  float64       \n",
      " 4   Light_Conditions         660679 non-null  category      \n",
      " 5   District Area            660679 non-null  category      \n",
      " 6   Longitude                660679 non-null  float64       \n",
      " 7   Number_of_Casualties     660679 non-null  int64         \n",
      " 8   Number_of_Vehicles       660679 non-null  int64         \n",
      " 9   Road_Surface_Conditions  660679 non-null  category      \n",
      " 10  Road_Type                660679 non-null  category      \n",
      " 11  Urban_or_Rural_Area      660679 non-null  category      \n",
      " 12  Weather_Conditions       660679 non-null  category      \n",
      " 13  Vehicle_Type             660679 non-null  category      \n",
      "dtypes: category(9), datetime64[ns](1), float64(2), int64(2)\n",
      "memory usage: 52.8 MB\n"
     ]
    }
   ],
   "source": [
    "accident.info()"
   ]
  },
  {
   "cell_type": "markdown",
   "id": "83cee8af-4cf7-40ab-8568-d7baf46eeb2f",
   "metadata": {},
   "source": [
    "<h1>Creating insights</h1>"
   ]
  },
  {
   "cell_type": "code",
   "execution_count": 28,
   "id": "eb37a8ec-55b6-4dc5-a387-2b901edefa4e",
   "metadata": {},
   "outputs": [
    {
     "data": {
      "text/html": [
       "<div>\n",
       "<style scoped>\n",
       "    .dataframe tbody tr th:only-of-type {\n",
       "        vertical-align: middle;\n",
       "    }\n",
       "\n",
       "    .dataframe tbody tr th {\n",
       "        vertical-align: top;\n",
       "    }\n",
       "\n",
       "    .dataframe thead th {\n",
       "        text-align: right;\n",
       "    }\n",
       "</style>\n",
       "<table border=\"1\" class=\"dataframe\">\n",
       "  <thead>\n",
       "    <tr style=\"text-align: right;\">\n",
       "      <th></th>\n",
       "      <th>Index</th>\n",
       "      <th>Accident_Severity</th>\n",
       "      <th>Accident Date</th>\n",
       "      <th>Latitude</th>\n",
       "      <th>Light_Conditions</th>\n",
       "      <th>District Area</th>\n",
       "      <th>Longitude</th>\n",
       "      <th>Number_of_Casualties</th>\n",
       "      <th>Number_of_Vehicles</th>\n",
       "      <th>Road_Surface_Conditions</th>\n",
       "      <th>Road_Type</th>\n",
       "      <th>Urban_or_Rural_Area</th>\n",
       "      <th>Weather_Conditions</th>\n",
       "      <th>Vehicle_Type</th>\n",
       "    </tr>\n",
       "  </thead>\n",
       "  <tbody>\n",
       "    <tr>\n",
       "      <th>0</th>\n",
       "      <td>200701BS64157</td>\n",
       "      <td>Serious</td>\n",
       "      <td>2019-06-05</td>\n",
       "      <td>51.506187</td>\n",
       "      <td>Darkness - lights lit</td>\n",
       "      <td>Kensington and Chelsea</td>\n",
       "      <td>-0.209082</td>\n",
       "      <td>1</td>\n",
       "      <td>2</td>\n",
       "      <td>Dry</td>\n",
       "      <td>Single carriageway</td>\n",
       "      <td>Urban</td>\n",
       "      <td>Fine no high winds</td>\n",
       "      <td>Car</td>\n",
       "    </tr>\n",
       "    <tr>\n",
       "      <th>1</th>\n",
       "      <td>200701BS65737</td>\n",
       "      <td>Serious</td>\n",
       "      <td>2019-07-02</td>\n",
       "      <td>51.495029</td>\n",
       "      <td>Daylight</td>\n",
       "      <td>Kensington and Chelsea</td>\n",
       "      <td>-0.173647</td>\n",
       "      <td>1</td>\n",
       "      <td>2</td>\n",
       "      <td>Wet or damp</td>\n",
       "      <td>Single carriageway</td>\n",
       "      <td>Urban</td>\n",
       "      <td>Raining no high winds</td>\n",
       "      <td>Car</td>\n",
       "    </tr>\n",
       "    <tr>\n",
       "      <th>2</th>\n",
       "      <td>200701BS66127</td>\n",
       "      <td>Serious</td>\n",
       "      <td>NaT</td>\n",
       "      <td>51.517715</td>\n",
       "      <td>Darkness - lighting unknown</td>\n",
       "      <td>Kensington and Chelsea</td>\n",
       "      <td>-0.210215</td>\n",
       "      <td>1</td>\n",
       "      <td>3</td>\n",
       "      <td>Dry</td>\n",
       "      <td>unknown</td>\n",
       "      <td>Urban</td>\n",
       "      <td>unacounted</td>\n",
       "      <td>Taxi/Private hire car</td>\n",
       "    </tr>\n",
       "    <tr>\n",
       "      <th>3</th>\n",
       "      <td>200701BS66128</td>\n",
       "      <td>Serious</td>\n",
       "      <td>NaT</td>\n",
       "      <td>51.495478</td>\n",
       "      <td>Daylight</td>\n",
       "      <td>Kensington and Chelsea</td>\n",
       "      <td>-0.202731</td>\n",
       "      <td>1</td>\n",
       "      <td>4</td>\n",
       "      <td>Dry</td>\n",
       "      <td>Single carriageway</td>\n",
       "      <td>Urban</td>\n",
       "      <td>Fine no high winds</td>\n",
       "      <td>Bus or coach (17 or more pass seats)</td>\n",
       "    </tr>\n",
       "    <tr>\n",
       "      <th>4</th>\n",
       "      <td>200701BS66837</td>\n",
       "      <td>Slight</td>\n",
       "      <td>2019-09-03</td>\n",
       "      <td>51.488576</td>\n",
       "      <td>Darkness - lights lit</td>\n",
       "      <td>Kensington and Chelsea</td>\n",
       "      <td>-0.192487</td>\n",
       "      <td>1</td>\n",
       "      <td>2</td>\n",
       "      <td>Dry</td>\n",
       "      <td>unknown</td>\n",
       "      <td>Urban</td>\n",
       "      <td>unacounted</td>\n",
       "      <td>Other vehicle</td>\n",
       "    </tr>\n",
       "    <tr>\n",
       "      <th>...</th>\n",
       "      <td>...</td>\n",
       "      <td>...</td>\n",
       "      <td>...</td>\n",
       "      <td>...</td>\n",
       "      <td>...</td>\n",
       "      <td>...</td>\n",
       "      <td>...</td>\n",
       "      <td>...</td>\n",
       "      <td>...</td>\n",
       "      <td>...</td>\n",
       "      <td>...</td>\n",
       "      <td>...</td>\n",
       "      <td>...</td>\n",
       "      <td>...</td>\n",
       "    </tr>\n",
       "    <tr>\n",
       "      <th>660674</th>\n",
       "      <td>201091NM01760</td>\n",
       "      <td>Slight</td>\n",
       "      <td>NaT</td>\n",
       "      <td>57.374005</td>\n",
       "      <td>Daylight</td>\n",
       "      <td>Highland</td>\n",
       "      <td>-3.467828</td>\n",
       "      <td>2</td>\n",
       "      <td>1</td>\n",
       "      <td>Dry</td>\n",
       "      <td>Single carriageway</td>\n",
       "      <td>Rural</td>\n",
       "      <td>Fine no high winds</td>\n",
       "      <td>Car</td>\n",
       "    </tr>\n",
       "    <tr>\n",
       "      <th>660675</th>\n",
       "      <td>201091NM01881</td>\n",
       "      <td>Slight</td>\n",
       "      <td>NaT</td>\n",
       "      <td>57.232273</td>\n",
       "      <td>Darkness - no lighting</td>\n",
       "      <td>Highland</td>\n",
       "      <td>-3.809281</td>\n",
       "      <td>1</td>\n",
       "      <td>1</td>\n",
       "      <td>Frost or ice</td>\n",
       "      <td>Single carriageway</td>\n",
       "      <td>Rural</td>\n",
       "      <td>Fine no high winds</td>\n",
       "      <td>Car</td>\n",
       "    </tr>\n",
       "    <tr>\n",
       "      <th>660676</th>\n",
       "      <td>201091NM01935</td>\n",
       "      <td>Slight</td>\n",
       "      <td>NaT</td>\n",
       "      <td>57.585044</td>\n",
       "      <td>Daylight</td>\n",
       "      <td>Highland</td>\n",
       "      <td>-3.862727</td>\n",
       "      <td>1</td>\n",
       "      <td>3</td>\n",
       "      <td>Frost or ice</td>\n",
       "      <td>Single carriageway</td>\n",
       "      <td>Rural</td>\n",
       "      <td>Fine no high winds</td>\n",
       "      <td>Car</td>\n",
       "    </tr>\n",
       "    <tr>\n",
       "      <th>660677</th>\n",
       "      <td>201091NM01964</td>\n",
       "      <td>Serious</td>\n",
       "      <td>NaT</td>\n",
       "      <td>57.214898</td>\n",
       "      <td>Darkness - no lighting</td>\n",
       "      <td>Highland</td>\n",
       "      <td>-3.823997</td>\n",
       "      <td>1</td>\n",
       "      <td>2</td>\n",
       "      <td>Wet or damp</td>\n",
       "      <td>Single carriageway</td>\n",
       "      <td>Rural</td>\n",
       "      <td>Fine no high winds</td>\n",
       "      <td>Motorcycle over 500cc</td>\n",
       "    </tr>\n",
       "    <tr>\n",
       "      <th>660678</th>\n",
       "      <td>201091NM02142</td>\n",
       "      <td>Serious</td>\n",
       "      <td>NaT</td>\n",
       "      <td>57.575210</td>\n",
       "      <td>Daylight</td>\n",
       "      <td>Highland</td>\n",
       "      <td>-3.895673</td>\n",
       "      <td>1</td>\n",
       "      <td>1</td>\n",
       "      <td>Wet or damp</td>\n",
       "      <td>Dual carriageway</td>\n",
       "      <td>Rural</td>\n",
       "      <td>Snowing no high winds</td>\n",
       "      <td>Car</td>\n",
       "    </tr>\n",
       "  </tbody>\n",
       "</table>\n",
       "<p>660679 rows × 14 columns</p>\n",
       "</div>"
      ],
      "text/plain": [
       "                Index Accident_Severity Accident Date   Latitude  \\\n",
       "0       200701BS64157           Serious    2019-06-05  51.506187   \n",
       "1       200701BS65737           Serious    2019-07-02  51.495029   \n",
       "2       200701BS66127           Serious           NaT  51.517715   \n",
       "3       200701BS66128           Serious           NaT  51.495478   \n",
       "4       200701BS66837            Slight    2019-09-03  51.488576   \n",
       "...               ...               ...           ...        ...   \n",
       "660674  201091NM01760            Slight           NaT  57.374005   \n",
       "660675  201091NM01881            Slight           NaT  57.232273   \n",
       "660676  201091NM01935            Slight           NaT  57.585044   \n",
       "660677  201091NM01964           Serious           NaT  57.214898   \n",
       "660678  201091NM02142           Serious           NaT  57.575210   \n",
       "\n",
       "                   Light_Conditions           District Area  Longitude  \\\n",
       "0             Darkness - lights lit  Kensington and Chelsea  -0.209082   \n",
       "1                          Daylight  Kensington and Chelsea  -0.173647   \n",
       "2       Darkness - lighting unknown  Kensington and Chelsea  -0.210215   \n",
       "3                          Daylight  Kensington and Chelsea  -0.202731   \n",
       "4             Darkness - lights lit  Kensington and Chelsea  -0.192487   \n",
       "...                             ...                     ...        ...   \n",
       "660674                     Daylight                Highland  -3.467828   \n",
       "660675       Darkness - no lighting                Highland  -3.809281   \n",
       "660676                     Daylight                Highland  -3.862727   \n",
       "660677       Darkness - no lighting                Highland  -3.823997   \n",
       "660678                     Daylight                Highland  -3.895673   \n",
       "\n",
       "        Number_of_Casualties  Number_of_Vehicles Road_Surface_Conditions  \\\n",
       "0                          1                   2                     Dry   \n",
       "1                          1                   2             Wet or damp   \n",
       "2                          1                   3                     Dry   \n",
       "3                          1                   4                     Dry   \n",
       "4                          1                   2                     Dry   \n",
       "...                      ...                 ...                     ...   \n",
       "660674                     2                   1                     Dry   \n",
       "660675                     1                   1            Frost or ice   \n",
       "660676                     1                   3            Frost or ice   \n",
       "660677                     1                   2             Wet or damp   \n",
       "660678                     1                   1             Wet or damp   \n",
       "\n",
       "                 Road_Type Urban_or_Rural_Area     Weather_Conditions  \\\n",
       "0       Single carriageway               Urban     Fine no high winds   \n",
       "1       Single carriageway               Urban  Raining no high winds   \n",
       "2                  unknown               Urban             unacounted   \n",
       "3       Single carriageway               Urban     Fine no high winds   \n",
       "4                  unknown               Urban             unacounted   \n",
       "...                    ...                 ...                    ...   \n",
       "660674  Single carriageway               Rural     Fine no high winds   \n",
       "660675  Single carriageway               Rural     Fine no high winds   \n",
       "660676  Single carriageway               Rural     Fine no high winds   \n",
       "660677  Single carriageway               Rural     Fine no high winds   \n",
       "660678    Dual carriageway               Rural  Snowing no high winds   \n",
       "\n",
       "                                Vehicle_Type  \n",
       "0                                        Car  \n",
       "1                                        Car  \n",
       "2                      Taxi/Private hire car  \n",
       "3       Bus or coach (17 or more pass seats)  \n",
       "4                              Other vehicle  \n",
       "...                                      ...  \n",
       "660674                                   Car  \n",
       "660675                                   Car  \n",
       "660676                                   Car  \n",
       "660677                 Motorcycle over 500cc  \n",
       "660678                                   Car  \n",
       "\n",
       "[660679 rows x 14 columns]"
      ]
     },
     "execution_count": 28,
     "metadata": {},
     "output_type": "execute_result"
    }
   ],
   "source": [
    "accident"
   ]
  },
  {
   "cell_type": "markdown",
   "id": "33e11fea-15d9-4e9b-8bdc-3d7aa1d1c0ba",
   "metadata": {},
   "source": [
    "<h1>Extracting date information using pandas date time</h1>"
   ]
  },
  {
   "cell_type": "code",
   "execution_count": 29,
   "id": "3cc29e75-b3f2-4870-b9de-6bae8669e281",
   "metadata": {},
   "outputs": [],
   "source": [
    "accident['Year'] = accident['Accident Date'].dt.year\n",
    "accident['Month'] = accident['Accident Date'].dt.month\n",
    "accident['Day'] = accident['Accident Date'].dt.day\n",
    "accident['DayOfWeek'] = accident['Accident Date'].dt.dayofweek\n"
   ]
  },
  {
   "cell_type": "code",
   "execution_count": 30,
   "id": "3330b735-ef90-408d-9789-4f7955898f16",
   "metadata": {},
   "outputs": [
    {
     "data": {
      "text/plain": [
       "Index                           0\n",
       "Accident_Severity               0\n",
       "Accident Date              395672\n",
       "Latitude                        0\n",
       "Light_Conditions                0\n",
       "District Area                   0\n",
       "Longitude                       0\n",
       "Number_of_Casualties            0\n",
       "Number_of_Vehicles              0\n",
       "Road_Surface_Conditions         0\n",
       "Road_Type                       0\n",
       "Urban_or_Rural_Area             0\n",
       "Weather_Conditions              0\n",
       "Vehicle_Type                    0\n",
       "Year                       395672\n",
       "Month                      395672\n",
       "Day                        395672\n",
       "DayOfWeek                  395672\n",
       "dtype: int64"
      ]
     },
     "execution_count": 30,
     "metadata": {},
     "output_type": "execute_result"
    }
   ],
   "source": [
    "accident.isnull().sum()"
   ]
  },
  {
   "cell_type": "code",
   "execution_count": 31,
   "id": "8f977a22-beeb-4d7e-8490-22f6003e332a",
   "metadata": {},
   "outputs": [],
   "source": [
    "accident['Year'] = accident['Year'].fillna(accident['Year'].mode()[0])"
   ]
  },
  {
   "cell_type": "code",
   "execution_count": 32,
   "id": "aff95a01-1369-496e-8828-0a83b650d53d",
   "metadata": {},
   "outputs": [],
   "source": [
    "accident['Month'] = accident['Month'].fillna(accident['Month'].mode()[0])"
   ]
  },
  {
   "cell_type": "code",
   "execution_count": 33,
   "id": "8e307fca-84c7-4a72-b7e5-6d5b7bdab3b1",
   "metadata": {},
   "outputs": [],
   "source": [
    "accident['Day'] = accident['Day'].fillna(accident['Day'].mode()[0])"
   ]
  },
  {
   "cell_type": "code",
   "execution_count": 34,
   "id": "d3ba3d38-e261-402a-8afc-be0930c86943",
   "metadata": {},
   "outputs": [],
   "source": [
    "accident['DayOfWeek'] = accident['DayOfWeek'].fillna(accident['DayOfWeek'].mode()[0])"
   ]
  },
  {
   "cell_type": "code",
   "execution_count": 35,
   "id": "30da4189-b4a1-4781-8eaa-2e9363ec1536",
   "metadata": {},
   "outputs": [],
   "source": [
    "accident['Accident Date'] = accident['Accident Date'].fillna(accident['Accident Date'].mode()[0])"
   ]
  },
  {
   "cell_type": "code",
   "execution_count": 36,
   "id": "80a16e95-d341-4959-9e74-09bdce2c83b0",
   "metadata": {},
   "outputs": [
    {
     "data": {
      "text/plain": [
       "Index                      0\n",
       "Accident_Severity          0\n",
       "Accident Date              0\n",
       "Latitude                   0\n",
       "Light_Conditions           0\n",
       "District Area              0\n",
       "Longitude                  0\n",
       "Number_of_Casualties       0\n",
       "Number_of_Vehicles         0\n",
       "Road_Surface_Conditions    0\n",
       "Road_Type                  0\n",
       "Urban_or_Rural_Area        0\n",
       "Weather_Conditions         0\n",
       "Vehicle_Type               0\n",
       "Year                       0\n",
       "Month                      0\n",
       "Day                        0\n",
       "DayOfWeek                  0\n",
       "dtype: int64"
      ]
     },
     "execution_count": 36,
     "metadata": {},
     "output_type": "execute_result"
    }
   ],
   "source": [
    "accident.isnull().sum()"
   ]
  },
  {
   "cell_type": "markdown",
   "id": "e65eb065-3ee1-41c4-b640-374b0ddfd34f",
   "metadata": {},
   "source": [
    "<h1>Univariate</h1>"
   ]
  },
  {
   "cell_type": "markdown",
   "id": "ab3ac6ad-0c23-4ae4-916d-98014d8ff6c6",
   "metadata": {},
   "source": [
    "<h1>How many accident happent unser light condition in 2019?</h1>"
   ]
  },
  {
   "cell_type": "code",
   "execution_count": 37,
   "id": "8ad03c0f-d461-4a69-b939-c620db3647f9",
   "metadata": {},
   "outputs": [
    {
     "data": {
      "text/plain": [
       "0         False\n",
       "1         False\n",
       "2         False\n",
       "3         False\n",
       "4         False\n",
       "          ...  \n",
       "660674    False\n",
       "660675    False\n",
       "660676    False\n",
       "660677    False\n",
       "660678    False\n",
       "Name: Year, Length: 660679, dtype: bool"
      ]
     },
     "execution_count": 37,
     "metadata": {},
     "output_type": "execute_result"
    }
   ],
   "source": [
    "accident['Year'] == 2020"
   ]
  },
  {
   "cell_type": "code",
   "execution_count": 38,
   "id": "872e3514-a2c8-40be-a2de-04da6eeb123f",
   "metadata": {},
   "outputs": [],
   "source": [
    "df_2019 = accident[accident['Year'] == 2019]"
   ]
  },
  {
   "cell_type": "code",
   "execution_count": 39,
   "id": "3baff33c-e05b-4486-9347-c3c2173620fc",
   "metadata": {},
   "outputs": [
    {
     "data": {
      "text/plain": [
       "467539"
      ]
     },
     "execution_count": 39,
     "metadata": {},
     "output_type": "execute_result"
    }
   ],
   "source": [
    "df_2019['Light_Conditions'].value_counts().sum()"
   ]
  },
  {
   "cell_type": "code",
   "execution_count": 40,
   "id": "ae6d05ad-29fe-4d41-909d-6bfb973a6828",
   "metadata": {},
   "outputs": [
    {
     "data": {
      "text/plain": [
       "Light_Conditions\n",
       "Daylight                       342427\n",
       "Darkness - lights lit           91917\n",
       "Darkness - no lighting          26794\n",
       "Darkness - lighting unknown      4613\n",
       "Darkness - lights unlit          1788\n",
       "Name: count, dtype: int64"
      ]
     },
     "execution_count": 40,
     "metadata": {},
     "output_type": "execute_result"
    }
   ],
   "source": [
    "df_2019['Light_Conditions'].value_counts()"
   ]
  },
  {
   "cell_type": "markdown",
   "id": "ae4c286a-c347-4f5b-932c-67a5d693eeb2",
   "metadata": {},
   "source": [
    "<h1>insight #1</h1>\n",
    "<h2>There are 73.07% of accident happen on Daylight condition on 2019</h2>"
   ]
  },
  {
   "cell_type": "code",
   "execution_count": 41,
   "id": "9b82ea8a-6750-486a-9fce-3e3108171605",
   "metadata": {},
   "outputs": [],
   "source": [
    "df_2019 = accident[accident['Year'] == 2020]"
   ]
  },
  {
   "cell_type": "code",
   "execution_count": 42,
   "id": "902e4422-b342-4ede-877e-9eac269c0e8e",
   "metadata": {},
   "outputs": [
    {
     "data": {
      "text/plain": [
       "70163"
      ]
     },
     "execution_count": 42,
     "metadata": {},
     "output_type": "execute_result"
    }
   ],
   "source": [
    "df_2019['Light_Conditions'].value_counts().sum()"
   ]
  },
  {
   "cell_type": "code",
   "execution_count": 43,
   "id": "066d58cb-3289-4d6e-9711-798ac2a54c57",
   "metadata": {},
   "outputs": [
    {
     "data": {
      "text/plain": [
       "Light_Conditions\n",
       "Daylight                       51605\n",
       "Darkness - lights lit          13467\n",
       "Darkness - no lighting          4085\n",
       "Darkness - lighting unknown      717\n",
       "Darkness - lights unlit          289\n",
       "Name: count, dtype: int64"
      ]
     },
     "execution_count": 43,
     "metadata": {},
     "output_type": "execute_result"
    }
   ],
   "source": [
    "df_2019['Light_Conditions'].value_counts()"
   ]
  },
  {
   "cell_type": "markdown",
   "id": "237bf2b0-5a01-481a-b905-f5e0897d945d",
   "metadata": {},
   "source": [
    "<h2>Insight #2</h2>\n",
    "<h2>There are 73.55% of accident happen on Daylight condition on 2020</h2>"
   ]
  },
  {
   "cell_type": "code",
   "execution_count": 44,
   "id": "57b5693b-f9af-40bb-b3d6-fb5878c801ee",
   "metadata": {},
   "outputs": [],
   "source": [
    "df_2019 = accident[accident['Year'] == 2021]"
   ]
  },
  {
   "cell_type": "code",
   "execution_count": 45,
   "id": "137cdfc2-3f34-4fab-b04f-129c4af38302",
   "metadata": {},
   "outputs": [
    {
     "data": {
      "text/plain": [
       "66172"
      ]
     },
     "execution_count": 45,
     "metadata": {},
     "output_type": "execute_result"
    }
   ],
   "source": [
    "df_2019['Light_Conditions'].value_counts().sum()"
   ]
  },
  {
   "cell_type": "code",
   "execution_count": 46,
   "id": "1dc382d1-792a-4a16-8b75-75ea426e8292",
   "metadata": {},
   "outputs": [
    {
     "data": {
      "text/plain": [
       "Light_Conditions\n",
       "Daylight                       48212\n",
       "Darkness - lights lit          13298\n",
       "Darkness - no lighting          3756\n",
       "Darkness - lighting unknown      643\n",
       "Darkness - lights unlit          263\n",
       "Name: count, dtype: int64"
      ]
     },
     "execution_count": 46,
     "metadata": {},
     "output_type": "execute_result"
    }
   ],
   "source": [
    "df_2019['Light_Conditions'].value_counts()"
   ]
  },
  {
   "cell_type": "markdown",
   "id": "099c48ae-a5be-42e1-9ba8-375fff2c5237",
   "metadata": {},
   "source": [
    "<h2>Insight #3</h2>\n",
    "<h2>There are 73.21% of accident happen on Daylight condition on 2021</h2>"
   ]
  },
  {
   "cell_type": "code",
   "execution_count": 47,
   "id": "2cca06b1-de5f-491f-8611-d85debe8f3e2",
   "metadata": {},
   "outputs": [],
   "source": [
    "df_2019 = accident[accident['Year'] == 2022]"
   ]
  },
  {
   "cell_type": "code",
   "execution_count": 48,
   "id": "7c4052d4-92c4-4af8-8173-0c429f280db7",
   "metadata": {},
   "outputs": [
    {
     "data": {
      "text/plain": [
       "56805"
      ]
     },
     "execution_count": 48,
     "metadata": {},
     "output_type": "execute_result"
    }
   ],
   "source": [
    "df_2019['Light_Conditions'].value_counts().sum()"
   ]
  },
  {
   "cell_type": "code",
   "execution_count": 49,
   "id": "85d35b33-260c-4b63-82fc-a0a61f664de0",
   "metadata": {},
   "outputs": [
    {
     "data": {
      "text/plain": [
       "Light_Conditions\n",
       "Daylight                       42636\n",
       "Darkness - lights lit          10653\n",
       "Darkness - no lighting          2802\n",
       "Darkness - lighting unknown      511\n",
       "Darkness - lights unlit          203\n",
       "Name: count, dtype: int64"
      ]
     },
     "execution_count": 49,
     "metadata": {},
     "output_type": "execute_result"
    }
   ],
   "source": [
    "df_2019['Light_Conditions'].value_counts()"
   ]
  },
  {
   "cell_type": "markdown",
   "id": "0534bae5-9e3e-425a-9e95-13e998e28d7f",
   "metadata": {},
   "source": [
    "<h2>Insight #4</h2>\n",
    "<h2>There are 73.05% of accident happen on Daylight condition on 2022</h2>"
   ]
  },
  {
   "cell_type": "markdown",
   "id": "c6197a65-2c62-4c8b-b7f6-3ee60c430366",
   "metadata": {},
   "source": [
    "<h1>Bivariate</h1>"
   ]
  },
  {
   "cell_type": "code",
   "execution_count": 50,
   "id": "b8705257-3f4c-478c-9c9e-482f4435777b",
   "metadata": {},
   "outputs": [
    {
     "data": {
      "text/plain": [
       "0         Kensington and Chelsea\n",
       "1         Kensington and Chelsea\n",
       "2         Kensington and Chelsea\n",
       "3         Kensington and Chelsea\n",
       "4         Kensington and Chelsea\n",
       "                   ...          \n",
       "660674                  Highland\n",
       "660675                  Highland\n",
       "660676                  Highland\n",
       "660677                  Highland\n",
       "660678                  Highland\n",
       "Name: District Area, Length: 660679, dtype: category\n",
       "Categories (422, object): ['Aberdeen City', 'Aberdeenshire', 'Adur', 'Allerdale', ..., 'Wycombe', 'Wyre', 'Wyre Forest', 'York']"
      ]
     },
     "execution_count": 50,
     "metadata": {},
     "output_type": "execute_result"
    }
   ],
   "source": [
    "accident['District Area']"
   ]
  },
  {
   "cell_type": "markdown",
   "id": "de887a54-d81e-4878-bd1e-79f617a21c56",
   "metadata": {},
   "source": [
    "<h1>How many number of casualties in Kensington and Chelsea in year 2019 to 2022?</h1>"
   ]
  },
  {
   "cell_type": "code",
   "execution_count": 51,
   "id": "3ebdaa1b-0129-4ad2-8597-02607140fd85",
   "metadata": {},
   "outputs": [
    {
     "data": {
      "text/plain": [
       "Index                      1945\n",
       "Accident_Severity          1945\n",
       "Accident Date              1945\n",
       "Latitude                   1945\n",
       "Light_Conditions           1945\n",
       "District Area              1945\n",
       "Longitude                  1945\n",
       "Number_of_Casualties       1945\n",
       "Number_of_Vehicles         1945\n",
       "Road_Surface_Conditions    1945\n",
       "Road_Type                  1945\n",
       "Urban_or_Rural_Area        1945\n",
       "Weather_Conditions         1945\n",
       "Vehicle_Type               1945\n",
       "Year                       1945\n",
       "Month                      1945\n",
       "Day                        1945\n",
       "DayOfWeek                  1945\n",
       "dtype: int64"
      ]
     },
     "execution_count": 51,
     "metadata": {},
     "output_type": "execute_result"
    }
   ],
   "source": [
    "accident[(accident['Year'] == 2019) & (accident['District Area'] == 'Kensington and Chelsea')].count()"
   ]
  },
  {
   "cell_type": "code",
   "execution_count": 52,
   "id": "7464921c-3c2e-49f4-a42e-a6d2611afdea",
   "metadata": {},
   "outputs": [],
   "source": [
    "dis_year = accident[(accident['Year'] == 2019) & (accident['District Area'] == 'Kensington and Chelsea')].count()"
   ]
  },
  {
   "cell_type": "code",
   "execution_count": 53,
   "id": "9ea0295d-d5df-4853-a6e4-6f983ff3a2f7",
   "metadata": {},
   "outputs": [
    {
     "data": {
      "text/plain": [
       "1945.0"
      ]
     },
     "execution_count": 53,
     "metadata": {},
     "output_type": "execute_result"
    }
   ],
   "source": [
    "dis_year['Number_of_Casualties'].mean()"
   ]
  },
  {
   "cell_type": "code",
   "execution_count": 54,
   "id": "1214b138-9e3d-42c9-9f71-05aa64e80d30",
   "metadata": {},
   "outputs": [
    {
     "data": {
      "text/plain": [
       "660679"
      ]
     },
     "execution_count": 54,
     "metadata": {},
     "output_type": "execute_result"
    }
   ],
   "source": [
    "accident['Number_of_Casualties'].count().sum()"
   ]
  },
  {
   "cell_type": "markdown",
   "id": "44e6dfb0-f84a-4afc-9d7f-42e0a48511da",
   "metadata": {},
   "source": [
    "<h1>Insight #5</h1>\n",
    "<h2>There are total of 0.29% out of 660679 number of casualties happen in Kensington and Chelsea on 2019</h2>"
   ]
  },
  {
   "cell_type": "code",
   "execution_count": 55,
   "id": "656cc26b-4f64-4584-8d5f-5ac4f42c9312",
   "metadata": {},
   "outputs": [
    {
     "data": {
      "text/plain": [
       "Index                      303\n",
       "Accident_Severity          303\n",
       "Accident Date              303\n",
       "Latitude                   303\n",
       "Light_Conditions           303\n",
       "District Area              303\n",
       "Longitude                  303\n",
       "Number_of_Casualties       303\n",
       "Number_of_Vehicles         303\n",
       "Road_Surface_Conditions    303\n",
       "Road_Type                  303\n",
       "Urban_or_Rural_Area        303\n",
       "Weather_Conditions         303\n",
       "Vehicle_Type               303\n",
       "Year                       303\n",
       "Month                      303\n",
       "Day                        303\n",
       "DayOfWeek                  303\n",
       "dtype: int64"
      ]
     },
     "execution_count": 55,
     "metadata": {},
     "output_type": "execute_result"
    }
   ],
   "source": [
    "accident[(accident['Year'] == 2020) & (accident['District Area'] == 'Kensington and Chelsea')].count()"
   ]
  },
  {
   "cell_type": "code",
   "execution_count": 56,
   "id": "6e65fe46-9197-4a48-a010-36dcc21ea43e",
   "metadata": {},
   "outputs": [],
   "source": [
    "dis_year = accident[(accident['Year'] == 2020) & (accident['District Area'] == 'Kensington and Chelsea')].count()"
   ]
  },
  {
   "cell_type": "code",
   "execution_count": 57,
   "id": "c92a0454-dc72-46c7-af63-5f1fdca81a6b",
   "metadata": {},
   "outputs": [
    {
     "data": {
      "text/plain": [
       "303.0"
      ]
     },
     "execution_count": 57,
     "metadata": {},
     "output_type": "execute_result"
    }
   ],
   "source": [
    "dis_year['Number_of_Casualties'].mean()"
   ]
  },
  {
   "cell_type": "markdown",
   "id": "517571a8-8630-4cb9-9589-050eb758ebfe",
   "metadata": {},
   "source": [
    "<h1>Insight #6</h1>\n",
    "<h2>There are total 0.05% out of 660679 number of casualties happen in Kensington and Chelsea on 2020</h2>"
   ]
  },
  {
   "cell_type": "code",
   "execution_count": 58,
   "id": "72e7488a-e30a-4200-8a1b-9e353be5d8d9",
   "metadata": {},
   "outputs": [
    {
     "data": {
      "text/plain": [
       "Index                      273\n",
       "Accident_Severity          273\n",
       "Accident Date              273\n",
       "Latitude                   273\n",
       "Light_Conditions           273\n",
       "District Area              273\n",
       "Longitude                  273\n",
       "Number_of_Casualties       273\n",
       "Number_of_Vehicles         273\n",
       "Road_Surface_Conditions    273\n",
       "Road_Type                  273\n",
       "Urban_or_Rural_Area        273\n",
       "Weather_Conditions         273\n",
       "Vehicle_Type               273\n",
       "Year                       273\n",
       "Month                      273\n",
       "Day                        273\n",
       "DayOfWeek                  273\n",
       "dtype: int64"
      ]
     },
     "execution_count": 58,
     "metadata": {},
     "output_type": "execute_result"
    }
   ],
   "source": [
    "accident[(accident['Year'] == 2021) & (accident['District Area'] == 'Kensington and Chelsea')].count()"
   ]
  },
  {
   "cell_type": "code",
   "execution_count": 59,
   "id": "375fe25e-b0ac-4288-a677-a2f8d775af94",
   "metadata": {},
   "outputs": [],
   "source": [
    "dis_year = accident[(accident['Year'] == 2021) & (accident['District Area'] == 'Kensington and Chelsea')].count()"
   ]
  },
  {
   "cell_type": "code",
   "execution_count": 60,
   "id": "8ba61109-6542-472e-bc7b-5d727ae5bf7d",
   "metadata": {},
   "outputs": [
    {
     "data": {
      "text/plain": [
       "273.0"
      ]
     },
     "execution_count": 60,
     "metadata": {},
     "output_type": "execute_result"
    }
   ],
   "source": [
    "dis_year['Number_of_Casualties'].mean()"
   ]
  },
  {
   "cell_type": "markdown",
   "id": "8433cec7-2925-41da-8165-c2ed6327fb2a",
   "metadata": {},
   "source": [
    "<h1>Insight #7</h1>\n",
    "<h2>There are total 0.04% out of 660679 number of casualties happen in Kensington and Chelsea on 2021</h2>"
   ]
  },
  {
   "cell_type": "code",
   "execution_count": 61,
   "id": "84cee7ac-cc1f-4611-a6bd-6df739eb8da9",
   "metadata": {},
   "outputs": [
    {
     "data": {
      "text/plain": [
       "Index                      278\n",
       "Accident_Severity          278\n",
       "Accident Date              278\n",
       "Latitude                   278\n",
       "Light_Conditions           278\n",
       "District Area              278\n",
       "Longitude                  278\n",
       "Number_of_Casualties       278\n",
       "Number_of_Vehicles         278\n",
       "Road_Surface_Conditions    278\n",
       "Road_Type                  278\n",
       "Urban_or_Rural_Area        278\n",
       "Weather_Conditions         278\n",
       "Vehicle_Type               278\n",
       "Year                       278\n",
       "Month                      278\n",
       "Day                        278\n",
       "DayOfWeek                  278\n",
       "dtype: int64"
      ]
     },
     "execution_count": 61,
     "metadata": {},
     "output_type": "execute_result"
    }
   ],
   "source": [
    "accident[(accident['Year'] == 2022) & (accident['District Area'] == 'Kensington and Chelsea')].count()"
   ]
  },
  {
   "cell_type": "code",
   "execution_count": 62,
   "id": "8c265c9f-3681-4e94-a85d-fca75c664b17",
   "metadata": {},
   "outputs": [],
   "source": [
    "dis_year = accident[(accident['Year'] == 2022) & (accident['District Area'] == 'Kensington and Chelsea')].count()"
   ]
  },
  {
   "cell_type": "code",
   "execution_count": 63,
   "id": "a63c49aa-f28a-49b8-a4c2-ac62cbc98573",
   "metadata": {},
   "outputs": [
    {
     "data": {
      "text/plain": [
       "278.0"
      ]
     },
     "execution_count": 63,
     "metadata": {},
     "output_type": "execute_result"
    }
   ],
   "source": [
    "dis_year['Number_of_Casualties'].mean()"
   ]
  },
  {
   "cell_type": "markdown",
   "id": "c8e6aa0a-6264-4d2c-8e11-2e83a4d8f5f1",
   "metadata": {},
   "source": [
    "<h1>Insight #8</h1>\n",
    "<h2>There are total 0.04% out of 660679 number of casualties happen in Kensington and Chelsea on 2022</h2>"
   ]
  },
  {
   "cell_type": "markdown",
   "id": "4ec94948-638b-4b39-872e-241f6f71f2ed",
   "metadata": {},
   "source": [
    "<h1>Multivariate</h1>"
   ]
  },
  {
   "cell_type": "markdown",
   "id": "de6105a0-ed76-4b15-b995-b82a3bd46753",
   "metadata": {},
   "source": [
    "<h1>How many accidents with accident severity occured in district Kensington and Chelsea in the year 2019?</h1>"
   ]
  },
  {
   "cell_type": "code",
   "execution_count": 64,
   "id": "468553a1-6acd-419c-b152-1fc4154bd134",
   "metadata": {},
   "outputs": [
    {
     "data": {
      "text/plain": [
       "Index                      381451\n",
       "Accident_Severity          381451\n",
       "Accident Date              381451\n",
       "Latitude                   381451\n",
       "Light_Conditions           381451\n",
       "District Area              381451\n",
       "Longitude                  381451\n",
       "Number_of_Casualties       381451\n",
       "Number_of_Vehicles         381451\n",
       "Road_Surface_Conditions    381451\n",
       "Road_Type                  381451\n",
       "Urban_or_Rural_Area        381451\n",
       "Weather_Conditions         381451\n",
       "Vehicle_Type               381451\n",
       "Year                       381451\n",
       "Month                      381451\n",
       "Day                        381451\n",
       "DayOfWeek                  381451\n",
       "dtype: int64"
      ]
     },
     "execution_count": 64,
     "metadata": {},
     "output_type": "execute_result"
    }
   ],
   "source": [
    "accident[(accident['Number_of_Casualties']) & (accident['Year'] == 2019)].count()"
   ]
  },
  {
   "cell_type": "code",
   "execution_count": 65,
   "id": "fd98b9e8-5dd0-4971-b376-daf2c50b794f",
   "metadata": {},
   "outputs": [
    {
     "data": {
      "text/plain": [
       "Index                      11\n",
       "Accident_Severity          11\n",
       "Accident Date              11\n",
       "Latitude                   11\n",
       "Light_Conditions           11\n",
       "District Area              11\n",
       "Longitude                  11\n",
       "Number_of_Casualties       11\n",
       "Number_of_Vehicles         11\n",
       "Road_Surface_Conditions    11\n",
       "Road_Type                  11\n",
       "Urban_or_Rural_Area        11\n",
       "Weather_Conditions         11\n",
       "Vehicle_Type               11\n",
       "Year                       11\n",
       "Month                      11\n",
       "Day                        11\n",
       "DayOfWeek                  11\n",
       "dtype: int64"
      ]
     },
     "execution_count": 65,
     "metadata": {},
     "output_type": "execute_result"
    }
   ],
   "source": [
    "accident[((accident['Year'] == 2019) & (accident['Accident_Severity'] == 'Fatal')) & (accident['District Area'] == 'Kensington and Chelsea')].count()"
   ]
  },
  {
   "cell_type": "code",
   "execution_count": 66,
   "id": "d696ba6a-ea75-4f9a-8af4-48e5b710f8e0",
   "metadata": {},
   "outputs": [],
   "source": [
    "acci_area_year = accident[((accident['Year'] == 2019) & (accident['Accident_Severity'] == 'Fatal')) & (accident['District Area'] == 'Kensington and Chelsea')].count()"
   ]
  },
  {
   "cell_type": "code",
   "execution_count": 67,
   "id": "4ea56341-34a4-4a54-92a2-f263faae0a29",
   "metadata": {},
   "outputs": [
    {
     "data": {
      "text/plain": [
       "11.0"
      ]
     },
     "execution_count": 67,
     "metadata": {},
     "output_type": "execute_result"
    }
   ],
   "source": [
    "acci_area_year['Number_of_Casualties'].mean()"
   ]
  },
  {
   "cell_type": "markdown",
   "id": "e4acd19e-d382-4c63-a825-6c6bcf16f3f7",
   "metadata": {},
   "source": [
    "<h1>Insight #9</h1>\n",
    "<h2>There are total 0.0028% Fatal severity out of 381451 number of casualties happen in Kensington and Chelsea on 2019</h2>"
   ]
  },
  {
   "cell_type": "code",
   "execution_count": 68,
   "id": "9e49593f-a94c-415f-a79f-f1fb0917544b",
   "metadata": {},
   "outputs": [
    {
     "data": {
      "text/plain": [
       "Index                      1681\n",
       "Accident_Severity          1681\n",
       "Accident Date              1681\n",
       "Latitude                   1681\n",
       "Light_Conditions           1681\n",
       "District Area              1681\n",
       "Longitude                  1681\n",
       "Number_of_Casualties       1681\n",
       "Number_of_Vehicles         1681\n",
       "Road_Surface_Conditions    1681\n",
       "Road_Type                  1681\n",
       "Urban_or_Rural_Area        1681\n",
       "Weather_Conditions         1681\n",
       "Vehicle_Type               1681\n",
       "Year                       1681\n",
       "Month                      1681\n",
       "Day                        1681\n",
       "DayOfWeek                  1681\n",
       "dtype: int64"
      ]
     },
     "execution_count": 68,
     "metadata": {},
     "output_type": "execute_result"
    }
   ],
   "source": [
    "accident[((accident['Year'] == 2019) & (accident['Accident_Severity'] == 'Slight')) & (accident['District Area'] == 'Kensington and Chelsea')].count()"
   ]
  },
  {
   "cell_type": "code",
   "execution_count": 69,
   "id": "1e096628-f754-463c-bc27-27e941422a0d",
   "metadata": {},
   "outputs": [],
   "source": [
    "acci_area_year = accident[((accident['Year'] == 2019) & (accident['Accident_Severity'] == 'Slight')) & (accident['District Area'] == 'Kensington and Chelsea')].count()"
   ]
  },
  {
   "cell_type": "code",
   "execution_count": 70,
   "id": "4a9e00c8-b5a0-4b8c-9fe6-f90b0710932d",
   "metadata": {},
   "outputs": [
    {
     "data": {
      "text/plain": [
       "1681.0"
      ]
     },
     "execution_count": 70,
     "metadata": {},
     "output_type": "execute_result"
    }
   ],
   "source": [
    "acci_area_year['Number_of_Casualties'].mean()"
   ]
  },
  {
   "cell_type": "markdown",
   "id": "a6529dc6-d572-4c80-ba67-86f36e883065",
   "metadata": {},
   "source": [
    "<h1>Insight #10</h1>\n",
    "<h2>There are total 0.44% Slight severity out of 381451 number of casualties happen in Kensington and Chelsea on 2019</h2>"
   ]
  },
  {
   "cell_type": "code",
   "execution_count": 71,
   "id": "e690c0fd-6b56-48f7-8d0e-fddbae2316e4",
   "metadata": {},
   "outputs": [
    {
     "data": {
      "text/plain": [
       "Index                      253\n",
       "Accident_Severity          253\n",
       "Accident Date              253\n",
       "Latitude                   253\n",
       "Light_Conditions           253\n",
       "District Area              253\n",
       "Longitude                  253\n",
       "Number_of_Casualties       253\n",
       "Number_of_Vehicles         253\n",
       "Road_Surface_Conditions    253\n",
       "Road_Type                  253\n",
       "Urban_or_Rural_Area        253\n",
       "Weather_Conditions         253\n",
       "Vehicle_Type               253\n",
       "Year                       253\n",
       "Month                      253\n",
       "Day                        253\n",
       "DayOfWeek                  253\n",
       "dtype: int64"
      ]
     },
     "execution_count": 71,
     "metadata": {},
     "output_type": "execute_result"
    }
   ],
   "source": [
    "accident[((accident['Year'] == 2019) & (accident['Accident_Severity'] == 'Serious')) & (accident['District Area'] == 'Kensington and Chelsea')].count()"
   ]
  },
  {
   "cell_type": "code",
   "execution_count": 72,
   "id": "0f68bcae-b4b2-4752-8cf8-84efcf4dd14e",
   "metadata": {},
   "outputs": [],
   "source": [
    "acci_area_year = accident[((accident['Year'] == 2019) & (accident['Accident_Severity'] == 'Serious')) & (accident['District Area'] == 'Kensington and Chelsea')].count()"
   ]
  },
  {
   "cell_type": "code",
   "execution_count": 73,
   "id": "ce57dcfd-a6dc-44c1-925f-5a4ab98fe581",
   "metadata": {},
   "outputs": [
    {
     "data": {
      "text/plain": [
       "253.0"
      ]
     },
     "execution_count": 73,
     "metadata": {},
     "output_type": "execute_result"
    }
   ],
   "source": [
    "acci_area_year['Number_of_Casualties'].mean()"
   ]
  },
  {
   "cell_type": "markdown",
   "id": "9732d409-0bbc-4d0c-a44d-7c44de63e03f",
   "metadata": {},
   "source": [
    "<h1>Insight #11</h1>\n",
    "<h2>There are total 0.06% Slight severity out of 381451 number of casualties happen in Kensington and Chelsea on 2019</h2>"
   ]
  },
  {
   "cell_type": "markdown",
   "id": "cba97a86-dd06-4505-99d4-fe7d52b13cb2",
   "metadata": {},
   "source": [
    "<h1>How many accidents with accident severity occured in district Kensington and Chelsea in the year 2020?</h1>"
   ]
  },
  {
   "cell_type": "code",
   "execution_count": 74,
   "id": "e0d409d1-c2cc-4e95-bf99-83376c3c15c3",
   "metadata": {},
   "outputs": [
    {
     "data": {
      "text/plain": [
       "Index                      57478\n",
       "Accident_Severity          57478\n",
       "Accident Date              57478\n",
       "Latitude                   57478\n",
       "Light_Conditions           57478\n",
       "District Area              57478\n",
       "Longitude                  57478\n",
       "Number_of_Casualties       57478\n",
       "Number_of_Vehicles         57478\n",
       "Road_Surface_Conditions    57478\n",
       "Road_Type                  57478\n",
       "Urban_or_Rural_Area        57478\n",
       "Weather_Conditions         57478\n",
       "Vehicle_Type               57478\n",
       "Year                       57478\n",
       "Month                      57478\n",
       "Day                        57478\n",
       "DayOfWeek                  57478\n",
       "dtype: int64"
      ]
     },
     "execution_count": 74,
     "metadata": {},
     "output_type": "execute_result"
    }
   ],
   "source": [
    "accident[(accident['Number_of_Casualties']) & (accident['Year'] == 2020)].count()"
   ]
  },
  {
   "cell_type": "code",
   "execution_count": 75,
   "id": "89c07ecf-8d6a-4b64-bf86-d30bc4f95ba5",
   "metadata": {},
   "outputs": [
    {
     "data": {
      "text/plain": [
       "Index                      3\n",
       "Accident_Severity          3\n",
       "Accident Date              3\n",
       "Latitude                   3\n",
       "Light_Conditions           3\n",
       "District Area              3\n",
       "Longitude                  3\n",
       "Number_of_Casualties       3\n",
       "Number_of_Vehicles         3\n",
       "Road_Surface_Conditions    3\n",
       "Road_Type                  3\n",
       "Urban_or_Rural_Area        3\n",
       "Weather_Conditions         3\n",
       "Vehicle_Type               3\n",
       "Year                       3\n",
       "Month                      3\n",
       "Day                        3\n",
       "DayOfWeek                  3\n",
       "dtype: int64"
      ]
     },
     "execution_count": 75,
     "metadata": {},
     "output_type": "execute_result"
    }
   ],
   "source": [
    "accident[((accident['Year'] == 2020) & (accident['Accident_Severity'] == 'Fatal')) & (accident['District Area'] == 'Kensington and Chelsea')].count()"
   ]
  },
  {
   "cell_type": "code",
   "execution_count": 76,
   "id": "b25d6920-05d7-4926-9819-bc8a29a24d83",
   "metadata": {},
   "outputs": [],
   "source": [
    "acci_area_year = accident[((accident['Year'] == 2020) & (accident['Accident_Severity'] == 'Fatal')) & (accident['District Area'] == 'Kensington and Chelsea')].count()"
   ]
  },
  {
   "cell_type": "code",
   "execution_count": 77,
   "id": "52f709e0-52a5-439d-9408-e43bf49cc811",
   "metadata": {},
   "outputs": [
    {
     "data": {
      "text/plain": [
       "3.0"
      ]
     },
     "execution_count": 77,
     "metadata": {},
     "output_type": "execute_result"
    }
   ],
   "source": [
    "acci_area_year['Number_of_Casualties'].mean()"
   ]
  },
  {
   "cell_type": "markdown",
   "id": "c48cb797-8a1b-47d1-83a3-d6c7c472800b",
   "metadata": {},
   "source": [
    "<h1>Insight #11</h1>\n",
    "<h2>There are total 0.0052% Fatal severity out of 57478 number of casualties happen in Kensington and Chelsea on 2020</h2>"
   ]
  },
  {
   "cell_type": "code",
   "execution_count": 78,
   "id": "647a0b93-b964-49ca-ae95-dc91bef3bdac",
   "metadata": {},
   "outputs": [
    {
     "data": {
      "text/plain": [
       "Index                      252\n",
       "Accident_Severity          252\n",
       "Accident Date              252\n",
       "Latitude                   252\n",
       "Light_Conditions           252\n",
       "District Area              252\n",
       "Longitude                  252\n",
       "Number_of_Casualties       252\n",
       "Number_of_Vehicles         252\n",
       "Road_Surface_Conditions    252\n",
       "Road_Type                  252\n",
       "Urban_or_Rural_Area        252\n",
       "Weather_Conditions         252\n",
       "Vehicle_Type               252\n",
       "Year                       252\n",
       "Month                      252\n",
       "Day                        252\n",
       "DayOfWeek                  252\n",
       "dtype: int64"
      ]
     },
     "execution_count": 78,
     "metadata": {},
     "output_type": "execute_result"
    }
   ],
   "source": [
    "accident[((accident['Year'] == 2020) & (accident['Accident_Severity'] == 'Slight')) & (accident['District Area'] == 'Kensington and Chelsea')].count()"
   ]
  },
  {
   "cell_type": "code",
   "execution_count": 79,
   "id": "400a04f1-295c-43df-af67-fde8c243c2bd",
   "metadata": {},
   "outputs": [],
   "source": [
    "acci_area_year = accident[((accident['Year'] == 2020) & (accident['Accident_Severity'] == 'Slight')) & (accident['District Area'] == 'Kensington and Chelsea')].count()"
   ]
  },
  {
   "cell_type": "code",
   "execution_count": 80,
   "id": "4fd79246-a652-43cf-aa6e-79d6d9138f38",
   "metadata": {},
   "outputs": [
    {
     "data": {
      "text/plain": [
       "252.0"
      ]
     },
     "execution_count": 80,
     "metadata": {},
     "output_type": "execute_result"
    }
   ],
   "source": [
    "acci_area_year['Number_of_Casualties'].mean()"
   ]
  },
  {
   "cell_type": "markdown",
   "id": "dd74a6f0-9820-4c8a-bf0f-1a6454ae0fbb",
   "metadata": {},
   "source": [
    "<h1>Insight #12</h1>\n",
    "<h2>There are total 0.44% Slight severity out of 57478 number of casualties happen in Kensington and Chelsea on 2020</h2>"
   ]
  },
  {
   "cell_type": "code",
   "execution_count": 81,
   "id": "36f0de3c-fdbc-412a-9dd1-6c08ccac2389",
   "metadata": {},
   "outputs": [
    {
     "data": {
      "text/plain": [
       "Index                      48\n",
       "Accident_Severity          48\n",
       "Accident Date              48\n",
       "Latitude                   48\n",
       "Light_Conditions           48\n",
       "District Area              48\n",
       "Longitude                  48\n",
       "Number_of_Casualties       48\n",
       "Number_of_Vehicles         48\n",
       "Road_Surface_Conditions    48\n",
       "Road_Type                  48\n",
       "Urban_or_Rural_Area        48\n",
       "Weather_Conditions         48\n",
       "Vehicle_Type               48\n",
       "Year                       48\n",
       "Month                      48\n",
       "Day                        48\n",
       "DayOfWeek                  48\n",
       "dtype: int64"
      ]
     },
     "execution_count": 81,
     "metadata": {},
     "output_type": "execute_result"
    }
   ],
   "source": [
    "accident[((accident['Year'] == 2020) & (accident['Accident_Severity'] == 'Serious')) & (accident['District Area'] == 'Kensington and Chelsea')].count()"
   ]
  },
  {
   "cell_type": "code",
   "execution_count": 82,
   "id": "7bdd976f-d54e-4f51-b3d8-1823ca56b134",
   "metadata": {},
   "outputs": [],
   "source": [
    "acci_area_year = accident[((accident['Year'] == 2020) & (accident['Accident_Severity'] == 'Serious')) & (accident['District Area'] == 'Kensington and Chelsea')].count()"
   ]
  },
  {
   "cell_type": "code",
   "execution_count": 83,
   "id": "19e7d8ef-9be2-471d-89a7-af929ab3d89d",
   "metadata": {},
   "outputs": [
    {
     "data": {
      "text/plain": [
       "48.0"
      ]
     },
     "execution_count": 83,
     "metadata": {},
     "output_type": "execute_result"
    }
   ],
   "source": [
    "acci_area_year['Number_of_Casualties'].mean()"
   ]
  },
  {
   "cell_type": "markdown",
   "id": "fc59e27f-396b-4cfb-a3e9-8282a55fa911",
   "metadata": {},
   "source": [
    "<h1>Insight #13</h1>\n",
    "<h2>There are total 0.08% Serious severity out of 57478 number of casualties happen in Kensington and Chelsea on 2020</h2>"
   ]
  },
  {
   "cell_type": "markdown",
   "id": "88dc95c7-51ce-4ac7-9834-4bb61ceaeb8d",
   "metadata": {},
   "source": [
    "<h1>How many accidents with accident severity occured in district Kensington and Chelsea in the year 2021?</h1>"
   ]
  },
  {
   "cell_type": "code",
   "execution_count": 84,
   "id": "1669a4ea-9dfb-4990-81d0-ea071ca2bd43",
   "metadata": {},
   "outputs": [
    {
     "data": {
      "text/plain": [
       "Index                      54220\n",
       "Accident_Severity          54220\n",
       "Accident Date              54220\n",
       "Latitude                   54220\n",
       "Light_Conditions           54220\n",
       "District Area              54220\n",
       "Longitude                  54220\n",
       "Number_of_Casualties       54220\n",
       "Number_of_Vehicles         54220\n",
       "Road_Surface_Conditions    54220\n",
       "Road_Type                  54220\n",
       "Urban_or_Rural_Area        54220\n",
       "Weather_Conditions         54220\n",
       "Vehicle_Type               54220\n",
       "Year                       54220\n",
       "Month                      54220\n",
       "Day                        54220\n",
       "DayOfWeek                  54220\n",
       "dtype: int64"
      ]
     },
     "execution_count": 84,
     "metadata": {},
     "output_type": "execute_result"
    }
   ],
   "source": [
    "accident[(accident['Number_of_Casualties']) & (accident['Year'] == 2021)].count()"
   ]
  },
  {
   "cell_type": "code",
   "execution_count": 85,
   "id": "ad785c5a-0811-411f-a2c9-3767b35eae5e",
   "metadata": {},
   "outputs": [
    {
     "data": {
      "text/plain": [
       "Index                      2\n",
       "Accident_Severity          2\n",
       "Accident Date              2\n",
       "Latitude                   2\n",
       "Light_Conditions           2\n",
       "District Area              2\n",
       "Longitude                  2\n",
       "Number_of_Casualties       2\n",
       "Number_of_Vehicles         2\n",
       "Road_Surface_Conditions    2\n",
       "Road_Type                  2\n",
       "Urban_or_Rural_Area        2\n",
       "Weather_Conditions         2\n",
       "Vehicle_Type               2\n",
       "Year                       2\n",
       "Month                      2\n",
       "Day                        2\n",
       "DayOfWeek                  2\n",
       "dtype: int64"
      ]
     },
     "execution_count": 85,
     "metadata": {},
     "output_type": "execute_result"
    }
   ],
   "source": [
    "accident[((accident['Year'] == 2021) & (accident['Accident_Severity'] == 'Fatal')) & (accident['District Area'] == 'Kensington and Chelsea')].count()"
   ]
  },
  {
   "cell_type": "code",
   "execution_count": 86,
   "id": "ce202069-a1a9-4973-a905-80604f9a53ee",
   "metadata": {},
   "outputs": [],
   "source": [
    "acci_area_year = accident[((accident['Year'] == 2021) & (accident['Accident_Severity'] == 'Fatal')) & (accident['District Area'] == 'Kensington and Chelsea')].count()"
   ]
  },
  {
   "cell_type": "code",
   "execution_count": 87,
   "id": "39ff5245-7546-4873-b0fb-10db5e93b57c",
   "metadata": {},
   "outputs": [
    {
     "data": {
      "text/plain": [
       "2.0"
      ]
     },
     "execution_count": 87,
     "metadata": {},
     "output_type": "execute_result"
    }
   ],
   "source": [
    "acci_area_year['Number_of_Casualties'].mean()"
   ]
  },
  {
   "cell_type": "markdown",
   "id": "3bce797a-7141-4c1d-988d-057fe4da67dc",
   "metadata": {},
   "source": [
    "<h1>Insight #14</h1>\n",
    "<h2>There are total 0.0037% Fatal severity out of 54220 number of casualties happen in Kensington and Chelsea on 2021</h2>"
   ]
  },
  {
   "cell_type": "code",
   "execution_count": 88,
   "id": "aee24fba-9a3d-4acf-a1d5-358488222b84",
   "metadata": {},
   "outputs": [
    {
     "data": {
      "text/plain": [
       "Index                      232\n",
       "Accident_Severity          232\n",
       "Accident Date              232\n",
       "Latitude                   232\n",
       "Light_Conditions           232\n",
       "District Area              232\n",
       "Longitude                  232\n",
       "Number_of_Casualties       232\n",
       "Number_of_Vehicles         232\n",
       "Road_Surface_Conditions    232\n",
       "Road_Type                  232\n",
       "Urban_or_Rural_Area        232\n",
       "Weather_Conditions         232\n",
       "Vehicle_Type               232\n",
       "Year                       232\n",
       "Month                      232\n",
       "Day                        232\n",
       "DayOfWeek                  232\n",
       "dtype: int64"
      ]
     },
     "execution_count": 88,
     "metadata": {},
     "output_type": "execute_result"
    }
   ],
   "source": [
    "accident[((accident['Year'] == 2021) & (accident['Accident_Severity'] == 'Slight')) & (accident['District Area'] == 'Kensington and Chelsea')].count()"
   ]
  },
  {
   "cell_type": "code",
   "execution_count": 89,
   "id": "1a282f91-083f-41c5-989e-9b3e9d8ec3ef",
   "metadata": {},
   "outputs": [],
   "source": [
    "acci_area_year = accident[((accident['Year'] == 2021) & (accident['Accident_Severity'] == 'Slight')) & (accident['District Area'] == 'Kensington and Chelsea')].count()"
   ]
  },
  {
   "cell_type": "code",
   "execution_count": 90,
   "id": "1fe0b943-605c-4e00-90d7-d9f02fb080ee",
   "metadata": {},
   "outputs": [
    {
     "data": {
      "text/plain": [
       "232.0"
      ]
     },
     "execution_count": 90,
     "metadata": {},
     "output_type": "execute_result"
    }
   ],
   "source": [
    "acci_area_year['Number_of_Casualties'].mean()"
   ]
  },
  {
   "cell_type": "markdown",
   "id": "b485ae61-44cc-41ad-ab20-df578dbf0038",
   "metadata": {},
   "source": [
    "<h1>Insight #15</h1>\n",
    "<h2>There are total 0.43% Slight severity out of 54220 number of casualties happen in Kensington and Chelsea on 2021</h2>"
   ]
  },
  {
   "cell_type": "code",
   "execution_count": 91,
   "id": "17f0dea8-c1ef-4a5e-a219-bd35bf955ccb",
   "metadata": {},
   "outputs": [
    {
     "data": {
      "text/plain": [
       "Index                      39\n",
       "Accident_Severity          39\n",
       "Accident Date              39\n",
       "Latitude                   39\n",
       "Light_Conditions           39\n",
       "District Area              39\n",
       "Longitude                  39\n",
       "Number_of_Casualties       39\n",
       "Number_of_Vehicles         39\n",
       "Road_Surface_Conditions    39\n",
       "Road_Type                  39\n",
       "Urban_or_Rural_Area        39\n",
       "Weather_Conditions         39\n",
       "Vehicle_Type               39\n",
       "Year                       39\n",
       "Month                      39\n",
       "Day                        39\n",
       "DayOfWeek                  39\n",
       "dtype: int64"
      ]
     },
     "execution_count": 91,
     "metadata": {},
     "output_type": "execute_result"
    }
   ],
   "source": [
    "accident[((accident['Year'] == 2021) & (accident['Accident_Severity'] == 'Serious')) & (accident['District Area'] == 'Kensington and Chelsea')].count()"
   ]
  },
  {
   "cell_type": "code",
   "execution_count": 92,
   "id": "e54f5349-d4c7-419a-becd-7dec952fc1e1",
   "metadata": {},
   "outputs": [],
   "source": [
    "acci_area_year = accident[((accident['Year'] == 2021) & (accident['Accident_Severity'] == 'Serious')) & (accident['District Area'] == 'Kensington and Chelsea')].count()"
   ]
  },
  {
   "cell_type": "code",
   "execution_count": 93,
   "id": "f959bbfc-02cc-4722-8967-806f8bdeb415",
   "metadata": {},
   "outputs": [
    {
     "data": {
      "text/plain": [
       "39.0"
      ]
     },
     "execution_count": 93,
     "metadata": {},
     "output_type": "execute_result"
    }
   ],
   "source": [
    "acci_area_year['Number_of_Casualties'].mean()"
   ]
  },
  {
   "cell_type": "markdown",
   "id": "3be6f733-8732-48b8-abc0-9b6f9f8972b1",
   "metadata": {},
   "source": [
    "<h1>Insight #16</h1>\n",
    "<h2>There are total 0.07% Serious severity out of 54220 number of casualties happen in Kensington and Chelsea on 2021</h2>"
   ]
  },
  {
   "cell_type": "markdown",
   "id": "59056346-2428-4b48-9eca-91ccd6e0599a",
   "metadata": {},
   "source": [
    "<h1>How do light conditions, number of casualties, and vehicle type influence the distribution of accidents in urban and rural areas?\n",
    "\n",
    "Possible Insight:</h1>"
   ]
  },
  {
   "cell_type": "code",
   "execution_count": 95,
   "id": "5301d1de-3731-478e-934e-98b26274019d",
   "metadata": {},
   "outputs": [
    {
     "name": "stdout",
     "output_type": "stream",
     "text": [
      "Index(['Index', 'Accident_Severity', 'Accident Date', 'Latitude',\n",
      "       'Light_Conditions', 'District Area', 'Longitude',\n",
      "       'Number_of_Casualties', 'Number_of_Vehicles', 'Road_Surface_Conditions',\n",
      "       'Road_Type', 'Urban_or_Rural_Area', 'Weather_Conditions',\n",
      "       'Vehicle_Type', 'Year', 'Month', 'Day', 'DayOfWeek'],\n",
      "      dtype='object')\n"
     ]
    }
   ],
   "source": [
    "print(accident.columns)\n"
   ]
  },
  {
   "cell_type": "code",
   "execution_count": 103,
   "id": "98a4dd60-3d1b-4e4f-b23f-82fdf2529347",
   "metadata": {},
   "outputs": [
    {
     "name": "stderr",
     "output_type": "stream",
     "text": [
      "C:\\Users\\MRCF\\AppData\\Local\\Temp\\ipykernel_11324\\845214034.py:1: FutureWarning: The default of observed=False is deprecated and will be changed to True in a future version of pandas. Pass observed=False to retain current behavior or observed=True to adopt the future default and silence this warning.\n",
      "  wehther_ve = np.round(accident.groupby(['Light_Conditions', 'Number_of_Casualties', 'Vehicle_Type'])['Urban_or_Rural_Area'].size(), 1)\n"
     ]
    }
   ],
   "source": [
    "wehther_ve = np.round(accident.groupby(['Light_Conditions', 'Number_of_Casualties', 'Vehicle_Type'])['Urban_or_Rural_Area'].size(), 1)"
   ]
  },
  {
   "cell_type": "code",
   "execution_count": 104,
   "id": "38f4a6b0-754e-4a94-9eb6-1569a1e4b694",
   "metadata": {},
   "outputs": [
    {
     "data": {
      "text/plain": [
       "Light_Conditions             Number_of_Casualties  Vehicle_Type                        \n",
       "Darkness - lighting unknown  1                     Agricultural vehicle                      13\n",
       "                                                   Bus or coach (17 or more pass seats)     219\n",
       "                                                   Car                                     3897\n",
       "                                                   Data missing or out of range               0\n",
       "                                                   Goods 7.5 tonnes mgw and over            147\n",
       "                                                                                           ... \n",
       "Daylight                     68                    Other vehicle                              0\n",
       "                                                   Pedal cycle                                0\n",
       "                                                   Ridden horse                               0\n",
       "                                                   Taxi/Private hire car                      0\n",
       "                                                   Van / Goods 3.5 tonnes mgw or under        0\n",
       "Name: Urban_or_Rural_Area, Length: 2880, dtype: int64"
      ]
     },
     "execution_count": 104,
     "metadata": {},
     "output_type": "execute_result"
    }
   ],
   "source": [
    "wehther_ve"
   ]
  },
  {
   "cell_type": "code",
   "execution_count": 100,
   "id": "a6442250-e277-4b92-bdc1-3f5d227b46e9",
   "metadata": {},
   "outputs": [
    {
     "data": {
      "text/html": [
       "<div>\n",
       "<style scoped>\n",
       "    .dataframe tbody tr th:only-of-type {\n",
       "        vertical-align: middle;\n",
       "    }\n",
       "\n",
       "    .dataframe tbody tr th {\n",
       "        vertical-align: top;\n",
       "    }\n",
       "\n",
       "    .dataframe thead th {\n",
       "        text-align: right;\n",
       "    }\n",
       "</style>\n",
       "<table border=\"1\" class=\"dataframe\">\n",
       "  <thead>\n",
       "    <tr style=\"text-align: right;\">\n",
       "      <th></th>\n",
       "      <th>Vehicle_Type</th>\n",
       "      <th>Agricultural vehicle</th>\n",
       "      <th>Bus or coach (17 or more pass seats)</th>\n",
       "      <th>Car</th>\n",
       "      <th>Data missing or out of range</th>\n",
       "      <th>Goods 7.5 tonnes mgw and over</th>\n",
       "      <th>Goods over 3.5t. and under 7.5t</th>\n",
       "      <th>Minibus (8 - 16 passenger seats)</th>\n",
       "      <th>Motorcycle 125cc and under</th>\n",
       "      <th>Motorcycle 50cc and under</th>\n",
       "      <th>Motorcycle over 125cc and up to 500cc</th>\n",
       "      <th>Motorcycle over 500cc</th>\n",
       "      <th>Other vehicle</th>\n",
       "      <th>Pedal cycle</th>\n",
       "      <th>Ridden horse</th>\n",
       "      <th>Taxi/Private hire car</th>\n",
       "      <th>Van / Goods 3.5 tonnes mgw or under</th>\n",
       "    </tr>\n",
       "    <tr>\n",
       "      <th>Light_Conditions</th>\n",
       "      <th>Number_of_Casualties</th>\n",
       "      <th></th>\n",
       "      <th></th>\n",
       "      <th></th>\n",
       "      <th></th>\n",
       "      <th></th>\n",
       "      <th></th>\n",
       "      <th></th>\n",
       "      <th></th>\n",
       "      <th></th>\n",
       "      <th></th>\n",
       "      <th></th>\n",
       "      <th></th>\n",
       "      <th></th>\n",
       "      <th></th>\n",
       "      <th></th>\n",
       "      <th></th>\n",
       "    </tr>\n",
       "  </thead>\n",
       "  <tbody>\n",
       "    <tr>\n",
       "      <th rowspan=\"5\" valign=\"top\">Darkness - lighting unknown</th>\n",
       "      <th>1</th>\n",
       "      <td>2019.8</td>\n",
       "      <td>2019.4</td>\n",
       "      <td>2019.6</td>\n",
       "      <td>NaN</td>\n",
       "      <td>2019.6</td>\n",
       "      <td>2019.6</td>\n",
       "      <td>2019.3</td>\n",
       "      <td>2019.6</td>\n",
       "      <td>2019.5</td>\n",
       "      <td>2019.6</td>\n",
       "      <td>2019.5</td>\n",
       "      <td>2019.6</td>\n",
       "      <td>2021.0</td>\n",
       "      <td>NaN</td>\n",
       "      <td>2019.6</td>\n",
       "      <td>2019.6</td>\n",
       "    </tr>\n",
       "    <tr>\n",
       "      <th>2</th>\n",
       "      <td>2019.5</td>\n",
       "      <td>2019.7</td>\n",
       "      <td>2019.6</td>\n",
       "      <td>NaN</td>\n",
       "      <td>2019.8</td>\n",
       "      <td>2019.1</td>\n",
       "      <td>2019.0</td>\n",
       "      <td>2019.3</td>\n",
       "      <td>2019.8</td>\n",
       "      <td>2019.3</td>\n",
       "      <td>2019.4</td>\n",
       "      <td>2019.7</td>\n",
       "      <td>2019.0</td>\n",
       "      <td>NaN</td>\n",
       "      <td>2019.7</td>\n",
       "      <td>2019.5</td>\n",
       "    </tr>\n",
       "    <tr>\n",
       "      <th>3</th>\n",
       "      <td>2019.5</td>\n",
       "      <td>2019.8</td>\n",
       "      <td>2019.5</td>\n",
       "      <td>NaN</td>\n",
       "      <td>2019.2</td>\n",
       "      <td>2019.8</td>\n",
       "      <td>2020.0</td>\n",
       "      <td>2020.3</td>\n",
       "      <td>2019.7</td>\n",
       "      <td>2019.0</td>\n",
       "      <td>2020.0</td>\n",
       "      <td>NaN</td>\n",
       "      <td>NaN</td>\n",
       "      <td>NaN</td>\n",
       "      <td>2019.8</td>\n",
       "      <td>2020.3</td>\n",
       "    </tr>\n",
       "    <tr>\n",
       "      <th>4</th>\n",
       "      <td>2020.5</td>\n",
       "      <td>2019.8</td>\n",
       "      <td>2019.5</td>\n",
       "      <td>NaN</td>\n",
       "      <td>2020.7</td>\n",
       "      <td>NaN</td>\n",
       "      <td>NaN</td>\n",
       "      <td>2019.0</td>\n",
       "      <td>NaN</td>\n",
       "      <td>2019.0</td>\n",
       "      <td>2019.0</td>\n",
       "      <td>2019.0</td>\n",
       "      <td>NaN</td>\n",
       "      <td>NaN</td>\n",
       "      <td>2019.6</td>\n",
       "      <td>2020.0</td>\n",
       "    </tr>\n",
       "    <tr>\n",
       "      <th>5</th>\n",
       "      <td>NaN</td>\n",
       "      <td>2019.7</td>\n",
       "      <td>2019.2</td>\n",
       "      <td>NaN</td>\n",
       "      <td>2019.0</td>\n",
       "      <td>NaN</td>\n",
       "      <td>NaN</td>\n",
       "      <td>NaN</td>\n",
       "      <td>NaN</td>\n",
       "      <td>2019.0</td>\n",
       "      <td>NaN</td>\n",
       "      <td>2019.7</td>\n",
       "      <td>NaN</td>\n",
       "      <td>NaN</td>\n",
       "      <td>2021.0</td>\n",
       "      <td>NaN</td>\n",
       "    </tr>\n",
       "    <tr>\n",
       "      <th>...</th>\n",
       "      <th>...</th>\n",
       "      <td>...</td>\n",
       "      <td>...</td>\n",
       "      <td>...</td>\n",
       "      <td>...</td>\n",
       "      <td>...</td>\n",
       "      <td>...</td>\n",
       "      <td>...</td>\n",
       "      <td>...</td>\n",
       "      <td>...</td>\n",
       "      <td>...</td>\n",
       "      <td>...</td>\n",
       "      <td>...</td>\n",
       "      <td>...</td>\n",
       "      <td>...</td>\n",
       "      <td>...</td>\n",
       "      <td>...</td>\n",
       "    </tr>\n",
       "    <tr>\n",
       "      <th rowspan=\"5\" valign=\"top\">Daylight</th>\n",
       "      <th>45</th>\n",
       "      <td>NaN</td>\n",
       "      <td>NaN</td>\n",
       "      <td>2019.0</td>\n",
       "      <td>NaN</td>\n",
       "      <td>NaN</td>\n",
       "      <td>NaN</td>\n",
       "      <td>NaN</td>\n",
       "      <td>NaN</td>\n",
       "      <td>NaN</td>\n",
       "      <td>NaN</td>\n",
       "      <td>NaN</td>\n",
       "      <td>NaN</td>\n",
       "      <td>NaN</td>\n",
       "      <td>NaN</td>\n",
       "      <td>NaN</td>\n",
       "      <td>NaN</td>\n",
       "    </tr>\n",
       "    <tr>\n",
       "      <th>47</th>\n",
       "      <td>NaN</td>\n",
       "      <td>NaN</td>\n",
       "      <td>2019.0</td>\n",
       "      <td>NaN</td>\n",
       "      <td>NaN</td>\n",
       "      <td>NaN</td>\n",
       "      <td>NaN</td>\n",
       "      <td>NaN</td>\n",
       "      <td>NaN</td>\n",
       "      <td>NaN</td>\n",
       "      <td>NaN</td>\n",
       "      <td>NaN</td>\n",
       "      <td>NaN</td>\n",
       "      <td>NaN</td>\n",
       "      <td>NaN</td>\n",
       "      <td>NaN</td>\n",
       "    </tr>\n",
       "    <tr>\n",
       "      <th>48</th>\n",
       "      <td>NaN</td>\n",
       "      <td>NaN</td>\n",
       "      <td>NaN</td>\n",
       "      <td>NaN</td>\n",
       "      <td>NaN</td>\n",
       "      <td>NaN</td>\n",
       "      <td>NaN</td>\n",
       "      <td>NaN</td>\n",
       "      <td>NaN</td>\n",
       "      <td>NaN</td>\n",
       "      <td>NaN</td>\n",
       "      <td>NaN</td>\n",
       "      <td>NaN</td>\n",
       "      <td>NaN</td>\n",
       "      <td>NaN</td>\n",
       "      <td>NaN</td>\n",
       "    </tr>\n",
       "    <tr>\n",
       "      <th>62</th>\n",
       "      <td>NaN</td>\n",
       "      <td>2019.0</td>\n",
       "      <td>NaN</td>\n",
       "      <td>NaN</td>\n",
       "      <td>NaN</td>\n",
       "      <td>NaN</td>\n",
       "      <td>NaN</td>\n",
       "      <td>NaN</td>\n",
       "      <td>NaN</td>\n",
       "      <td>NaN</td>\n",
       "      <td>NaN</td>\n",
       "      <td>NaN</td>\n",
       "      <td>NaN</td>\n",
       "      <td>NaN</td>\n",
       "      <td>NaN</td>\n",
       "      <td>NaN</td>\n",
       "    </tr>\n",
       "    <tr>\n",
       "      <th>68</th>\n",
       "      <td>NaN</td>\n",
       "      <td>NaN</td>\n",
       "      <td>NaN</td>\n",
       "      <td>NaN</td>\n",
       "      <td>NaN</td>\n",
       "      <td>NaN</td>\n",
       "      <td>NaN</td>\n",
       "      <td>NaN</td>\n",
       "      <td>NaN</td>\n",
       "      <td>NaN</td>\n",
       "      <td>NaN</td>\n",
       "      <td>NaN</td>\n",
       "      <td>NaN</td>\n",
       "      <td>NaN</td>\n",
       "      <td>NaN</td>\n",
       "      <td>NaN</td>\n",
       "    </tr>\n",
       "  </tbody>\n",
       "</table>\n",
       "<p>180 rows × 16 columns</p>\n",
       "</div>"
      ],
      "text/plain": [
       "Vehicle_Type                                      Agricultural vehicle  \\\n",
       "Light_Conditions            Number_of_Casualties                         \n",
       "Darkness - lighting unknown 1                                   2019.8   \n",
       "                            2                                   2019.5   \n",
       "                            3                                   2019.5   \n",
       "                            4                                   2020.5   \n",
       "                            5                                      NaN   \n",
       "...                                                                ...   \n",
       "Daylight                    45                                     NaN   \n",
       "                            47                                     NaN   \n",
       "                            48                                     NaN   \n",
       "                            62                                     NaN   \n",
       "                            68                                     NaN   \n",
       "\n",
       "Vehicle_Type                                      Bus or coach (17 or more pass seats)  \\\n",
       "Light_Conditions            Number_of_Casualties                                         \n",
       "Darkness - lighting unknown 1                                                   2019.4   \n",
       "                            2                                                   2019.7   \n",
       "                            3                                                   2019.8   \n",
       "                            4                                                   2019.8   \n",
       "                            5                                                   2019.7   \n",
       "...                                                                                ...   \n",
       "Daylight                    45                                                     NaN   \n",
       "                            47                                                     NaN   \n",
       "                            48                                                     NaN   \n",
       "                            62                                                  2019.0   \n",
       "                            68                                                     NaN   \n",
       "\n",
       "Vehicle_Type                                         Car  \\\n",
       "Light_Conditions            Number_of_Casualties           \n",
       "Darkness - lighting unknown 1                     2019.6   \n",
       "                            2                     2019.6   \n",
       "                            3                     2019.5   \n",
       "                            4                     2019.5   \n",
       "                            5                     2019.2   \n",
       "...                                                  ...   \n",
       "Daylight                    45                    2019.0   \n",
       "                            47                    2019.0   \n",
       "                            48                       NaN   \n",
       "                            62                       NaN   \n",
       "                            68                       NaN   \n",
       "\n",
       "Vehicle_Type                                      Data missing or out of range  \\\n",
       "Light_Conditions            Number_of_Casualties                                 \n",
       "Darkness - lighting unknown 1                                              NaN   \n",
       "                            2                                              NaN   \n",
       "                            3                                              NaN   \n",
       "                            4                                              NaN   \n",
       "                            5                                              NaN   \n",
       "...                                                                        ...   \n",
       "Daylight                    45                                             NaN   \n",
       "                            47                                             NaN   \n",
       "                            48                                             NaN   \n",
       "                            62                                             NaN   \n",
       "                            68                                             NaN   \n",
       "\n",
       "Vehicle_Type                                      Goods 7.5 tonnes mgw and over  \\\n",
       "Light_Conditions            Number_of_Casualties                                  \n",
       "Darkness - lighting unknown 1                                            2019.6   \n",
       "                            2                                            2019.8   \n",
       "                            3                                            2019.2   \n",
       "                            4                                            2020.7   \n",
       "                            5                                            2019.0   \n",
       "...                                                                         ...   \n",
       "Daylight                    45                                              NaN   \n",
       "                            47                                              NaN   \n",
       "                            48                                              NaN   \n",
       "                            62                                              NaN   \n",
       "                            68                                              NaN   \n",
       "\n",
       "Vehicle_Type                                      Goods over 3.5t. and under 7.5t  \\\n",
       "Light_Conditions            Number_of_Casualties                                    \n",
       "Darkness - lighting unknown 1                                              2019.6   \n",
       "                            2                                              2019.1   \n",
       "                            3                                              2019.8   \n",
       "                            4                                                 NaN   \n",
       "                            5                                                 NaN   \n",
       "...                                                                           ...   \n",
       "Daylight                    45                                                NaN   \n",
       "                            47                                                NaN   \n",
       "                            48                                                NaN   \n",
       "                            62                                                NaN   \n",
       "                            68                                                NaN   \n",
       "\n",
       "Vehicle_Type                                      Minibus (8 - 16 passenger seats)  \\\n",
       "Light_Conditions            Number_of_Casualties                                     \n",
       "Darkness - lighting unknown 1                                               2019.3   \n",
       "                            2                                               2019.0   \n",
       "                            3                                               2020.0   \n",
       "                            4                                                  NaN   \n",
       "                            5                                                  NaN   \n",
       "...                                                                            ...   \n",
       "Daylight                    45                                                 NaN   \n",
       "                            47                                                 NaN   \n",
       "                            48                                                 NaN   \n",
       "                            62                                                 NaN   \n",
       "                            68                                                 NaN   \n",
       "\n",
       "Vehicle_Type                                      Motorcycle 125cc and under  \\\n",
       "Light_Conditions            Number_of_Casualties                               \n",
       "Darkness - lighting unknown 1                                         2019.6   \n",
       "                            2                                         2019.3   \n",
       "                            3                                         2020.3   \n",
       "                            4                                         2019.0   \n",
       "                            5                                            NaN   \n",
       "...                                                                      ...   \n",
       "Daylight                    45                                           NaN   \n",
       "                            47                                           NaN   \n",
       "                            48                                           NaN   \n",
       "                            62                                           NaN   \n",
       "                            68                                           NaN   \n",
       "\n",
       "Vehicle_Type                                      Motorcycle 50cc and under  \\\n",
       "Light_Conditions            Number_of_Casualties                              \n",
       "Darkness - lighting unknown 1                                        2019.5   \n",
       "                            2                                        2019.8   \n",
       "                            3                                        2019.7   \n",
       "                            4                                           NaN   \n",
       "                            5                                           NaN   \n",
       "...                                                                     ...   \n",
       "Daylight                    45                                          NaN   \n",
       "                            47                                          NaN   \n",
       "                            48                                          NaN   \n",
       "                            62                                          NaN   \n",
       "                            68                                          NaN   \n",
       "\n",
       "Vehicle_Type                                      Motorcycle over 125cc and up to 500cc  \\\n",
       "Light_Conditions            Number_of_Casualties                                          \n",
       "Darkness - lighting unknown 1                                                    2019.6   \n",
       "                            2                                                    2019.3   \n",
       "                            3                                                    2019.0   \n",
       "                            4                                                    2019.0   \n",
       "                            5                                                    2019.0   \n",
       "...                                                                                 ...   \n",
       "Daylight                    45                                                      NaN   \n",
       "                            47                                                      NaN   \n",
       "                            48                                                      NaN   \n",
       "                            62                                                      NaN   \n",
       "                            68                                                      NaN   \n",
       "\n",
       "Vehicle_Type                                      Motorcycle over 500cc  \\\n",
       "Light_Conditions            Number_of_Casualties                          \n",
       "Darkness - lighting unknown 1                                    2019.5   \n",
       "                            2                                    2019.4   \n",
       "                            3                                    2020.0   \n",
       "                            4                                    2019.0   \n",
       "                            5                                       NaN   \n",
       "...                                                                 ...   \n",
       "Daylight                    45                                      NaN   \n",
       "                            47                                      NaN   \n",
       "                            48                                      NaN   \n",
       "                            62                                      NaN   \n",
       "                            68                                      NaN   \n",
       "\n",
       "Vehicle_Type                                      Other vehicle  Pedal cycle  \\\n",
       "Light_Conditions            Number_of_Casualties                               \n",
       "Darkness - lighting unknown 1                            2019.6       2021.0   \n",
       "                            2                            2019.7       2019.0   \n",
       "                            3                               NaN          NaN   \n",
       "                            4                            2019.0          NaN   \n",
       "                            5                            2019.7          NaN   \n",
       "...                                                         ...          ...   \n",
       "Daylight                    45                              NaN          NaN   \n",
       "                            47                              NaN          NaN   \n",
       "                            48                              NaN          NaN   \n",
       "                            62                              NaN          NaN   \n",
       "                            68                              NaN          NaN   \n",
       "\n",
       "Vehicle_Type                                      Ridden horse  \\\n",
       "Light_Conditions            Number_of_Casualties                 \n",
       "Darkness - lighting unknown 1                              NaN   \n",
       "                            2                              NaN   \n",
       "                            3                              NaN   \n",
       "                            4                              NaN   \n",
       "                            5                              NaN   \n",
       "...                                                        ...   \n",
       "Daylight                    45                             NaN   \n",
       "                            47                             NaN   \n",
       "                            48                             NaN   \n",
       "                            62                             NaN   \n",
       "                            68                             NaN   \n",
       "\n",
       "Vehicle_Type                                      Taxi/Private hire car  \\\n",
       "Light_Conditions            Number_of_Casualties                          \n",
       "Darkness - lighting unknown 1                                    2019.6   \n",
       "                            2                                    2019.7   \n",
       "                            3                                    2019.8   \n",
       "                            4                                    2019.6   \n",
       "                            5                                    2021.0   \n",
       "...                                                                 ...   \n",
       "Daylight                    45                                      NaN   \n",
       "                            47                                      NaN   \n",
       "                            48                                      NaN   \n",
       "                            62                                      NaN   \n",
       "                            68                                      NaN   \n",
       "\n",
       "Vehicle_Type                                      Van / Goods 3.5 tonnes mgw or under  \n",
       "Light_Conditions            Number_of_Casualties                                       \n",
       "Darkness - lighting unknown 1                                                  2019.6  \n",
       "                            2                                                  2019.5  \n",
       "                            3                                                  2020.3  \n",
       "                            4                                                  2020.0  \n",
       "                            5                                                     NaN  \n",
       "...                                                                               ...  \n",
       "Daylight                    45                                                    NaN  \n",
       "                            47                                                    NaN  \n",
       "                            48                                                    NaN  \n",
       "                            62                                                    NaN  \n",
       "                            68                                                    NaN  \n",
       "\n",
       "[180 rows x 16 columns]"
      ]
     },
     "execution_count": 100,
     "metadata": {},
     "output_type": "execute_result"
    }
   ],
   "source": [
    "wehther_ve.unstack()"
   ]
  },
  {
   "cell_type": "markdown",
   "id": "2e6e78b6-9271-473d-b728-17c17dfe04ab",
   "metadata": {},
   "source": [
    "<h1>Insight #17</h1>\n",
    "<h2>If accidents involving a specific vehicle type (e.g., motorcycles) occur more frequently in rural areas under poor light conditions, this may indicate a need for better road lighting and visibility measures. Conversely, a higher number of casualties in urban areas under good light conditions might suggest that factors like traffic congestion or pedestrian density contribute more to accident severity.</h2>"
   ]
  },
  {
   "cell_type": "markdown",
   "id": "00374962-c624-446f-87fd-8ecc5d3db2bc",
   "metadata": {},
   "source": [
    "<h1>How do light conditions, number of casualties, and road type influence the distribution of accidents in urban and rural areas?</h1>"
   ]
  },
  {
   "cell_type": "code",
   "execution_count": 106,
   "id": "8983f107-840d-4bb5-9be1-68708bfd4d19",
   "metadata": {},
   "outputs": [
    {
     "name": "stderr",
     "output_type": "stream",
     "text": [
      "C:\\Users\\MRCF\\AppData\\Local\\Temp\\ipykernel_11324\\2181512709.py:1: FutureWarning: The default of observed=False is deprecated and will be changed to True in a future version of pandas. Pass observed=False to retain current behavior or observed=True to adopt the future default and silence this warning.\n",
      "  wehther_ve = np.round(accident.groupby(['Light_Conditions', 'Number_of_Casualties', 'Road_Type'])['Urban_or_Rural_Area'].size(), 1)\n"
     ]
    }
   ],
   "source": [
    "wehther_ve = np.round(accident.groupby(['Light_Conditions', 'Number_of_Casualties', 'Road_Type'])['Urban_or_Rural_Area'].size(), 1)"
   ]
  },
  {
   "cell_type": "code",
   "execution_count": 108,
   "id": "d5dea05d-8513-43b1-a60b-413327175ddc",
   "metadata": {},
   "outputs": [
    {
     "data": {
      "text/html": [
       "<div>\n",
       "<style scoped>\n",
       "    .dataframe tbody tr th:only-of-type {\n",
       "        vertical-align: middle;\n",
       "    }\n",
       "\n",
       "    .dataframe tbody tr th {\n",
       "        vertical-align: top;\n",
       "    }\n",
       "\n",
       "    .dataframe thead th {\n",
       "        text-align: right;\n",
       "    }\n",
       "</style>\n",
       "<table border=\"1\" class=\"dataframe\">\n",
       "  <thead>\n",
       "    <tr style=\"text-align: right;\">\n",
       "      <th></th>\n",
       "      <th>Road_Type</th>\n",
       "      <th>Dual carriageway</th>\n",
       "      <th>One way street</th>\n",
       "      <th>Roundabout</th>\n",
       "      <th>Single carriageway</th>\n",
       "      <th>Slip road</th>\n",
       "      <th>unknown</th>\n",
       "    </tr>\n",
       "    <tr>\n",
       "      <th>Light_Conditions</th>\n",
       "      <th>Number_of_Casualties</th>\n",
       "      <th></th>\n",
       "      <th></th>\n",
       "      <th></th>\n",
       "      <th></th>\n",
       "      <th></th>\n",
       "      <th></th>\n",
       "    </tr>\n",
       "  </thead>\n",
       "  <tbody>\n",
       "    <tr>\n",
       "      <th rowspan=\"5\" valign=\"top\">Darkness - lighting unknown</th>\n",
       "      <th>1</th>\n",
       "      <td>684</td>\n",
       "      <td>104</td>\n",
       "      <td>378</td>\n",
       "      <td>3707</td>\n",
       "      <td>64</td>\n",
       "      <td>188</td>\n",
       "    </tr>\n",
       "    <tr>\n",
       "      <th>2</th>\n",
       "      <td>143</td>\n",
       "      <td>17</td>\n",
       "      <td>70</td>\n",
       "      <td>680</td>\n",
       "      <td>16</td>\n",
       "      <td>30</td>\n",
       "    </tr>\n",
       "    <tr>\n",
       "      <th>3</th>\n",
       "      <td>44</td>\n",
       "      <td>2</td>\n",
       "      <td>17</td>\n",
       "      <td>178</td>\n",
       "      <td>4</td>\n",
       "      <td>6</td>\n",
       "    </tr>\n",
       "    <tr>\n",
       "      <th>4</th>\n",
       "      <td>22</td>\n",
       "      <td>1</td>\n",
       "      <td>4</td>\n",
       "      <td>68</td>\n",
       "      <td>2</td>\n",
       "      <td>7</td>\n",
       "    </tr>\n",
       "    <tr>\n",
       "      <th>5</th>\n",
       "      <td>5</td>\n",
       "      <td>0</td>\n",
       "      <td>1</td>\n",
       "      <td>22</td>\n",
       "      <td>0</td>\n",
       "      <td>3</td>\n",
       "    </tr>\n",
       "    <tr>\n",
       "      <th>...</th>\n",
       "      <th>...</th>\n",
       "      <td>...</td>\n",
       "      <td>...</td>\n",
       "      <td>...</td>\n",
       "      <td>...</td>\n",
       "      <td>...</td>\n",
       "      <td>...</td>\n",
       "    </tr>\n",
       "    <tr>\n",
       "      <th rowspan=\"5\" valign=\"top\">Daylight</th>\n",
       "      <th>45</th>\n",
       "      <td>1</td>\n",
       "      <td>0</td>\n",
       "      <td>0</td>\n",
       "      <td>0</td>\n",
       "      <td>0</td>\n",
       "      <td>0</td>\n",
       "    </tr>\n",
       "    <tr>\n",
       "      <th>47</th>\n",
       "      <td>1</td>\n",
       "      <td>0</td>\n",
       "      <td>0</td>\n",
       "      <td>0</td>\n",
       "      <td>0</td>\n",
       "      <td>0</td>\n",
       "    </tr>\n",
       "    <tr>\n",
       "      <th>48</th>\n",
       "      <td>0</td>\n",
       "      <td>0</td>\n",
       "      <td>0</td>\n",
       "      <td>0</td>\n",
       "      <td>0</td>\n",
       "      <td>0</td>\n",
       "    </tr>\n",
       "    <tr>\n",
       "      <th>62</th>\n",
       "      <td>0</td>\n",
       "      <td>0</td>\n",
       "      <td>0</td>\n",
       "      <td>1</td>\n",
       "      <td>0</td>\n",
       "      <td>0</td>\n",
       "    </tr>\n",
       "    <tr>\n",
       "      <th>68</th>\n",
       "      <td>0</td>\n",
       "      <td>0</td>\n",
       "      <td>0</td>\n",
       "      <td>0</td>\n",
       "      <td>0</td>\n",
       "      <td>0</td>\n",
       "    </tr>\n",
       "  </tbody>\n",
       "</table>\n",
       "<p>180 rows × 6 columns</p>\n",
       "</div>"
      ],
      "text/plain": [
       "Road_Type                                         Dual carriageway  \\\n",
       "Light_Conditions            Number_of_Casualties                     \n",
       "Darkness - lighting unknown 1                                  684   \n",
       "                            2                                  143   \n",
       "                            3                                   44   \n",
       "                            4                                   22   \n",
       "                            5                                    5   \n",
       "...                                                            ...   \n",
       "Daylight                    45                                   1   \n",
       "                            47                                   1   \n",
       "                            48                                   0   \n",
       "                            62                                   0   \n",
       "                            68                                   0   \n",
       "\n",
       "Road_Type                                         One way street  Roundabout  \\\n",
       "Light_Conditions            Number_of_Casualties                               \n",
       "Darkness - lighting unknown 1                                104         378   \n",
       "                            2                                 17          70   \n",
       "                            3                                  2          17   \n",
       "                            4                                  1           4   \n",
       "                            5                                  0           1   \n",
       "...                                                          ...         ...   \n",
       "Daylight                    45                                 0           0   \n",
       "                            47                                 0           0   \n",
       "                            48                                 0           0   \n",
       "                            62                                 0           0   \n",
       "                            68                                 0           0   \n",
       "\n",
       "Road_Type                                         Single carriageway  \\\n",
       "Light_Conditions            Number_of_Casualties                       \n",
       "Darkness - lighting unknown 1                                   3707   \n",
       "                            2                                    680   \n",
       "                            3                                    178   \n",
       "                            4                                     68   \n",
       "                            5                                     22   \n",
       "...                                                              ...   \n",
       "Daylight                    45                                     0   \n",
       "                            47                                     0   \n",
       "                            48                                     0   \n",
       "                            62                                     1   \n",
       "                            68                                     0   \n",
       "\n",
       "Road_Type                                         Slip road  unknown  \n",
       "Light_Conditions            Number_of_Casualties                      \n",
       "Darkness - lighting unknown 1                            64      188  \n",
       "                            2                            16       30  \n",
       "                            3                             4        6  \n",
       "                            4                             2        7  \n",
       "                            5                             0        3  \n",
       "...                                                     ...      ...  \n",
       "Daylight                    45                            0        0  \n",
       "                            47                            0        0  \n",
       "                            48                            0        0  \n",
       "                            62                            0        0  \n",
       "                            68                            0        0  \n",
       "\n",
       "[180 rows x 6 columns]"
      ]
     },
     "execution_count": 108,
     "metadata": {},
     "output_type": "execute_result"
    }
   ],
   "source": [
    "wehther_ve.unstack()"
   ]
  },
  {
   "cell_type": "markdown",
   "id": "56ee3603-a6b0-4ea8-b306-f94037e08146",
   "metadata": {},
   "source": [
    "<h1>Insight #18</h1>\n",
    "<h2>If accidents on high-speed roads (e.g., motorways) occur more frequently in rural areas under poor light conditions, it may indicate a need for better nighttime visibility measures, such as improved road lighting or reflective markings. On the other hand, a higher number of casualties on urban roads under good light conditions might suggest that factors like heavy traffic flow, intersections, or pedestrian activity play a significant role in accident severity.</h2>"
   ]
  },
  {
   "cell_type": "markdown",
   "id": "d8651934-3938-49f8-b688-356a3b0afb56",
   "metadata": {},
   "source": [
    "<h1>How do light conditions, number of casualties, and weather conditions influence the distribution of accidents in urban and rural areas?</h1>"
   ]
  },
  {
   "cell_type": "code",
   "execution_count": 114,
   "id": "b5cb9dae-436e-4726-9626-dbf88de1608f",
   "metadata": {},
   "outputs": [
    {
     "name": "stderr",
     "output_type": "stream",
     "text": [
      "C:\\Users\\MRCF\\AppData\\Local\\Temp\\ipykernel_11324\\3703802756.py:1: FutureWarning: The default of observed=False is deprecated and will be changed to True in a future version of pandas. Pass observed=False to retain current behavior or observed=True to adopt the future default and silence this warning.\n",
      "  wehther_ve = np.round(accident.groupby(['Light_Conditions', 'Number_of_Casualties', 'Weather_Conditions'])['Urban_or_Rural_Area'].size(), 1)\n"
     ]
    }
   ],
   "source": [
    "wehther_ve = np.round(accident.groupby(['Light_Conditions', 'Number_of_Casualties', 'Weather_Conditions'])['Urban_or_Rural_Area'].size(), 1)"
   ]
  },
  {
   "cell_type": "code",
   "execution_count": 115,
   "id": "5db05616-37e7-4a79-853a-61d3416ddacb",
   "metadata": {},
   "outputs": [
    {
     "data": {
      "text/html": [
       "<div>\n",
       "<style scoped>\n",
       "    .dataframe tbody tr th:only-of-type {\n",
       "        vertical-align: middle;\n",
       "    }\n",
       "\n",
       "    .dataframe tbody tr th {\n",
       "        vertical-align: top;\n",
       "    }\n",
       "\n",
       "    .dataframe thead th {\n",
       "        text-align: right;\n",
       "    }\n",
       "</style>\n",
       "<table border=\"1\" class=\"dataframe\">\n",
       "  <thead>\n",
       "    <tr style=\"text-align: right;\">\n",
       "      <th></th>\n",
       "      <th>Weather_Conditions</th>\n",
       "      <th>Fine + high winds</th>\n",
       "      <th>Fine no high winds</th>\n",
       "      <th>Fog or mist</th>\n",
       "      <th>Other</th>\n",
       "      <th>Raining + high winds</th>\n",
       "      <th>Raining no high winds</th>\n",
       "      <th>Snowing + high winds</th>\n",
       "      <th>Snowing no high winds</th>\n",
       "      <th>unacounted</th>\n",
       "    </tr>\n",
       "    <tr>\n",
       "      <th>Light_Conditions</th>\n",
       "      <th>Number_of_Casualties</th>\n",
       "      <th></th>\n",
       "      <th></th>\n",
       "      <th></th>\n",
       "      <th></th>\n",
       "      <th></th>\n",
       "      <th></th>\n",
       "      <th></th>\n",
       "      <th></th>\n",
       "      <th></th>\n",
       "    </tr>\n",
       "  </thead>\n",
       "  <tbody>\n",
       "    <tr>\n",
       "      <th rowspan=\"5\" valign=\"top\">Darkness - lighting unknown</th>\n",
       "      <th>1</th>\n",
       "      <td>43</td>\n",
       "      <td>2862</td>\n",
       "      <td>48</td>\n",
       "      <td>151</td>\n",
       "      <td>82</td>\n",
       "      <td>498</td>\n",
       "      <td>10</td>\n",
       "      <td>74</td>\n",
       "      <td>1357</td>\n",
       "    </tr>\n",
       "    <tr>\n",
       "      <th>2</th>\n",
       "      <td>10</td>\n",
       "      <td>566</td>\n",
       "      <td>12</td>\n",
       "      <td>25</td>\n",
       "      <td>26</td>\n",
       "      <td>79</td>\n",
       "      <td>4</td>\n",
       "      <td>16</td>\n",
       "      <td>218</td>\n",
       "    </tr>\n",
       "    <tr>\n",
       "      <th>3</th>\n",
       "      <td>5</td>\n",
       "      <td>156</td>\n",
       "      <td>3</td>\n",
       "      <td>8</td>\n",
       "      <td>2</td>\n",
       "      <td>31</td>\n",
       "      <td>1</td>\n",
       "      <td>3</td>\n",
       "      <td>42</td>\n",
       "    </tr>\n",
       "    <tr>\n",
       "      <th>4</th>\n",
       "      <td>1</td>\n",
       "      <td>70</td>\n",
       "      <td>2</td>\n",
       "      <td>1</td>\n",
       "      <td>0</td>\n",
       "      <td>8</td>\n",
       "      <td>0</td>\n",
       "      <td>1</td>\n",
       "      <td>21</td>\n",
       "    </tr>\n",
       "    <tr>\n",
       "      <th>5</th>\n",
       "      <td>0</td>\n",
       "      <td>18</td>\n",
       "      <td>0</td>\n",
       "      <td>1</td>\n",
       "      <td>0</td>\n",
       "      <td>3</td>\n",
       "      <td>0</td>\n",
       "      <td>0</td>\n",
       "      <td>9</td>\n",
       "    </tr>\n",
       "    <tr>\n",
       "      <th>...</th>\n",
       "      <th>...</th>\n",
       "      <td>...</td>\n",
       "      <td>...</td>\n",
       "      <td>...</td>\n",
       "      <td>...</td>\n",
       "      <td>...</td>\n",
       "      <td>...</td>\n",
       "      <td>...</td>\n",
       "      <td>...</td>\n",
       "      <td>...</td>\n",
       "    </tr>\n",
       "    <tr>\n",
       "      <th rowspan=\"5\" valign=\"top\">Daylight</th>\n",
       "      <th>45</th>\n",
       "      <td>0</td>\n",
       "      <td>1</td>\n",
       "      <td>0</td>\n",
       "      <td>0</td>\n",
       "      <td>0</td>\n",
       "      <td>0</td>\n",
       "      <td>0</td>\n",
       "      <td>0</td>\n",
       "      <td>0</td>\n",
       "    </tr>\n",
       "    <tr>\n",
       "      <th>47</th>\n",
       "      <td>0</td>\n",
       "      <td>0</td>\n",
       "      <td>0</td>\n",
       "      <td>0</td>\n",
       "      <td>0</td>\n",
       "      <td>1</td>\n",
       "      <td>0</td>\n",
       "      <td>0</td>\n",
       "      <td>0</td>\n",
       "    </tr>\n",
       "    <tr>\n",
       "      <th>48</th>\n",
       "      <td>0</td>\n",
       "      <td>0</td>\n",
       "      <td>0</td>\n",
       "      <td>0</td>\n",
       "      <td>0</td>\n",
       "      <td>0</td>\n",
       "      <td>0</td>\n",
       "      <td>0</td>\n",
       "      <td>0</td>\n",
       "    </tr>\n",
       "    <tr>\n",
       "      <th>62</th>\n",
       "      <td>0</td>\n",
       "      <td>1</td>\n",
       "      <td>0</td>\n",
       "      <td>0</td>\n",
       "      <td>0</td>\n",
       "      <td>0</td>\n",
       "      <td>0</td>\n",
       "      <td>0</td>\n",
       "      <td>0</td>\n",
       "    </tr>\n",
       "    <tr>\n",
       "      <th>68</th>\n",
       "      <td>0</td>\n",
       "      <td>0</td>\n",
       "      <td>0</td>\n",
       "      <td>0</td>\n",
       "      <td>0</td>\n",
       "      <td>0</td>\n",
       "      <td>0</td>\n",
       "      <td>0</td>\n",
       "      <td>0</td>\n",
       "    </tr>\n",
       "  </tbody>\n",
       "</table>\n",
       "<p>180 rows × 9 columns</p>\n",
       "</div>"
      ],
      "text/plain": [
       "Weather_Conditions                                Fine + high winds  \\\n",
       "Light_Conditions            Number_of_Casualties                      \n",
       "Darkness - lighting unknown 1                                    43   \n",
       "                            2                                    10   \n",
       "                            3                                     5   \n",
       "                            4                                     1   \n",
       "                            5                                     0   \n",
       "...                                                             ...   \n",
       "Daylight                    45                                    0   \n",
       "                            47                                    0   \n",
       "                            48                                    0   \n",
       "                            62                                    0   \n",
       "                            68                                    0   \n",
       "\n",
       "Weather_Conditions                                Fine no high winds  \\\n",
       "Light_Conditions            Number_of_Casualties                       \n",
       "Darkness - lighting unknown 1                                   2862   \n",
       "                            2                                    566   \n",
       "                            3                                    156   \n",
       "                            4                                     70   \n",
       "                            5                                     18   \n",
       "...                                                              ...   \n",
       "Daylight                    45                                     1   \n",
       "                            47                                     0   \n",
       "                            48                                     0   \n",
       "                            62                                     1   \n",
       "                            68                                     0   \n",
       "\n",
       "Weather_Conditions                                Fog or mist  Other  \\\n",
       "Light_Conditions            Number_of_Casualties                       \n",
       "Darkness - lighting unknown 1                              48    151   \n",
       "                            2                              12     25   \n",
       "                            3                               3      8   \n",
       "                            4                               2      1   \n",
       "                            5                               0      1   \n",
       "...                                                       ...    ...   \n",
       "Daylight                    45                              0      0   \n",
       "                            47                              0      0   \n",
       "                            48                              0      0   \n",
       "                            62                              0      0   \n",
       "                            68                              0      0   \n",
       "\n",
       "Weather_Conditions                                Raining + high winds  \\\n",
       "Light_Conditions            Number_of_Casualties                         \n",
       "Darkness - lighting unknown 1                                       82   \n",
       "                            2                                       26   \n",
       "                            3                                        2   \n",
       "                            4                                        0   \n",
       "                            5                                        0   \n",
       "...                                                                ...   \n",
       "Daylight                    45                                       0   \n",
       "                            47                                       0   \n",
       "                            48                                       0   \n",
       "                            62                                       0   \n",
       "                            68                                       0   \n",
       "\n",
       "Weather_Conditions                                Raining no high winds  \\\n",
       "Light_Conditions            Number_of_Casualties                          \n",
       "Darkness - lighting unknown 1                                       498   \n",
       "                            2                                        79   \n",
       "                            3                                        31   \n",
       "                            4                                         8   \n",
       "                            5                                         3   \n",
       "...                                                                 ...   \n",
       "Daylight                    45                                        0   \n",
       "                            47                                        1   \n",
       "                            48                                        0   \n",
       "                            62                                        0   \n",
       "                            68                                        0   \n",
       "\n",
       "Weather_Conditions                                Snowing + high winds  \\\n",
       "Light_Conditions            Number_of_Casualties                         \n",
       "Darkness - lighting unknown 1                                       10   \n",
       "                            2                                        4   \n",
       "                            3                                        1   \n",
       "                            4                                        0   \n",
       "                            5                                        0   \n",
       "...                                                                ...   \n",
       "Daylight                    45                                       0   \n",
       "                            47                                       0   \n",
       "                            48                                       0   \n",
       "                            62                                       0   \n",
       "                            68                                       0   \n",
       "\n",
       "Weather_Conditions                                Snowing no high winds  \\\n",
       "Light_Conditions            Number_of_Casualties                          \n",
       "Darkness - lighting unknown 1                                        74   \n",
       "                            2                                        16   \n",
       "                            3                                         3   \n",
       "                            4                                         1   \n",
       "                            5                                         0   \n",
       "...                                                                 ...   \n",
       "Daylight                    45                                        0   \n",
       "                            47                                        0   \n",
       "                            48                                        0   \n",
       "                            62                                        0   \n",
       "                            68                                        0   \n",
       "\n",
       "Weather_Conditions                                unacounted  \n",
       "Light_Conditions            Number_of_Casualties              \n",
       "Darkness - lighting unknown 1                           1357  \n",
       "                            2                            218  \n",
       "                            3                             42  \n",
       "                            4                             21  \n",
       "                            5                              9  \n",
       "...                                                      ...  \n",
       "Daylight                    45                             0  \n",
       "                            47                             0  \n",
       "                            48                             0  \n",
       "                            62                             0  \n",
       "                            68                             0  \n",
       "\n",
       "[180 rows x 9 columns]"
      ]
     },
     "execution_count": 115,
     "metadata": {},
     "output_type": "execute_result"
    }
   ],
   "source": [
    "wehther_ve.unstack()"
   ]
  },
  {
   "cell_type": "markdown",
   "id": "20d3c5f6-2999-4a0a-ac47-2ccdc10753a7",
   "metadata": {},
   "source": [
    "<h1>Insight #19</h1>\n",
    "<h2>If accidents occur more frequently in rural areas during poor weather conditions (e.g., heavy rain or fog) and low-light conditions, this may suggest that reduced visibility and slippery roads contribute significantly to accident rates. Conversely, a high number of casualties in urban areas under clear weather and good lighting might indicate that factors like traffic congestion, driver behavior, or pedestrian interactions play a more critical role in accident severity.</h2>"
   ]
  },
  {
   "cell_type": "markdown",
   "id": "09f10bc4-d445-4e88-b134-d52ce05240ae",
   "metadata": {},
   "source": [
    "<h1>How do light conditions, number of casualties, and district area influence the distribution of accidents in urban and rural areas?</h1>"
   ]
  },
  {
   "cell_type": "code",
   "execution_count": null,
   "id": "abde87b3-cfa2-4a15-a85c-67bdce3af943",
   "metadata": {},
   "outputs": [],
   "source": [
    "wehther_ve = np.round(accident.groupby(['Light_Conditions', 'Number_of_Casualties', 'District Area'])['Urban_or_Rural_Area'].size(), 1)"
   ]
  },
  {
   "cell_type": "code",
   "execution_count": null,
   "id": "6a5e5a54-e843-4130-9a06-5abcbc4f9bf4",
   "metadata": {},
   "outputs": [],
   "source": [
    "wehther_ve.unstack()"
   ]
  },
  {
   "cell_type": "markdown",
   "id": "1681d953-80ef-4310-be1f-09e2d9b9abf7",
   "metadata": {},
   "source": [
    "<h1>Insight #20</h1>\n",
    "<h2>If certain district areas experience more accidents in rural settings under poor light conditions, this may highlight regional infrastructure issues such as inadequate street lighting or poorly maintained roads. On the other hand, a high number of casualties in urban district areas with good lighting might indicate that high population density, busy intersections, or traffic flow patterns contribute more to accident severity.</h2>"
   ]
  },
  {
   "cell_type": "code",
   "execution_count": null,
   "id": "9051acc8-faee-4680-8721-57cbaeb09699",
   "metadata": {},
   "outputs": [],
   "source": []
  },
  {
   "cell_type": "code",
   "execution_count": null,
   "id": "d8203ac1-5ab5-4777-8341-1deb6fd0b017",
   "metadata": {},
   "outputs": [],
   "source": []
  },
  {
   "cell_type": "code",
   "execution_count": null,
   "id": "5360d23d-4aba-4770-a55b-cdba5ddd864e",
   "metadata": {},
   "outputs": [],
   "source": []
  },
  {
   "cell_type": "code",
   "execution_count": null,
   "id": "2a330410-8cb5-41bc-abdc-f87d7e5d9757",
   "metadata": {},
   "outputs": [],
   "source": []
  },
  {
   "cell_type": "code",
   "execution_count": null,
   "id": "b7b5341c-9bc6-49c2-9ddd-b9f9d3171aed",
   "metadata": {},
   "outputs": [],
   "source": []
  },
  {
   "cell_type": "code",
   "execution_count": null,
   "id": "d2e9c27a-1b37-4b62-81e3-726b40aba52a",
   "metadata": {},
   "outputs": [],
   "source": []
  },
  {
   "cell_type": "code",
   "execution_count": null,
   "id": "6abf0cca-40c0-4a8b-85f5-471344a4e571",
   "metadata": {},
   "outputs": [],
   "source": []
  },
  {
   "cell_type": "code",
   "execution_count": null,
   "id": "91e97608-6926-4121-8127-795368d426be",
   "metadata": {},
   "outputs": [],
   "source": []
  },
  {
   "cell_type": "code",
   "execution_count": null,
   "id": "5d7f1466-4047-4e58-a2e0-327652e900f2",
   "metadata": {},
   "outputs": [],
   "source": []
  },
  {
   "cell_type": "code",
   "execution_count": null,
   "id": "eda648b0-bcf9-4304-928f-fb7a8e341c2f",
   "metadata": {},
   "outputs": [],
   "source": []
  },
  {
   "cell_type": "code",
   "execution_count": null,
   "id": "8e8bfad2-4a52-4b63-a7e0-627d0f6f271d",
   "metadata": {},
   "outputs": [],
   "source": []
  }
 ],
 "metadata": {
  "kernelspec": {
   "display_name": "Python 3 (ipykernel)",
   "language": "python",
   "name": "python3"
  },
  "language_info": {
   "codemirror_mode": {
    "name": "ipython",
    "version": 3
   },
   "file_extension": ".py",
   "mimetype": "text/x-python",
   "name": "python",
   "nbconvert_exporter": "python",
   "pygments_lexer": "ipython3",
   "version": "3.13.2"
  }
 },
 "nbformat": 4,
 "nbformat_minor": 5
}
