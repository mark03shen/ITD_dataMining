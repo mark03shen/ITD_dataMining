{
 "cells": [
  {
   "cell_type": "code",
   "execution_count": 1,
   "id": "2ab0c6ad-7b91-4db4-968e-63f196b1375c",
   "metadata": {},
   "outputs": [],
   "source": [
    "import numpy as np\n",
    "import pandas as pd\n",
    "import seaborn as sns\n",
    "import matplotlib.pyplot as plt"
   ]
  },
  {
   "cell_type": "code",
   "execution_count": 2,
   "id": "9b83bf1e-ff91-4798-9fa2-1b7b9f94d45b",
   "metadata": {},
   "outputs": [],
   "source": [
    "import pandas as pd\n",
    "penguins = pd.read_csv('datasets\\\\penguins.csv')"
   ]
  },
  {
   "cell_type": "code",
   "execution_count": 3,
   "id": "ad79cae6-7197-4690-8b62-8328b559df67",
   "metadata": {},
   "outputs": [
    {
     "data": {
      "text/html": [
       "<div>\n",
       "<style scoped>\n",
       "    .dataframe tbody tr th:only-of-type {\n",
       "        vertical-align: middle;\n",
       "    }\n",
       "\n",
       "    .dataframe tbody tr th {\n",
       "        vertical-align: top;\n",
       "    }\n",
       "\n",
       "    .dataframe thead th {\n",
       "        text-align: right;\n",
       "    }\n",
       "</style>\n",
       "<table border=\"1\" class=\"dataframe\">\n",
       "  <thead>\n",
       "    <tr style=\"text-align: right;\">\n",
       "      <th></th>\n",
       "      <th>rowid</th>\n",
       "      <th>species</th>\n",
       "      <th>island</th>\n",
       "      <th>bill_length_mm</th>\n",
       "      <th>bill_depth_mm</th>\n",
       "      <th>flipper_length_mm</th>\n",
       "      <th>body_mass_g</th>\n",
       "      <th>sex</th>\n",
       "      <th>year</th>\n",
       "    </tr>\n",
       "  </thead>\n",
       "  <tbody>\n",
       "    <tr>\n",
       "      <th>0</th>\n",
       "      <td>1</td>\n",
       "      <td>Adelie</td>\n",
       "      <td>Torgersen</td>\n",
       "      <td>39.1</td>\n",
       "      <td>18.7</td>\n",
       "      <td>181.0</td>\n",
       "      <td>3750.0</td>\n",
       "      <td>male</td>\n",
       "      <td>2007</td>\n",
       "    </tr>\n",
       "    <tr>\n",
       "      <th>1</th>\n",
       "      <td>2</td>\n",
       "      <td>Adelie</td>\n",
       "      <td>Torgersen</td>\n",
       "      <td>39.5</td>\n",
       "      <td>17.4</td>\n",
       "      <td>186.0</td>\n",
       "      <td>3800.0</td>\n",
       "      <td>female</td>\n",
       "      <td>2007</td>\n",
       "    </tr>\n",
       "    <tr>\n",
       "      <th>2</th>\n",
       "      <td>3</td>\n",
       "      <td>Adelie</td>\n",
       "      <td>Torgersen</td>\n",
       "      <td>40.3</td>\n",
       "      <td>18.0</td>\n",
       "      <td>195.0</td>\n",
       "      <td>3250.0</td>\n",
       "      <td>female</td>\n",
       "      <td>2007</td>\n",
       "    </tr>\n",
       "    <tr>\n",
       "      <th>3</th>\n",
       "      <td>4</td>\n",
       "      <td>Adelie</td>\n",
       "      <td>Torgersen</td>\n",
       "      <td>NaN</td>\n",
       "      <td>NaN</td>\n",
       "      <td>NaN</td>\n",
       "      <td>NaN</td>\n",
       "      <td>NaN</td>\n",
       "      <td>2007</td>\n",
       "    </tr>\n",
       "    <tr>\n",
       "      <th>4</th>\n",
       "      <td>5</td>\n",
       "      <td>Adelie</td>\n",
       "      <td>Torgersen</td>\n",
       "      <td>36.7</td>\n",
       "      <td>19.3</td>\n",
       "      <td>193.0</td>\n",
       "      <td>3450.0</td>\n",
       "      <td>female</td>\n",
       "      <td>2007</td>\n",
       "    </tr>\n",
       "    <tr>\n",
       "      <th>...</th>\n",
       "      <td>...</td>\n",
       "      <td>...</td>\n",
       "      <td>...</td>\n",
       "      <td>...</td>\n",
       "      <td>...</td>\n",
       "      <td>...</td>\n",
       "      <td>...</td>\n",
       "      <td>...</td>\n",
       "      <td>...</td>\n",
       "    </tr>\n",
       "    <tr>\n",
       "      <th>339</th>\n",
       "      <td>340</td>\n",
       "      <td>Chinstrap</td>\n",
       "      <td>Dream</td>\n",
       "      <td>55.8</td>\n",
       "      <td>19.8</td>\n",
       "      <td>207.0</td>\n",
       "      <td>4000.0</td>\n",
       "      <td>male</td>\n",
       "      <td>2009</td>\n",
       "    </tr>\n",
       "    <tr>\n",
       "      <th>340</th>\n",
       "      <td>341</td>\n",
       "      <td>Chinstrap</td>\n",
       "      <td>Dream</td>\n",
       "      <td>43.5</td>\n",
       "      <td>18.1</td>\n",
       "      <td>202.0</td>\n",
       "      <td>3400.0</td>\n",
       "      <td>female</td>\n",
       "      <td>2009</td>\n",
       "    </tr>\n",
       "    <tr>\n",
       "      <th>341</th>\n",
       "      <td>342</td>\n",
       "      <td>Chinstrap</td>\n",
       "      <td>Dream</td>\n",
       "      <td>49.6</td>\n",
       "      <td>18.2</td>\n",
       "      <td>193.0</td>\n",
       "      <td>3775.0</td>\n",
       "      <td>male</td>\n",
       "      <td>2009</td>\n",
       "    </tr>\n",
       "    <tr>\n",
       "      <th>342</th>\n",
       "      <td>343</td>\n",
       "      <td>Chinstrap</td>\n",
       "      <td>Dream</td>\n",
       "      <td>50.8</td>\n",
       "      <td>19.0</td>\n",
       "      <td>210.0</td>\n",
       "      <td>4100.0</td>\n",
       "      <td>male</td>\n",
       "      <td>2009</td>\n",
       "    </tr>\n",
       "    <tr>\n",
       "      <th>343</th>\n",
       "      <td>344</td>\n",
       "      <td>Chinstrap</td>\n",
       "      <td>Dream</td>\n",
       "      <td>50.2</td>\n",
       "      <td>18.7</td>\n",
       "      <td>198.0</td>\n",
       "      <td>3775.0</td>\n",
       "      <td>female</td>\n",
       "      <td>2009</td>\n",
       "    </tr>\n",
       "  </tbody>\n",
       "</table>\n",
       "<p>344 rows × 9 columns</p>\n",
       "</div>"
      ],
      "text/plain": [
       "     rowid    species     island  bill_length_mm  bill_depth_mm  \\\n",
       "0        1     Adelie  Torgersen            39.1           18.7   \n",
       "1        2     Adelie  Torgersen            39.5           17.4   \n",
       "2        3     Adelie  Torgersen            40.3           18.0   \n",
       "3        4     Adelie  Torgersen             NaN            NaN   \n",
       "4        5     Adelie  Torgersen            36.7           19.3   \n",
       "..     ...        ...        ...             ...            ...   \n",
       "339    340  Chinstrap      Dream            55.8           19.8   \n",
       "340    341  Chinstrap      Dream            43.5           18.1   \n",
       "341    342  Chinstrap      Dream            49.6           18.2   \n",
       "342    343  Chinstrap      Dream            50.8           19.0   \n",
       "343    344  Chinstrap      Dream            50.2           18.7   \n",
       "\n",
       "     flipper_length_mm  body_mass_g     sex  year  \n",
       "0                181.0       3750.0    male  2007  \n",
       "1                186.0       3800.0  female  2007  \n",
       "2                195.0       3250.0  female  2007  \n",
       "3                  NaN          NaN     NaN  2007  \n",
       "4                193.0       3450.0  female  2007  \n",
       "..                 ...          ...     ...   ...  \n",
       "339              207.0       4000.0    male  2009  \n",
       "340              202.0       3400.0  female  2009  \n",
       "341              193.0       3775.0    male  2009  \n",
       "342              210.0       4100.0    male  2009  \n",
       "343              198.0       3775.0  female  2009  \n",
       "\n",
       "[344 rows x 9 columns]"
      ]
     },
     "execution_count": 3,
     "metadata": {},
     "output_type": "execute_result"
    }
   ],
   "source": [
    "penguins"
   ]
  },
  {
   "cell_type": "code",
   "execution_count": 4,
   "id": "19655859-5cca-4aaf-b1ef-8bda571e9bbe",
   "metadata": {},
   "outputs": [
    {
     "name": "stdout",
     "output_type": "stream",
     "text": [
      "<class 'pandas.core.frame.DataFrame'>\n",
      "RangeIndex: 344 entries, 0 to 343\n",
      "Data columns (total 9 columns):\n",
      " #   Column             Non-Null Count  Dtype  \n",
      "---  ------             --------------  -----  \n",
      " 0   rowid              344 non-null    int64  \n",
      " 1   species            344 non-null    object \n",
      " 2   island             344 non-null    object \n",
      " 3   bill_length_mm     342 non-null    float64\n",
      " 4   bill_depth_mm      342 non-null    float64\n",
      " 5   flipper_length_mm  342 non-null    float64\n",
      " 6   body_mass_g        342 non-null    float64\n",
      " 7   sex                333 non-null    object \n",
      " 8   year               344 non-null    int64  \n",
      "dtypes: float64(4), int64(2), object(3)\n",
      "memory usage: 24.3+ KB\n"
     ]
    }
   ],
   "source": [
    "penguins.info()"
   ]
  },
  {
   "cell_type": "code",
   "execution_count": 5,
   "id": "2357148d-42c1-4099-9eb8-6f1453d672e8",
   "metadata": {},
   "outputs": [],
   "source": [
    "penguins['wkilo'] = np.round(penguins['body_mass_g'] / 1000 , 2)"
   ]
  },
  {
   "cell_type": "code",
   "execution_count": 6,
   "id": "3f3958e4-4f0a-4e07-97ed-c089a95c0d6f",
   "metadata": {},
   "outputs": [
    {
     "data": {
      "text/html": [
       "<div>\n",
       "<style scoped>\n",
       "    .dataframe tbody tr th:only-of-type {\n",
       "        vertical-align: middle;\n",
       "    }\n",
       "\n",
       "    .dataframe tbody tr th {\n",
       "        vertical-align: top;\n",
       "    }\n",
       "\n",
       "    .dataframe thead th {\n",
       "        text-align: right;\n",
       "    }\n",
       "</style>\n",
       "<table border=\"1\" class=\"dataframe\">\n",
       "  <thead>\n",
       "    <tr style=\"text-align: right;\">\n",
       "      <th></th>\n",
       "      <th>rowid</th>\n",
       "      <th>species</th>\n",
       "      <th>island</th>\n",
       "      <th>bill_length_mm</th>\n",
       "      <th>bill_depth_mm</th>\n",
       "      <th>flipper_length_mm</th>\n",
       "      <th>body_mass_g</th>\n",
       "      <th>sex</th>\n",
       "      <th>year</th>\n",
       "      <th>wkilo</th>\n",
       "    </tr>\n",
       "  </thead>\n",
       "  <tbody>\n",
       "    <tr>\n",
       "      <th>0</th>\n",
       "      <td>1</td>\n",
       "      <td>Adelie</td>\n",
       "      <td>Torgersen</td>\n",
       "      <td>39.1</td>\n",
       "      <td>18.7</td>\n",
       "      <td>181.0</td>\n",
       "      <td>3750.0</td>\n",
       "      <td>male</td>\n",
       "      <td>2007</td>\n",
       "      <td>3.75</td>\n",
       "    </tr>\n",
       "    <tr>\n",
       "      <th>1</th>\n",
       "      <td>2</td>\n",
       "      <td>Adelie</td>\n",
       "      <td>Torgersen</td>\n",
       "      <td>39.5</td>\n",
       "      <td>17.4</td>\n",
       "      <td>186.0</td>\n",
       "      <td>3800.0</td>\n",
       "      <td>female</td>\n",
       "      <td>2007</td>\n",
       "      <td>3.80</td>\n",
       "    </tr>\n",
       "    <tr>\n",
       "      <th>2</th>\n",
       "      <td>3</td>\n",
       "      <td>Adelie</td>\n",
       "      <td>Torgersen</td>\n",
       "      <td>40.3</td>\n",
       "      <td>18.0</td>\n",
       "      <td>195.0</td>\n",
       "      <td>3250.0</td>\n",
       "      <td>female</td>\n",
       "      <td>2007</td>\n",
       "      <td>3.25</td>\n",
       "    </tr>\n",
       "    <tr>\n",
       "      <th>3</th>\n",
       "      <td>4</td>\n",
       "      <td>Adelie</td>\n",
       "      <td>Torgersen</td>\n",
       "      <td>NaN</td>\n",
       "      <td>NaN</td>\n",
       "      <td>NaN</td>\n",
       "      <td>NaN</td>\n",
       "      <td>NaN</td>\n",
       "      <td>2007</td>\n",
       "      <td>NaN</td>\n",
       "    </tr>\n",
       "    <tr>\n",
       "      <th>4</th>\n",
       "      <td>5</td>\n",
       "      <td>Adelie</td>\n",
       "      <td>Torgersen</td>\n",
       "      <td>36.7</td>\n",
       "      <td>19.3</td>\n",
       "      <td>193.0</td>\n",
       "      <td>3450.0</td>\n",
       "      <td>female</td>\n",
       "      <td>2007</td>\n",
       "      <td>3.45</td>\n",
       "    </tr>\n",
       "    <tr>\n",
       "      <th>...</th>\n",
       "      <td>...</td>\n",
       "      <td>...</td>\n",
       "      <td>...</td>\n",
       "      <td>...</td>\n",
       "      <td>...</td>\n",
       "      <td>...</td>\n",
       "      <td>...</td>\n",
       "      <td>...</td>\n",
       "      <td>...</td>\n",
       "      <td>...</td>\n",
       "    </tr>\n",
       "    <tr>\n",
       "      <th>339</th>\n",
       "      <td>340</td>\n",
       "      <td>Chinstrap</td>\n",
       "      <td>Dream</td>\n",
       "      <td>55.8</td>\n",
       "      <td>19.8</td>\n",
       "      <td>207.0</td>\n",
       "      <td>4000.0</td>\n",
       "      <td>male</td>\n",
       "      <td>2009</td>\n",
       "      <td>4.00</td>\n",
       "    </tr>\n",
       "    <tr>\n",
       "      <th>340</th>\n",
       "      <td>341</td>\n",
       "      <td>Chinstrap</td>\n",
       "      <td>Dream</td>\n",
       "      <td>43.5</td>\n",
       "      <td>18.1</td>\n",
       "      <td>202.0</td>\n",
       "      <td>3400.0</td>\n",
       "      <td>female</td>\n",
       "      <td>2009</td>\n",
       "      <td>3.40</td>\n",
       "    </tr>\n",
       "    <tr>\n",
       "      <th>341</th>\n",
       "      <td>342</td>\n",
       "      <td>Chinstrap</td>\n",
       "      <td>Dream</td>\n",
       "      <td>49.6</td>\n",
       "      <td>18.2</td>\n",
       "      <td>193.0</td>\n",
       "      <td>3775.0</td>\n",
       "      <td>male</td>\n",
       "      <td>2009</td>\n",
       "      <td>3.78</td>\n",
       "    </tr>\n",
       "    <tr>\n",
       "      <th>342</th>\n",
       "      <td>343</td>\n",
       "      <td>Chinstrap</td>\n",
       "      <td>Dream</td>\n",
       "      <td>50.8</td>\n",
       "      <td>19.0</td>\n",
       "      <td>210.0</td>\n",
       "      <td>4100.0</td>\n",
       "      <td>male</td>\n",
       "      <td>2009</td>\n",
       "      <td>4.10</td>\n",
       "    </tr>\n",
       "    <tr>\n",
       "      <th>343</th>\n",
       "      <td>344</td>\n",
       "      <td>Chinstrap</td>\n",
       "      <td>Dream</td>\n",
       "      <td>50.2</td>\n",
       "      <td>18.7</td>\n",
       "      <td>198.0</td>\n",
       "      <td>3775.0</td>\n",
       "      <td>female</td>\n",
       "      <td>2009</td>\n",
       "      <td>3.78</td>\n",
       "    </tr>\n",
       "  </tbody>\n",
       "</table>\n",
       "<p>344 rows × 10 columns</p>\n",
       "</div>"
      ],
      "text/plain": [
       "     rowid    species     island  bill_length_mm  bill_depth_mm  \\\n",
       "0        1     Adelie  Torgersen            39.1           18.7   \n",
       "1        2     Adelie  Torgersen            39.5           17.4   \n",
       "2        3     Adelie  Torgersen            40.3           18.0   \n",
       "3        4     Adelie  Torgersen             NaN            NaN   \n",
       "4        5     Adelie  Torgersen            36.7           19.3   \n",
       "..     ...        ...        ...             ...            ...   \n",
       "339    340  Chinstrap      Dream            55.8           19.8   \n",
       "340    341  Chinstrap      Dream            43.5           18.1   \n",
       "341    342  Chinstrap      Dream            49.6           18.2   \n",
       "342    343  Chinstrap      Dream            50.8           19.0   \n",
       "343    344  Chinstrap      Dream            50.2           18.7   \n",
       "\n",
       "     flipper_length_mm  body_mass_g     sex  year  wkilo  \n",
       "0                181.0       3750.0    male  2007   3.75  \n",
       "1                186.0       3800.0  female  2007   3.80  \n",
       "2                195.0       3250.0  female  2007   3.25  \n",
       "3                  NaN          NaN     NaN  2007    NaN  \n",
       "4                193.0       3450.0  female  2007   3.45  \n",
       "..                 ...          ...     ...   ...    ...  \n",
       "339              207.0       4000.0    male  2009   4.00  \n",
       "340              202.0       3400.0  female  2009   3.40  \n",
       "341              193.0       3775.0    male  2009   3.78  \n",
       "342              210.0       4100.0    male  2009   4.10  \n",
       "343              198.0       3775.0  female  2009   3.78  \n",
       "\n",
       "[344 rows x 10 columns]"
      ]
     },
     "execution_count": 6,
     "metadata": {},
     "output_type": "execute_result"
    }
   ],
   "source": [
    "penguins"
   ]
  },
  {
   "cell_type": "code",
   "execution_count": 7,
   "id": "ba3ef6a7-076c-4422-a783-3b8c76391d7e",
   "metadata": {},
   "outputs": [
    {
     "data": {
      "text/plain": [
       "rowid                 0\n",
       "species               0\n",
       "island                0\n",
       "bill_length_mm        2\n",
       "bill_depth_mm         2\n",
       "flipper_length_mm     2\n",
       "body_mass_g           2\n",
       "sex                  11\n",
       "year                  0\n",
       "wkilo                 2\n",
       "dtype: int64"
      ]
     },
     "execution_count": 7,
     "metadata": {},
     "output_type": "execute_result"
    }
   ],
   "source": [
    "penguins.isnull().sum()"
   ]
  },
  {
   "cell_type": "code",
   "execution_count": 8,
   "id": "87d21e8b-6eee-4e2d-b9a3-f6800501303b",
   "metadata": {},
   "outputs": [],
   "source": [
    "penguins['bill_length_mm'] = penguins['bill_length_mm'].fillna(penguins['bill_length_mm'].mean())"
   ]
  },
  {
   "cell_type": "code",
   "execution_count": 9,
   "id": "a7c5ff16-8338-4274-9a52-b51ea1de9ef8",
   "metadata": {},
   "outputs": [
    {
     "data": {
      "text/plain": [
       "rowid                 0\n",
       "species               0\n",
       "island                0\n",
       "bill_length_mm        0\n",
       "bill_depth_mm         2\n",
       "flipper_length_mm     2\n",
       "body_mass_g           2\n",
       "sex                  11\n",
       "year                  0\n",
       "wkilo                 2\n",
       "dtype: int64"
      ]
     },
     "execution_count": 9,
     "metadata": {},
     "output_type": "execute_result"
    }
   ],
   "source": [
    "penguins.isnull().sum()"
   ]
  },
  {
   "cell_type": "code",
   "execution_count": 10,
   "id": "0f7342d8-0f76-4e0a-a9c1-019b74d1624a",
   "metadata": {},
   "outputs": [],
   "source": [
    "penguins['bill_depth_mm'] = penguins['bill_depth_mm'].fillna(penguins['bill_depth_mm'].mean())"
   ]
  },
  {
   "cell_type": "code",
   "execution_count": 11,
   "id": "3615a6db-df22-438a-a4da-678e21dcda11",
   "metadata": {},
   "outputs": [
    {
     "data": {
      "text/plain": [
       "rowid                 0\n",
       "species               0\n",
       "island                0\n",
       "bill_length_mm        0\n",
       "bill_depth_mm         0\n",
       "flipper_length_mm     2\n",
       "body_mass_g           2\n",
       "sex                  11\n",
       "year                  0\n",
       "wkilo                 2\n",
       "dtype: int64"
      ]
     },
     "execution_count": 11,
     "metadata": {},
     "output_type": "execute_result"
    }
   ],
   "source": [
    "penguins.isnull().sum()"
   ]
  },
  {
   "cell_type": "code",
   "execution_count": 12,
   "id": "aa691bdf-3220-4109-a962-08497655b2eb",
   "metadata": {},
   "outputs": [],
   "source": [
    "penguins['flipper_length_mm'] = penguins['flipper_length_mm'].fillna(penguins['flipper_length_mm'].mean())"
   ]
  },
  {
   "cell_type": "code",
   "execution_count": 13,
   "id": "a22d49c0-dedf-4046-996c-9989efc8e11a",
   "metadata": {},
   "outputs": [
    {
     "data": {
      "text/plain": [
       "rowid                 0\n",
       "species               0\n",
       "island                0\n",
       "bill_length_mm        0\n",
       "bill_depth_mm         0\n",
       "flipper_length_mm     0\n",
       "body_mass_g           2\n",
       "sex                  11\n",
       "year                  0\n",
       "wkilo                 2\n",
       "dtype: int64"
      ]
     },
     "execution_count": 13,
     "metadata": {},
     "output_type": "execute_result"
    }
   ],
   "source": [
    "penguins.isnull().sum()"
   ]
  },
  {
   "cell_type": "code",
   "execution_count": 14,
   "id": "ccb7b123-04ae-4ac0-a689-574632f31456",
   "metadata": {},
   "outputs": [],
   "source": [
    "penguins['body_mass_g'] = penguins['body_mass_g'].fillna(penguins['body_mass_g'].mean())"
   ]
  },
  {
   "cell_type": "code",
   "execution_count": 15,
   "id": "cffa509d-a5ee-4ff5-b3f1-48fcc2fb0025",
   "metadata": {},
   "outputs": [
    {
     "data": {
      "text/plain": [
       "rowid                 0\n",
       "species               0\n",
       "island                0\n",
       "bill_length_mm        0\n",
       "bill_depth_mm         0\n",
       "flipper_length_mm     0\n",
       "body_mass_g           0\n",
       "sex                  11\n",
       "year                  0\n",
       "wkilo                 2\n",
       "dtype: int64"
      ]
     },
     "execution_count": 15,
     "metadata": {},
     "output_type": "execute_result"
    }
   ],
   "source": [
    "penguins.isnull().sum()"
   ]
  },
  {
   "cell_type": "code",
   "execution_count": 16,
   "id": "517b986d-3cb6-42b2-8d36-c005807dc970",
   "metadata": {},
   "outputs": [],
   "source": [
    "penguins['sex'] = penguins['sex'].fillna(penguins['sex'].mode()[0])"
   ]
  },
  {
   "cell_type": "code",
   "execution_count": 17,
   "id": "b281c9b3-43a8-4172-89ac-efefff3ed6fd",
   "metadata": {},
   "outputs": [
    {
     "data": {
      "text/plain": [
       "rowid                0\n",
       "species              0\n",
       "island               0\n",
       "bill_length_mm       0\n",
       "bill_depth_mm        0\n",
       "flipper_length_mm    0\n",
       "body_mass_g          0\n",
       "sex                  0\n",
       "year                 0\n",
       "wkilo                2\n",
       "dtype: int64"
      ]
     },
     "execution_count": 17,
     "metadata": {},
     "output_type": "execute_result"
    }
   ],
   "source": [
    "penguins.isnull().sum()"
   ]
  },
  {
   "cell_type": "code",
   "execution_count": 18,
   "id": "aa678a4c-5f10-4060-8c37-deb60658a93e",
   "metadata": {},
   "outputs": [],
   "source": [
    "penguins['wkilo'] = penguins['wkilo'].fillna(penguins['wkilo'].mean())"
   ]
  },
  {
   "cell_type": "code",
   "execution_count": 19,
   "id": "2daa3b86-b801-4fc1-bb9d-bebd62e317ef",
   "metadata": {},
   "outputs": [
    {
     "data": {
      "text/plain": [
       "rowid                0\n",
       "species              0\n",
       "island               0\n",
       "bill_length_mm       0\n",
       "bill_depth_mm        0\n",
       "flipper_length_mm    0\n",
       "body_mass_g          0\n",
       "sex                  0\n",
       "year                 0\n",
       "wkilo                0\n",
       "dtype: int64"
      ]
     },
     "execution_count": 19,
     "metadata": {},
     "output_type": "execute_result"
    }
   ],
   "source": [
    "penguins.isnull().sum()"
   ]
  },
  {
   "cell_type": "markdown",
   "id": "66e7bb35-3ee2-473e-95f9-cce82b85c935",
   "metadata": {},
   "source": [
    "penguins[penguins['species'] == 'Adelie']"
   ]
  },
  {
   "cell_type": "markdown",
   "id": "569c61d0-9a42-4062-90e5-8776c38ee96f",
   "metadata": {},
   "source": [
    "<h1>#1 does the penguins species 'Adelie' lives exclusively on an island </h1>"
   ]
  },
  {
   "cell_type": "markdown",
   "id": "a628548d-1bea-40c2-a9b8-6cf3507732c9",
   "metadata": {},
   "source": [
    "<h2> Adelie on an island </h2>"
   ]
  },
  {
   "cell_type": "code",
   "execution_count": 20,
   "id": "08ca2117-011c-47d6-829b-f9ac16923da8",
   "metadata": {},
   "outputs": [
    {
     "data": {
      "text/plain": [
       "0       True\n",
       "1       True\n",
       "2       True\n",
       "3       True\n",
       "4       True\n",
       "       ...  \n",
       "339    False\n",
       "340    False\n",
       "341    False\n",
       "342    False\n",
       "343    False\n",
       "Name: species, Length: 344, dtype: bool"
      ]
     },
     "execution_count": 20,
     "metadata": {},
     "output_type": "execute_result"
    }
   ],
   "source": [
    "penguins['species'] == 'Adelie'"
   ]
  },
  {
   "cell_type": "code",
   "execution_count": 21,
   "id": "45aff324-eb16-4f47-a365-42fdb1b81eae",
   "metadata": {},
   "outputs": [
    {
     "data": {
      "text/plain": [
       "0      False\n",
       "1      False\n",
       "2      False\n",
       "3      False\n",
       "4      False\n",
       "       ...  \n",
       "339    False\n",
       "340    False\n",
       "341    False\n",
       "342    False\n",
       "343    False\n",
       "Name: island, Length: 344, dtype: bool"
      ]
     },
     "execution_count": 21,
     "metadata": {},
     "output_type": "execute_result"
    }
   ],
   "source": [
    "penguins['island'] == 'Biscoe'"
   ]
  },
  {
   "cell_type": "markdown",
   "id": "b7469f26-f02b-47c3-bd36-3c2a1bf3d909",
   "metadata": {},
   "source": [
    "<h1> Insight #1 Adelie on an island </h1>"
   ]
  },
  {
   "cell_type": "code",
   "execution_count": 22,
   "id": "35380f04-8462-4ef8-9a2c-802a4dcb606f",
   "metadata": {},
   "outputs": [
    {
     "data": {
      "text/plain": [
       "rowid                44\n",
       "species              44\n",
       "island               44\n",
       "bill_length_mm       44\n",
       "bill_depth_mm        44\n",
       "flipper_length_mm    44\n",
       "body_mass_g          44\n",
       "sex                  44\n",
       "year                 44\n",
       "wkilo                44\n",
       "dtype: int64"
      ]
     },
     "execution_count": 22,
     "metadata": {},
     "output_type": "execute_result"
    }
   ],
   "source": [
    "penguins[(penguins['species'] == 'Adelie') & (penguins['island'] == 'Biscoe')].count()"
   ]
  },
  {
   "cell_type": "code",
   "execution_count": 23,
   "id": "1f94a1e4-a081-4fcc-b6fe-c448e88a633b",
   "metadata": {},
   "outputs": [],
   "source": [
    "Adelie_Biscoe = penguins[(penguins['species'] == 'Adelie') & (penguins['island'] == 'Biscoe')]"
   ]
  },
  {
   "cell_type": "code",
   "execution_count": 24,
   "id": "a6265b11-dd21-4b2d-ab82-e538eb26c4d1",
   "metadata": {},
   "outputs": [
    {
     "data": {
      "text/plain": [
       "rowid                56\n",
       "species              56\n",
       "island               56\n",
       "bill_length_mm       56\n",
       "bill_depth_mm        56\n",
       "flipper_length_mm    56\n",
       "body_mass_g          56\n",
       "sex                  56\n",
       "year                 56\n",
       "wkilo                56\n",
       "dtype: int64"
      ]
     },
     "execution_count": 24,
     "metadata": {},
     "output_type": "execute_result"
    }
   ],
   "source": [
    "penguins[(penguins['species'] == 'Adelie') & (penguins['island'] == 'Dream')].count()"
   ]
  },
  {
   "cell_type": "code",
   "execution_count": 25,
   "id": "4c3519f2-8e73-4f92-a2b6-4d6f8e90c9fb",
   "metadata": {},
   "outputs": [],
   "source": [
    "Adelie_Dream = penguins[(penguins['species'] == 'Adelie') & (penguins['island'] == 'Dream')]"
   ]
  },
  {
   "cell_type": "code",
   "execution_count": 26,
   "id": "faf349c0-b873-477f-8e77-ea0366d8a7d2",
   "metadata": {},
   "outputs": [
    {
     "data": {
      "text/plain": [
       "rowid                52\n",
       "species              52\n",
       "island               52\n",
       "bill_length_mm       52\n",
       "bill_depth_mm        52\n",
       "flipper_length_mm    52\n",
       "body_mass_g          52\n",
       "sex                  52\n",
       "year                 52\n",
       "wkilo                52\n",
       "dtype: int64"
      ]
     },
     "execution_count": 26,
     "metadata": {},
     "output_type": "execute_result"
    }
   ],
   "source": [
    "penguins[(penguins['species'] == 'Adelie') & (penguins['island'] == 'Torgersen')].count()"
   ]
  },
  {
   "cell_type": "code",
   "execution_count": 27,
   "id": "dfe4b709-6e84-4517-9d30-2f4a82464198",
   "metadata": {},
   "outputs": [],
   "source": [
    "Adelie_torg = penguins[(penguins['species'] == 'Adelie') & (penguins['island'] == 'Torgersen')]"
   ]
  },
  {
   "cell_type": "markdown",
   "id": "8c8614ae-e009-4ee5-a1fc-e1cf5ade48ed",
   "metadata": {},
   "source": [
    "<h2> Insight #2 Gento on an island</h2>"
   ]
  },
  {
   "cell_type": "code",
   "execution_count": 28,
   "id": "54229024-b0d1-44ad-a5cf-53abe7d6d482",
   "metadata": {},
   "outputs": [
    {
     "data": {
      "text/plain": [
       "rowid                124\n",
       "species              124\n",
       "island               124\n",
       "bill_length_mm       124\n",
       "bill_depth_mm        124\n",
       "flipper_length_mm    124\n",
       "body_mass_g          124\n",
       "sex                  124\n",
       "year                 124\n",
       "wkilo                124\n",
       "dtype: int64"
      ]
     },
     "execution_count": 28,
     "metadata": {},
     "output_type": "execute_result"
    }
   ],
   "source": [
    "penguins[(penguins['species'] == 'Gentoo') & (penguins['island'] == 'Biscoe')].count()"
   ]
  },
  {
   "cell_type": "code",
   "execution_count": 29,
   "id": "3e1bfc85-a341-4a05-b389-3803dd3fa444",
   "metadata": {},
   "outputs": [],
   "source": [
    "Gentoo_Biscoe = penguins[(penguins['species'] == 'Gentoo') & (penguins['island'] == 'Biscoe')]"
   ]
  },
  {
   "cell_type": "code",
   "execution_count": 30,
   "id": "e25cdbbe-7015-4c6b-bfb4-13a96923f592",
   "metadata": {},
   "outputs": [
    {
     "data": {
      "text/plain": [
       "rowid                0\n",
       "species              0\n",
       "island               0\n",
       "bill_length_mm       0\n",
       "bill_depth_mm        0\n",
       "flipper_length_mm    0\n",
       "body_mass_g          0\n",
       "sex                  0\n",
       "year                 0\n",
       "wkilo                0\n",
       "dtype: int64"
      ]
     },
     "execution_count": 30,
     "metadata": {},
     "output_type": "execute_result"
    }
   ],
   "source": [
    "penguins[(penguins['species'] == 'Gentoo') & (penguins['island'] == 'Dream')].count()"
   ]
  },
  {
   "cell_type": "code",
   "execution_count": 31,
   "id": "75b0d7de-2a61-4126-a55c-fe73a442bfaf",
   "metadata": {},
   "outputs": [],
   "source": [
    "Gentoo_Dream = penguins[(penguins['species'] == 'Gentoo') & (penguins['island'] == 'Dream')]"
   ]
  },
  {
   "cell_type": "code",
   "execution_count": 32,
   "id": "3ab54e66-9e93-4453-8bff-469f70bd8a86",
   "metadata": {},
   "outputs": [
    {
     "data": {
      "text/plain": [
       "rowid                0\n",
       "species              0\n",
       "island               0\n",
       "bill_length_mm       0\n",
       "bill_depth_mm        0\n",
       "flipper_length_mm    0\n",
       "body_mass_g          0\n",
       "sex                  0\n",
       "year                 0\n",
       "wkilo                0\n",
       "dtype: int64"
      ]
     },
     "execution_count": 32,
     "metadata": {},
     "output_type": "execute_result"
    }
   ],
   "source": [
    "penguins[(penguins['species'] == 'Gentoo') & (penguins['island'] == 'Torgersen')].count()"
   ]
  },
  {
   "cell_type": "code",
   "execution_count": 33,
   "id": "8f21f874-a628-4f2c-9a12-f8d72d7c948a",
   "metadata": {},
   "outputs": [],
   "source": [
    "Gentoo_Torg = penguins[(penguins['species'] == 'Gentoo') & (penguins['island'] == 'Torgersen')]"
   ]
  },
  {
   "cell_type": "markdown",
   "id": "b77a3992-a1b5-437d-b40f-acb78897841f",
   "metadata": {},
   "source": [
    "<h2>Insight #3 Chinstrap on an island</h2>"
   ]
  },
  {
   "cell_type": "code",
   "execution_count": 34,
   "id": "8820a14d-e165-494f-88eb-da2e0c05032a",
   "metadata": {},
   "outputs": [
    {
     "data": {
      "text/plain": [
       "rowid                0\n",
       "species              0\n",
       "island               0\n",
       "bill_length_mm       0\n",
       "bill_depth_mm        0\n",
       "flipper_length_mm    0\n",
       "body_mass_g          0\n",
       "sex                  0\n",
       "year                 0\n",
       "wkilo                0\n",
       "dtype: int64"
      ]
     },
     "execution_count": 34,
     "metadata": {},
     "output_type": "execute_result"
    }
   ],
   "source": [
    "penguins[(penguins['species'] == 'Chinstrap') & (penguins['island'] == 'Biscoe')].count()"
   ]
  },
  {
   "cell_type": "code",
   "execution_count": 35,
   "id": "94924359-571b-403d-8c62-4c02e551da5d",
   "metadata": {},
   "outputs": [],
   "source": [
    "Chinstrap_Biscoe = penguins[(penguins['species'] == 'Chinstrap') & (penguins['island'] == 'Biscoe')]"
   ]
  },
  {
   "cell_type": "code",
   "execution_count": 36,
   "id": "017a6a2e-df6f-491c-a06d-85dc45bd15e3",
   "metadata": {},
   "outputs": [
    {
     "data": {
      "text/plain": [
       "rowid                68\n",
       "species              68\n",
       "island               68\n",
       "bill_length_mm       68\n",
       "bill_depth_mm        68\n",
       "flipper_length_mm    68\n",
       "body_mass_g          68\n",
       "sex                  68\n",
       "year                 68\n",
       "wkilo                68\n",
       "dtype: int64"
      ]
     },
     "execution_count": 36,
     "metadata": {},
     "output_type": "execute_result"
    }
   ],
   "source": [
    "penguins[(penguins['species'] == 'Chinstrap') & (penguins['island'] == 'Dream')].count()"
   ]
  },
  {
   "cell_type": "code",
   "execution_count": 37,
   "id": "1515a58d-1ad7-47d0-8bfe-a60cc50cd763",
   "metadata": {},
   "outputs": [],
   "source": [
    "Chinstrap_Dream = penguins[(penguins['species'] == 'Chinstrap') & (penguins['island'] == 'Dream')]"
   ]
  },
  {
   "cell_type": "code",
   "execution_count": 38,
   "id": "ec7a8208-dd62-43a7-abe5-89a86cd1d797",
   "metadata": {},
   "outputs": [
    {
     "data": {
      "text/plain": [
       "rowid                0\n",
       "species              0\n",
       "island               0\n",
       "bill_length_mm       0\n",
       "bill_depth_mm        0\n",
       "flipper_length_mm    0\n",
       "body_mass_g          0\n",
       "sex                  0\n",
       "year                 0\n",
       "wkilo                0\n",
       "dtype: int64"
      ]
     },
     "execution_count": 38,
     "metadata": {},
     "output_type": "execute_result"
    }
   ],
   "source": [
    "penguins[(penguins['species'] == 'Chinstrap') & (penguins['island'] == 'torgersen')].count()"
   ]
  },
  {
   "cell_type": "code",
   "execution_count": 39,
   "id": "986cf295-8157-4309-b48f-80c4bfe40ff8",
   "metadata": {},
   "outputs": [],
   "source": [
    "Chinstrap_torg = penguins[(penguins['species'] == 'Chinstrap') & (penguins['island'] == 'torgersen')]"
   ]
  },
  {
   "cell_type": "markdown",
   "id": "af7929f2-f693-4617-9686-43b2c474c89c",
   "metadata": {},
   "source": [
    "<h2>Insight #4 Body mass of Adelie on an island</h2>"
   ]
  },
  {
   "cell_type": "code",
   "execution_count": 40,
   "id": "bb8c067a-6a07-411e-8ac9-ffc6a561d473",
   "metadata": {},
   "outputs": [
    {
     "data": {
      "text/plain": [
       "np.float64(3.709772727272727)"
      ]
     },
     "execution_count": 40,
     "metadata": {},
     "output_type": "execute_result"
    }
   ],
   "source": [
    "Adelie_Biscoe['wkilo'].mean()"
   ]
  },
  {
   "cell_type": "code",
   "execution_count": 41,
   "id": "18b188d8-acf4-4643-853c-4ddefe74d873",
   "metadata": {},
   "outputs": [
    {
     "data": {
      "text/plain": [
       "np.float64(3.7)"
      ]
     },
     "execution_count": 41,
     "metadata": {},
     "output_type": "execute_result"
    }
   ],
   "source": [
    "np.round(Adelie_Biscoe['wkilo'].mean(), 1)"
   ]
  },
  {
   "cell_type": "code",
   "execution_count": 42,
   "id": "6b63453a-1955-4755-b69a-190f8af80364",
   "metadata": {},
   "outputs": [
    {
     "data": {
      "text/plain": [
       "np.float64(3.688392857142857)"
      ]
     },
     "execution_count": 42,
     "metadata": {},
     "output_type": "execute_result"
    }
   ],
   "source": [
    "Adelie_Dream['wkilo'].mean()"
   ]
  },
  {
   "cell_type": "code",
   "execution_count": 43,
   "id": "4e9073da-c93b-48d1-8291-95ebb88eed53",
   "metadata": {},
   "outputs": [
    {
     "data": {
      "text/plain": [
       "np.float64(3.7)"
      ]
     },
     "execution_count": 43,
     "metadata": {},
     "output_type": "execute_result"
    }
   ],
   "source": [
    "np.round(Adelie_Dream['wkilo'].mean(), 1)"
   ]
  },
  {
   "cell_type": "code",
   "execution_count": 44,
   "id": "1231ca21-c505-4f13-9d72-46c25a62b824",
   "metadata": {},
   "outputs": [
    {
     "data": {
      "text/plain": [
       "np.float64(3.715995838956365)"
      ]
     },
     "execution_count": 44,
     "metadata": {},
     "output_type": "execute_result"
    }
   ],
   "source": [
    "Adelie_torg['wkilo'].mean()"
   ]
  },
  {
   "cell_type": "code",
   "execution_count": 45,
   "id": "c0f357cc-28d3-4f81-b8ca-2c0e1135df68",
   "metadata": {},
   "outputs": [
    {
     "data": {
      "text/plain": [
       "np.float64(3.7)"
      ]
     },
     "execution_count": 45,
     "metadata": {},
     "output_type": "execute_result"
    }
   ],
   "source": [
    "np.round(Adelie_torg['wkilo'].mean(), 1)"
   ]
  },
  {
   "cell_type": "markdown",
   "id": "e2c2d3b1-d20f-4ed1-890c-d04de84c7110",
   "metadata": {},
   "source": [
    "<h2>Insight #5 body mass of Gentoo on an island</h2>"
   ]
  },
  {
   "cell_type": "code",
   "execution_count": 46,
   "id": "c3495fc5-af01-40c2-8acf-87180e4a33cd",
   "metadata": {},
   "outputs": [
    {
     "data": {
      "text/plain": [
       "np.float64(5.068885351820411)"
      ]
     },
     "execution_count": 46,
     "metadata": {},
     "output_type": "execute_result"
    }
   ],
   "source": [
    "Gentoo_Biscoe['wkilo'].mean()"
   ]
  },
  {
   "cell_type": "code",
   "execution_count": 47,
   "id": "893aa8a5-4bbe-4088-8774-21b90460702b",
   "metadata": {},
   "outputs": [
    {
     "data": {
      "text/plain": [
       "np.float64(5.1)"
      ]
     },
     "execution_count": 47,
     "metadata": {},
     "output_type": "execute_result"
    }
   ],
   "source": [
    "np.round(Gentoo_Biscoe['wkilo'].mean(), 1)"
   ]
  },
  {
   "cell_type": "code",
   "execution_count": 48,
   "id": "dd6448fc-b7ef-468c-8143-089da991411e",
   "metadata": {},
   "outputs": [
    {
     "data": {
      "text/plain": [
       "nan"
      ]
     },
     "execution_count": 48,
     "metadata": {},
     "output_type": "execute_result"
    }
   ],
   "source": [
    "Gentoo_Dream['wkilo'].mean()"
   ]
  },
  {
   "cell_type": "code",
   "execution_count": 49,
   "id": "c4520042-3555-4e7a-a86d-306041237915",
   "metadata": {},
   "outputs": [
    {
     "data": {
      "text/plain": [
       "np.float64(nan)"
      ]
     },
     "execution_count": 49,
     "metadata": {},
     "output_type": "execute_result"
    }
   ],
   "source": [
    "np.round(Gentoo_Dream['wkilo'].mean(), 1)"
   ]
  },
  {
   "cell_type": "code",
   "execution_count": 50,
   "id": "9216b30b-d42f-48e2-af5f-427cea7e2b14",
   "metadata": {},
   "outputs": [
    {
     "data": {
      "text/plain": [
       "nan"
      ]
     },
     "execution_count": 50,
     "metadata": {},
     "output_type": "execute_result"
    }
   ],
   "source": [
    "Gentoo_Torg['wkilo'].mean()"
   ]
  },
  {
   "cell_type": "code",
   "execution_count": 51,
   "id": "091f6cf8-f0d1-4770-86cd-3b4cb04c998c",
   "metadata": {},
   "outputs": [
    {
     "data": {
      "text/plain": [
       "np.float64(nan)"
      ]
     },
     "execution_count": 51,
     "metadata": {},
     "output_type": "execute_result"
    }
   ],
   "source": [
    "np.round(Gentoo_Torg['wkilo'].mean(), 1)"
   ]
  },
  {
   "cell_type": "markdown",
   "id": "53187ef8-b814-4210-8e7f-05cb63384fa0",
   "metadata": {},
   "source": [
    "<h1>Insight #6 Body mass of Chinstrap on an island</h1>"
   ]
  },
  {
   "cell_type": "code",
   "execution_count": 52,
   "id": "fbacaf53-9848-4e61-beb2-97f6b37f1c35",
   "metadata": {},
   "outputs": [
    {
     "data": {
      "text/plain": [
       "nan"
      ]
     },
     "execution_count": 52,
     "metadata": {},
     "output_type": "execute_result"
    }
   ],
   "source": [
    "Chinstrap_Biscoe['wkilo'].mean()"
   ]
  },
  {
   "cell_type": "code",
   "execution_count": 53,
   "id": "850f5331-d003-42bc-975c-3c669edcb0db",
   "metadata": {},
   "outputs": [
    {
     "data": {
      "text/plain": [
       "np.float64(nan)"
      ]
     },
     "execution_count": 53,
     "metadata": {},
     "output_type": "execute_result"
    }
   ],
   "source": [
    "np.round(Chinstrap_Biscoe['wkilo'].mean(), 1)"
   ]
  },
  {
   "cell_type": "code",
   "execution_count": 54,
   "id": "63b00c31-31f5-4c26-8ffb-316046cbaa97",
   "metadata": {},
   "outputs": [
    {
     "data": {
      "text/plain": [
       "nan"
      ]
     },
     "execution_count": 54,
     "metadata": {},
     "output_type": "execute_result"
    }
   ],
   "source": [
    "Chinstrap_Biscoe['wkilo'].mean()"
   ]
  },
  {
   "cell_type": "code",
   "execution_count": 55,
   "id": "36ec0ad9-9b31-419b-ac01-d6da6876f6f0",
   "metadata": {},
   "outputs": [
    {
     "data": {
      "text/plain": [
       "np.float64(nan)"
      ]
     },
     "execution_count": 55,
     "metadata": {},
     "output_type": "execute_result"
    }
   ],
   "source": [
    "np.round(Chinstrap_Biscoe['wkilo'].mean(), 1)"
   ]
  },
  {
   "cell_type": "code",
   "execution_count": 56,
   "id": "59942840-b9cf-4b07-b9c6-ae41c1103ba6",
   "metadata": {},
   "outputs": [
    {
     "data": {
      "text/plain": [
       "nan"
      ]
     },
     "execution_count": 56,
     "metadata": {},
     "output_type": "execute_result"
    }
   ],
   "source": [
    "Chinstrap_Biscoe['wkilo'].mean()"
   ]
  },
  {
   "cell_type": "code",
   "execution_count": 57,
   "id": "2320edb4-3870-4d96-b293-fc6388122365",
   "metadata": {},
   "outputs": [
    {
     "data": {
      "text/plain": [
       "np.float64(nan)"
      ]
     },
     "execution_count": 57,
     "metadata": {},
     "output_type": "execute_result"
    }
   ],
   "source": [
    "np.round(Chinstrap_Biscoe['wkilo'].mean(), 1)"
   ]
  },
  {
   "cell_type": "markdown",
   "id": "b64a3c7d-ebc4-431c-a94b-da56cfe4bd79",
   "metadata": {},
   "source": [
    "<h1>Insight #7 gentoo The highiest kilo </h1>"
   ]
  },
  {
   "cell_type": "code",
   "execution_count": 58,
   "id": "e5c49d76-f8ad-48f2-9abb-1932b6bb6607",
   "metadata": {},
   "outputs": [
    {
     "data": {
      "text/html": [
       "<div>\n",
       "<style scoped>\n",
       "    .dataframe tbody tr th:only-of-type {\n",
       "        vertical-align: middle;\n",
       "    }\n",
       "\n",
       "    .dataframe tbody tr th {\n",
       "        vertical-align: top;\n",
       "    }\n",
       "\n",
       "    .dataframe thead th {\n",
       "        text-align: right;\n",
       "    }\n",
       "</style>\n",
       "<table border=\"1\" class=\"dataframe\">\n",
       "  <thead>\n",
       "    <tr style=\"text-align: right;\">\n",
       "      <th></th>\n",
       "      <th>rowid</th>\n",
       "      <th>species</th>\n",
       "      <th>island</th>\n",
       "      <th>bill_length_mm</th>\n",
       "      <th>bill_depth_mm</th>\n",
       "      <th>flipper_length_mm</th>\n",
       "      <th>body_mass_g</th>\n",
       "      <th>sex</th>\n",
       "      <th>year</th>\n",
       "      <th>wkilo</th>\n",
       "    </tr>\n",
       "  </thead>\n",
       "  <tbody>\n",
       "    <tr>\n",
       "      <th>0</th>\n",
       "      <td>1</td>\n",
       "      <td>Adelie</td>\n",
       "      <td>Torgersen</td>\n",
       "      <td>39.10000</td>\n",
       "      <td>18.70000</td>\n",
       "      <td>181.000000</td>\n",
       "      <td>3750.000000</td>\n",
       "      <td>male</td>\n",
       "      <td>2007</td>\n",
       "      <td>3.750000</td>\n",
       "    </tr>\n",
       "    <tr>\n",
       "      <th>1</th>\n",
       "      <td>2</td>\n",
       "      <td>Adelie</td>\n",
       "      <td>Torgersen</td>\n",
       "      <td>39.50000</td>\n",
       "      <td>17.40000</td>\n",
       "      <td>186.000000</td>\n",
       "      <td>3800.000000</td>\n",
       "      <td>female</td>\n",
       "      <td>2007</td>\n",
       "      <td>3.800000</td>\n",
       "    </tr>\n",
       "    <tr>\n",
       "      <th>2</th>\n",
       "      <td>3</td>\n",
       "      <td>Adelie</td>\n",
       "      <td>Torgersen</td>\n",
       "      <td>40.30000</td>\n",
       "      <td>18.00000</td>\n",
       "      <td>195.000000</td>\n",
       "      <td>3250.000000</td>\n",
       "      <td>female</td>\n",
       "      <td>2007</td>\n",
       "      <td>3.250000</td>\n",
       "    </tr>\n",
       "    <tr>\n",
       "      <th>3</th>\n",
       "      <td>4</td>\n",
       "      <td>Adelie</td>\n",
       "      <td>Torgersen</td>\n",
       "      <td>43.92193</td>\n",
       "      <td>17.15117</td>\n",
       "      <td>200.915205</td>\n",
       "      <td>4201.754386</td>\n",
       "      <td>male</td>\n",
       "      <td>2007</td>\n",
       "      <td>4.201784</td>\n",
       "    </tr>\n",
       "    <tr>\n",
       "      <th>4</th>\n",
       "      <td>5</td>\n",
       "      <td>Adelie</td>\n",
       "      <td>Torgersen</td>\n",
       "      <td>36.70000</td>\n",
       "      <td>19.30000</td>\n",
       "      <td>193.000000</td>\n",
       "      <td>3450.000000</td>\n",
       "      <td>female</td>\n",
       "      <td>2007</td>\n",
       "      <td>3.450000</td>\n",
       "    </tr>\n",
       "    <tr>\n",
       "      <th>...</th>\n",
       "      <td>...</td>\n",
       "      <td>...</td>\n",
       "      <td>...</td>\n",
       "      <td>...</td>\n",
       "      <td>...</td>\n",
       "      <td>...</td>\n",
       "      <td>...</td>\n",
       "      <td>...</td>\n",
       "      <td>...</td>\n",
       "      <td>...</td>\n",
       "    </tr>\n",
       "    <tr>\n",
       "      <th>339</th>\n",
       "      <td>340</td>\n",
       "      <td>Chinstrap</td>\n",
       "      <td>Dream</td>\n",
       "      <td>55.80000</td>\n",
       "      <td>19.80000</td>\n",
       "      <td>207.000000</td>\n",
       "      <td>4000.000000</td>\n",
       "      <td>male</td>\n",
       "      <td>2009</td>\n",
       "      <td>4.000000</td>\n",
       "    </tr>\n",
       "    <tr>\n",
       "      <th>340</th>\n",
       "      <td>341</td>\n",
       "      <td>Chinstrap</td>\n",
       "      <td>Dream</td>\n",
       "      <td>43.50000</td>\n",
       "      <td>18.10000</td>\n",
       "      <td>202.000000</td>\n",
       "      <td>3400.000000</td>\n",
       "      <td>female</td>\n",
       "      <td>2009</td>\n",
       "      <td>3.400000</td>\n",
       "    </tr>\n",
       "    <tr>\n",
       "      <th>341</th>\n",
       "      <td>342</td>\n",
       "      <td>Chinstrap</td>\n",
       "      <td>Dream</td>\n",
       "      <td>49.60000</td>\n",
       "      <td>18.20000</td>\n",
       "      <td>193.000000</td>\n",
       "      <td>3775.000000</td>\n",
       "      <td>male</td>\n",
       "      <td>2009</td>\n",
       "      <td>3.780000</td>\n",
       "    </tr>\n",
       "    <tr>\n",
       "      <th>342</th>\n",
       "      <td>343</td>\n",
       "      <td>Chinstrap</td>\n",
       "      <td>Dream</td>\n",
       "      <td>50.80000</td>\n",
       "      <td>19.00000</td>\n",
       "      <td>210.000000</td>\n",
       "      <td>4100.000000</td>\n",
       "      <td>male</td>\n",
       "      <td>2009</td>\n",
       "      <td>4.100000</td>\n",
       "    </tr>\n",
       "    <tr>\n",
       "      <th>343</th>\n",
       "      <td>344</td>\n",
       "      <td>Chinstrap</td>\n",
       "      <td>Dream</td>\n",
       "      <td>50.20000</td>\n",
       "      <td>18.70000</td>\n",
       "      <td>198.000000</td>\n",
       "      <td>3775.000000</td>\n",
       "      <td>female</td>\n",
       "      <td>2009</td>\n",
       "      <td>3.780000</td>\n",
       "    </tr>\n",
       "  </tbody>\n",
       "</table>\n",
       "<p>344 rows × 10 columns</p>\n",
       "</div>"
      ],
      "text/plain": [
       "     rowid    species     island  bill_length_mm  bill_depth_mm  \\\n",
       "0        1     Adelie  Torgersen        39.10000       18.70000   \n",
       "1        2     Adelie  Torgersen        39.50000       17.40000   \n",
       "2        3     Adelie  Torgersen        40.30000       18.00000   \n",
       "3        4     Adelie  Torgersen        43.92193       17.15117   \n",
       "4        5     Adelie  Torgersen        36.70000       19.30000   \n",
       "..     ...        ...        ...             ...            ...   \n",
       "339    340  Chinstrap      Dream        55.80000       19.80000   \n",
       "340    341  Chinstrap      Dream        43.50000       18.10000   \n",
       "341    342  Chinstrap      Dream        49.60000       18.20000   \n",
       "342    343  Chinstrap      Dream        50.80000       19.00000   \n",
       "343    344  Chinstrap      Dream        50.20000       18.70000   \n",
       "\n",
       "     flipper_length_mm  body_mass_g     sex  year     wkilo  \n",
       "0           181.000000  3750.000000    male  2007  3.750000  \n",
       "1           186.000000  3800.000000  female  2007  3.800000  \n",
       "2           195.000000  3250.000000  female  2007  3.250000  \n",
       "3           200.915205  4201.754386    male  2007  4.201784  \n",
       "4           193.000000  3450.000000  female  2007  3.450000  \n",
       "..                 ...          ...     ...   ...       ...  \n",
       "339         207.000000  4000.000000    male  2009  4.000000  \n",
       "340         202.000000  3400.000000  female  2009  3.400000  \n",
       "341         193.000000  3775.000000    male  2009  3.780000  \n",
       "342         210.000000  4100.000000    male  2009  4.100000  \n",
       "343         198.000000  3775.000000  female  2009  3.780000  \n",
       "\n",
       "[344 rows x 10 columns]"
      ]
     },
     "execution_count": 58,
     "metadata": {},
     "output_type": "execute_result"
    }
   ],
   "source": [
    "penguins"
   ]
  },
  {
   "cell_type": "markdown",
   "id": "df31fba4-64f4-42b6-a753-3daaecdcaba0",
   "metadata": {},
   "source": [
    "<h1> insight #8 </h1>\n",
    "<h3>the highiest number male adelie penguins recorded was in a year 2007</h3>"
   ]
  },
  {
   "cell_type": "markdown",
   "id": "fc5358e1-370e-4320-a315-5df91483ba1a",
   "metadata": {},
   "source": [
    "<h1>How to use groupby function </h1>"
   ]
  },
  {
   "cell_type": "markdown",
   "id": "4107a492-1c69-4790-9198-cdd2d539b2d1",
   "metadata": {},
   "source": [
    "<ul>\n",
    "    <li>Name of the group</li>\n",
    "    <li>call the reference data frame </li>\n",
    "    <li>followed by the groupby function </li>\n",
    "    <li>aggregate function</li>\n",
    "\n",
    "</ul>"
   ]
  },
  {
   "cell_type": "markdown",
   "id": "1716fad4-7e8f-479e-8535-a6c9eeacd55d",
   "metadata": {},
   "source": [
    "<h1>Question Number 9</h1>"
   ]
  },
  {
   "cell_type": "markdown",
   "id": "a6ccb1f0-c5fb-442b-bcdc-481413d30065",
   "metadata": {},
   "source": [
    "<h2>Which is heaveir between penguin species in terms of SEX</h2>"
   ]
  },
  {
   "cell_type": "code",
   "execution_count": 59,
   "id": "fbbbd209-1726-4b0e-94b8-43227c026d44",
   "metadata": {},
   "outputs": [],
   "source": [
    "weight_sex = penguins.groupby(['species', 'sex', 'wkilo']).size()"
   ]
  },
  {
   "cell_type": "code",
   "execution_count": 60,
   "id": "73307635-9231-41de-929b-572645bd8090",
   "metadata": {},
   "outputs": [
    {
     "data": {
      "text/plain": [
       "species  sex     wkilo\n",
       "Adelie   female  2.85     2\n",
       "                 2.90     3\n",
       "                 2.92     1\n",
       "                 3.00     2\n",
       "                 3.05     4\n",
       "                         ..\n",
       "Gentoo   male    5.85     3\n",
       "                 5.95     2\n",
       "                 6.00     2\n",
       "                 6.05     1\n",
       "                 6.30     1\n",
       "Length: 172, dtype: int64"
      ]
     },
     "execution_count": 60,
     "metadata": {},
     "output_type": "execute_result"
    }
   ],
   "source": [
    "weight_sex"
   ]
  },
  {
   "cell_type": "code",
   "execution_count": 61,
   "id": "fced5c10-f63c-45d1-8436-8b1fbcd479ec",
   "metadata": {},
   "outputs": [],
   "source": [
    "weight_sex = np.round(penguins.groupby(['species', 'sex'])['wkilo'].mean(), 1)"
   ]
  },
  {
   "cell_type": "code",
   "execution_count": 62,
   "id": "de788051-6102-4f32-a238-96c814f08572",
   "metadata": {},
   "outputs": [
    {
     "data": {
      "text/plain": [
       "species    sex   \n",
       "Adelie     female    3.4\n",
       "           male      4.0\n",
       "Chinstrap  female    3.5\n",
       "           male      3.9\n",
       "Gentoo     female    4.7\n",
       "           male      5.4\n",
       "Name: wkilo, dtype: float64"
      ]
     },
     "execution_count": 62,
     "metadata": {},
     "output_type": "execute_result"
    }
   ],
   "source": [
    "weight_sex"
   ]
  },
  {
   "cell_type": "code",
   "execution_count": 63,
   "id": "35d6221e-507f-41ac-9250-e9edac1d6de7",
   "metadata": {},
   "outputs": [
    {
     "data": {
      "text/html": [
       "<div>\n",
       "<style scoped>\n",
       "    .dataframe tbody tr th:only-of-type {\n",
       "        vertical-align: middle;\n",
       "    }\n",
       "\n",
       "    .dataframe tbody tr th {\n",
       "        vertical-align: top;\n",
       "    }\n",
       "\n",
       "    .dataframe thead th {\n",
       "        text-align: right;\n",
       "    }\n",
       "</style>\n",
       "<table border=\"1\" class=\"dataframe\">\n",
       "  <thead>\n",
       "    <tr style=\"text-align: right;\">\n",
       "      <th>sex</th>\n",
       "      <th>female</th>\n",
       "      <th>male</th>\n",
       "    </tr>\n",
       "    <tr>\n",
       "      <th>species</th>\n",
       "      <th></th>\n",
       "      <th></th>\n",
       "    </tr>\n",
       "  </thead>\n",
       "  <tbody>\n",
       "    <tr>\n",
       "      <th>Adelie</th>\n",
       "      <td>3.4</td>\n",
       "      <td>4.0</td>\n",
       "    </tr>\n",
       "    <tr>\n",
       "      <th>Chinstrap</th>\n",
       "      <td>3.5</td>\n",
       "      <td>3.9</td>\n",
       "    </tr>\n",
       "    <tr>\n",
       "      <th>Gentoo</th>\n",
       "      <td>4.7</td>\n",
       "      <td>5.4</td>\n",
       "    </tr>\n",
       "  </tbody>\n",
       "</table>\n",
       "</div>"
      ],
      "text/plain": [
       "sex        female  male\n",
       "species                \n",
       "Adelie        3.4   4.0\n",
       "Chinstrap     3.5   3.9\n",
       "Gentoo        4.7   5.4"
      ]
     },
     "execution_count": 63,
     "metadata": {},
     "output_type": "execute_result"
    }
   ],
   "source": [
    "weight_sex.unstack()"
   ]
  },
  {
   "cell_type": "markdown",
   "id": "31ea7a2f-f1b1-418a-8659-b1231447ad73",
   "metadata": {},
   "source": [
    "<h1>Question 10</h1>\n",
    "<h2>What year has the highiest recorded weight for male female</h2>"
   ]
  },
  {
   "cell_type": "code",
   "execution_count": 64,
   "id": "a1625e9c-5179-47d2-aa01-15d29e09135c",
   "metadata": {},
   "outputs": [],
   "source": [
    "weight_sex = np.round(penguins.groupby(['species', 'year', 'sex'])['wkilo'].mean(), 1)"
   ]
  },
  {
   "cell_type": "code",
   "execution_count": 65,
   "id": "95c42e67-97a5-4f30-8a2d-9ca9d617592b",
   "metadata": {},
   "outputs": [
    {
     "data": {
      "text/plain": [
       "species    year  sex   \n",
       "Adelie     2007  female    3.4\n",
       "                 male      4.0\n",
       "           2008  female    3.4\n",
       "                 male      4.1\n",
       "           2009  female    3.3\n",
       "                 male      4.0\n",
       "Chinstrap  2007  female    3.6\n",
       "                 male      3.8\n",
       "           2008  female    3.5\n",
       "                 male      4.1\n",
       "           2009  female    3.5\n",
       "                 male      3.9\n",
       "Gentoo     2007  female    4.6\n",
       "                 male      5.5\n",
       "           2008  female    4.6\n",
       "                 male      5.4\n",
       "           2009  female    4.8\n",
       "                 male      5.4\n",
       "Name: wkilo, dtype: float64"
      ]
     },
     "execution_count": 65,
     "metadata": {},
     "output_type": "execute_result"
    }
   ],
   "source": [
    "weight_sex"
   ]
  },
  {
   "cell_type": "code",
   "execution_count": 66,
   "id": "1017ff45-b87c-4276-9dda-f3d83cc61d1c",
   "metadata": {},
   "outputs": [
    {
     "data": {
      "text/html": [
       "<div>\n",
       "<style scoped>\n",
       "    .dataframe tbody tr th:only-of-type {\n",
       "        vertical-align: middle;\n",
       "    }\n",
       "\n",
       "    .dataframe tbody tr th {\n",
       "        vertical-align: top;\n",
       "    }\n",
       "\n",
       "    .dataframe thead th {\n",
       "        text-align: right;\n",
       "    }\n",
       "</style>\n",
       "<table border=\"1\" class=\"dataframe\">\n",
       "  <thead>\n",
       "    <tr style=\"text-align: right;\">\n",
       "      <th></th>\n",
       "      <th>sex</th>\n",
       "      <th>female</th>\n",
       "      <th>male</th>\n",
       "    </tr>\n",
       "    <tr>\n",
       "      <th>species</th>\n",
       "      <th>year</th>\n",
       "      <th></th>\n",
       "      <th></th>\n",
       "    </tr>\n",
       "  </thead>\n",
       "  <tbody>\n",
       "    <tr>\n",
       "      <th rowspan=\"3\" valign=\"top\">Adelie</th>\n",
       "      <th>2007</th>\n",
       "      <td>3.4</td>\n",
       "      <td>4.0</td>\n",
       "    </tr>\n",
       "    <tr>\n",
       "      <th>2008</th>\n",
       "      <td>3.4</td>\n",
       "      <td>4.1</td>\n",
       "    </tr>\n",
       "    <tr>\n",
       "      <th>2009</th>\n",
       "      <td>3.3</td>\n",
       "      <td>4.0</td>\n",
       "    </tr>\n",
       "    <tr>\n",
       "      <th rowspan=\"3\" valign=\"top\">Chinstrap</th>\n",
       "      <th>2007</th>\n",
       "      <td>3.6</td>\n",
       "      <td>3.8</td>\n",
       "    </tr>\n",
       "    <tr>\n",
       "      <th>2008</th>\n",
       "      <td>3.5</td>\n",
       "      <td>4.1</td>\n",
       "    </tr>\n",
       "    <tr>\n",
       "      <th>2009</th>\n",
       "      <td>3.5</td>\n",
       "      <td>3.9</td>\n",
       "    </tr>\n",
       "    <tr>\n",
       "      <th rowspan=\"3\" valign=\"top\">Gentoo</th>\n",
       "      <th>2007</th>\n",
       "      <td>4.6</td>\n",
       "      <td>5.5</td>\n",
       "    </tr>\n",
       "    <tr>\n",
       "      <th>2008</th>\n",
       "      <td>4.6</td>\n",
       "      <td>5.4</td>\n",
       "    </tr>\n",
       "    <tr>\n",
       "      <th>2009</th>\n",
       "      <td>4.8</td>\n",
       "      <td>5.4</td>\n",
       "    </tr>\n",
       "  </tbody>\n",
       "</table>\n",
       "</div>"
      ],
      "text/plain": [
       "sex             female  male\n",
       "species   year              \n",
       "Adelie    2007     3.4   4.0\n",
       "          2008     3.4   4.1\n",
       "          2009     3.3   4.0\n",
       "Chinstrap 2007     3.6   3.8\n",
       "          2008     3.5   4.1\n",
       "          2009     3.5   3.9\n",
       "Gentoo    2007     4.6   5.5\n",
       "          2008     4.6   5.4\n",
       "          2009     4.8   5.4"
      ]
     },
     "execution_count": 66,
     "metadata": {},
     "output_type": "execute_result"
    }
   ],
   "source": [
    "weight_sex.unstack()"
   ]
  },
  {
   "cell_type": "markdown",
   "id": "2bc1bfdb-2396-4f40-9715-feeeee5b3547",
   "metadata": {},
   "source": [
    "<h1>Correlation vs Causation</h1>\n",
    "\n",
    "<h2>Correlation between bill lenght and bill depth</h2>"
   ]
  },
  {
   "cell_type": "markdown",
   "id": "70bbde0c-0978-4967-ad78-7419a07d8e3b",
   "metadata": {},
   "source": [
    "<h1>Requirements for correlation</h1>\n",
    "<ul>\n",
    "    <li>Naming the variable</li>\n",
    "    <li>first column to test</li>\n",
    "    <li>.corr function</li>\n",
    "    <li>second column to test</li>\n",
    "</ul>"
   ]
  },
  {
   "cell_type": "code",
   "execution_count": 67,
   "id": "fa50fda0-eab2-4726-826c-4ad8cb000ef9",
   "metadata": {},
   "outputs": [
    {
     "data": {
      "text/html": [
       "<div>\n",
       "<style scoped>\n",
       "    .dataframe tbody tr th:only-of-type {\n",
       "        vertical-align: middle;\n",
       "    }\n",
       "\n",
       "    .dataframe tbody tr th {\n",
       "        vertical-align: top;\n",
       "    }\n",
       "\n",
       "    .dataframe thead th {\n",
       "        text-align: right;\n",
       "    }\n",
       "</style>\n",
       "<table border=\"1\" class=\"dataframe\">\n",
       "  <thead>\n",
       "    <tr style=\"text-align: right;\">\n",
       "      <th></th>\n",
       "      <th>rowid</th>\n",
       "      <th>species</th>\n",
       "      <th>island</th>\n",
       "      <th>bill_length_mm</th>\n",
       "      <th>bill_depth_mm</th>\n",
       "      <th>flipper_length_mm</th>\n",
       "      <th>body_mass_g</th>\n",
       "      <th>sex</th>\n",
       "      <th>year</th>\n",
       "      <th>wkilo</th>\n",
       "    </tr>\n",
       "  </thead>\n",
       "  <tbody>\n",
       "    <tr>\n",
       "      <th>0</th>\n",
       "      <td>1</td>\n",
       "      <td>Adelie</td>\n",
       "      <td>Torgersen</td>\n",
       "      <td>39.10000</td>\n",
       "      <td>18.70000</td>\n",
       "      <td>181.000000</td>\n",
       "      <td>3750.000000</td>\n",
       "      <td>male</td>\n",
       "      <td>2007</td>\n",
       "      <td>3.750000</td>\n",
       "    </tr>\n",
       "    <tr>\n",
       "      <th>1</th>\n",
       "      <td>2</td>\n",
       "      <td>Adelie</td>\n",
       "      <td>Torgersen</td>\n",
       "      <td>39.50000</td>\n",
       "      <td>17.40000</td>\n",
       "      <td>186.000000</td>\n",
       "      <td>3800.000000</td>\n",
       "      <td>female</td>\n",
       "      <td>2007</td>\n",
       "      <td>3.800000</td>\n",
       "    </tr>\n",
       "    <tr>\n",
       "      <th>2</th>\n",
       "      <td>3</td>\n",
       "      <td>Adelie</td>\n",
       "      <td>Torgersen</td>\n",
       "      <td>40.30000</td>\n",
       "      <td>18.00000</td>\n",
       "      <td>195.000000</td>\n",
       "      <td>3250.000000</td>\n",
       "      <td>female</td>\n",
       "      <td>2007</td>\n",
       "      <td>3.250000</td>\n",
       "    </tr>\n",
       "    <tr>\n",
       "      <th>3</th>\n",
       "      <td>4</td>\n",
       "      <td>Adelie</td>\n",
       "      <td>Torgersen</td>\n",
       "      <td>43.92193</td>\n",
       "      <td>17.15117</td>\n",
       "      <td>200.915205</td>\n",
       "      <td>4201.754386</td>\n",
       "      <td>male</td>\n",
       "      <td>2007</td>\n",
       "      <td>4.201784</td>\n",
       "    </tr>\n",
       "    <tr>\n",
       "      <th>4</th>\n",
       "      <td>5</td>\n",
       "      <td>Adelie</td>\n",
       "      <td>Torgersen</td>\n",
       "      <td>36.70000</td>\n",
       "      <td>19.30000</td>\n",
       "      <td>193.000000</td>\n",
       "      <td>3450.000000</td>\n",
       "      <td>female</td>\n",
       "      <td>2007</td>\n",
       "      <td>3.450000</td>\n",
       "    </tr>\n",
       "    <tr>\n",
       "      <th>...</th>\n",
       "      <td>...</td>\n",
       "      <td>...</td>\n",
       "      <td>...</td>\n",
       "      <td>...</td>\n",
       "      <td>...</td>\n",
       "      <td>...</td>\n",
       "      <td>...</td>\n",
       "      <td>...</td>\n",
       "      <td>...</td>\n",
       "      <td>...</td>\n",
       "    </tr>\n",
       "    <tr>\n",
       "      <th>339</th>\n",
       "      <td>340</td>\n",
       "      <td>Chinstrap</td>\n",
       "      <td>Dream</td>\n",
       "      <td>55.80000</td>\n",
       "      <td>19.80000</td>\n",
       "      <td>207.000000</td>\n",
       "      <td>4000.000000</td>\n",
       "      <td>male</td>\n",
       "      <td>2009</td>\n",
       "      <td>4.000000</td>\n",
       "    </tr>\n",
       "    <tr>\n",
       "      <th>340</th>\n",
       "      <td>341</td>\n",
       "      <td>Chinstrap</td>\n",
       "      <td>Dream</td>\n",
       "      <td>43.50000</td>\n",
       "      <td>18.10000</td>\n",
       "      <td>202.000000</td>\n",
       "      <td>3400.000000</td>\n",
       "      <td>female</td>\n",
       "      <td>2009</td>\n",
       "      <td>3.400000</td>\n",
       "    </tr>\n",
       "    <tr>\n",
       "      <th>341</th>\n",
       "      <td>342</td>\n",
       "      <td>Chinstrap</td>\n",
       "      <td>Dream</td>\n",
       "      <td>49.60000</td>\n",
       "      <td>18.20000</td>\n",
       "      <td>193.000000</td>\n",
       "      <td>3775.000000</td>\n",
       "      <td>male</td>\n",
       "      <td>2009</td>\n",
       "      <td>3.780000</td>\n",
       "    </tr>\n",
       "    <tr>\n",
       "      <th>342</th>\n",
       "      <td>343</td>\n",
       "      <td>Chinstrap</td>\n",
       "      <td>Dream</td>\n",
       "      <td>50.80000</td>\n",
       "      <td>19.00000</td>\n",
       "      <td>210.000000</td>\n",
       "      <td>4100.000000</td>\n",
       "      <td>male</td>\n",
       "      <td>2009</td>\n",
       "      <td>4.100000</td>\n",
       "    </tr>\n",
       "    <tr>\n",
       "      <th>343</th>\n",
       "      <td>344</td>\n",
       "      <td>Chinstrap</td>\n",
       "      <td>Dream</td>\n",
       "      <td>50.20000</td>\n",
       "      <td>18.70000</td>\n",
       "      <td>198.000000</td>\n",
       "      <td>3775.000000</td>\n",
       "      <td>female</td>\n",
       "      <td>2009</td>\n",
       "      <td>3.780000</td>\n",
       "    </tr>\n",
       "  </tbody>\n",
       "</table>\n",
       "<p>344 rows × 10 columns</p>\n",
       "</div>"
      ],
      "text/plain": [
       "     rowid    species     island  bill_length_mm  bill_depth_mm  \\\n",
       "0        1     Adelie  Torgersen        39.10000       18.70000   \n",
       "1        2     Adelie  Torgersen        39.50000       17.40000   \n",
       "2        3     Adelie  Torgersen        40.30000       18.00000   \n",
       "3        4     Adelie  Torgersen        43.92193       17.15117   \n",
       "4        5     Adelie  Torgersen        36.70000       19.30000   \n",
       "..     ...        ...        ...             ...            ...   \n",
       "339    340  Chinstrap      Dream        55.80000       19.80000   \n",
       "340    341  Chinstrap      Dream        43.50000       18.10000   \n",
       "341    342  Chinstrap      Dream        49.60000       18.20000   \n",
       "342    343  Chinstrap      Dream        50.80000       19.00000   \n",
       "343    344  Chinstrap      Dream        50.20000       18.70000   \n",
       "\n",
       "     flipper_length_mm  body_mass_g     sex  year     wkilo  \n",
       "0           181.000000  3750.000000    male  2007  3.750000  \n",
       "1           186.000000  3800.000000  female  2007  3.800000  \n",
       "2           195.000000  3250.000000  female  2007  3.250000  \n",
       "3           200.915205  4201.754386    male  2007  4.201784  \n",
       "4           193.000000  3450.000000  female  2007  3.450000  \n",
       "..                 ...          ...     ...   ...       ...  \n",
       "339         207.000000  4000.000000    male  2009  4.000000  \n",
       "340         202.000000  3400.000000  female  2009  3.400000  \n",
       "341         193.000000  3775.000000    male  2009  3.780000  \n",
       "342         210.000000  4100.000000    male  2009  4.100000  \n",
       "343         198.000000  3775.000000  female  2009  3.780000  \n",
       "\n",
       "[344 rows x 10 columns]"
      ]
     },
     "execution_count": 67,
     "metadata": {},
     "output_type": "execute_result"
    }
   ],
   "source": [
    "penguins"
   ]
  },
  {
   "cell_type": "code",
   "execution_count": 68,
   "id": "06af5c1f-3aa8-49f4-979b-0a98fb2063b8",
   "metadata": {},
   "outputs": [],
   "source": [
    "b_length_depth = penguins['bill_length_mm'].corr(penguins['bill_depth_mm'])"
   ]
  },
  {
   "cell_type": "code",
   "execution_count": 69,
   "id": "02874291-e6fc-40df-aa9c-59d6973b0e37",
   "metadata": {},
   "outputs": [
    {
     "data": {
      "text/plain": [
       "np.float64(-0.23505287035553282)"
      ]
     },
     "execution_count": 69,
     "metadata": {},
     "output_type": "execute_result"
    }
   ],
   "source": [
    "b_length_depth "
   ]
  },
  {
   "cell_type": "markdown",
   "id": "a936baab-9060-403d-8201-2810960e217a",
   "metadata": {},
   "source": [
    "<h1>Question 11</h1>"
   ]
  },
  {
   "cell_type": "code",
   "execution_count": 70,
   "id": "c2811a3d-cdc9-4b8a-ac7d-da39eb23155a",
   "metadata": {},
   "outputs": [],
   "source": [
    "b_lenght_depth = penguins['flipper_length_mm'].corr(penguins['bill_depth_mm'])"
   ]
  },
  {
   "cell_type": "code",
   "execution_count": 71,
   "id": "6fe73b55-a84b-4747-8abd-396a549c28b7",
   "metadata": {},
   "outputs": [
    {
     "data": {
      "text/plain": [
       "np.float64(-0.23505287035553282)"
      ]
     },
     "execution_count": 71,
     "metadata": {},
     "output_type": "execute_result"
    }
   ],
   "source": [
    "b_length_depth"
   ]
  },
  {
   "cell_type": "markdown",
   "id": "413f30a1-d43e-41ff-9c4c-d77b417c5ff6",
   "metadata": {},
   "source": [
    "<h1>there is no correlation between flipper lenth and bill deth</h1>"
   ]
  },
  {
   "cell_type": "markdown",
   "id": "2069138a-042b-480b-b409-277b77b14f09",
   "metadata": {},
   "source": [
    "<h1>Question 12</h1>"
   ]
  },
  {
   "cell_type": "code",
   "execution_count": 72,
   "id": "8cfc43ef-f80a-42b8-a018-e56566565864",
   "metadata": {},
   "outputs": [],
   "source": [
    "f_kilo = penguins['flipper_length_mm'].corr(penguins['wkilo'])"
   ]
  },
  {
   "cell_type": "code",
   "execution_count": 73,
   "id": "4ac41c37-2ee8-432a-b838-406b6900909b",
   "metadata": {},
   "outputs": [
    {
     "data": {
      "text/plain": [
       "np.float64(0.8711960136081922)"
      ]
     },
     "execution_count": 73,
     "metadata": {},
     "output_type": "execute_result"
    }
   ],
   "source": [
    "f_kilo"
   ]
  },
  {
   "cell_type": "markdown",
   "id": "adc91b85-bdf6-4283-adb7-10ac39f0c296",
   "metadata": {},
   "source": [
    "<h1>there is correlation between flipper lenth and weight</h1>"
   ]
  },
  {
   "cell_type": "markdown",
   "id": "3ee43cfc-25db-4e54-ae4b-ab4c541ffe2c",
   "metadata": {},
   "source": [
    "<h1>Question 13</h1>"
   ]
  },
  {
   "cell_type": "code",
   "execution_count": 74,
   "id": "e1c10ddf-fdbe-45e5-af18-143d1b12631c",
   "metadata": {},
   "outputs": [],
   "source": [
    "b_kilo = penguins['bill_length_mm'].corr(penguins['wkilo'])"
   ]
  },
  {
   "cell_type": "code",
   "execution_count": 75,
   "id": "21fd378f-b1d1-4b28-8cf4-b46afafcf30e",
   "metadata": {},
   "outputs": [
    {
     "data": {
      "text/plain": [
       "np.float64(0.5951244240326897)"
      ]
     },
     "execution_count": 75,
     "metadata": {},
     "output_type": "execute_result"
    }
   ],
   "source": [
    "b_kilo"
   ]
  },
  {
   "cell_type": "markdown",
   "id": "70b7b87f-0007-4eb4-8a52-7cf1ad86c661",
   "metadata": {},
   "source": [
    "<h1>there is correlation between bill length and weight</h1>"
   ]
  },
  {
   "cell_type": "markdown",
   "id": "0837fd8e-e86d-4ae8-b186-6833933de31b",
   "metadata": {},
   "source": [
    "<h1>Question 14</h1>"
   ]
  },
  {
   "cell_type": "code",
   "execution_count": 76,
   "id": "33ad4aa4-5e1c-492c-9d01-fcaa73e75d91",
   "metadata": {},
   "outputs": [],
   "source": [
    "b_kilo = penguins['bill_depth_mm'].corr(penguins['wkilo'])"
   ]
  },
  {
   "cell_type": "code",
   "execution_count": 77,
   "id": "79e80904-bdfb-487b-be84-c1ccd5fe441f",
   "metadata": {},
   "outputs": [
    {
     "data": {
      "text/plain": [
       "np.float64(-0.471819430766534)"
      ]
     },
     "execution_count": 77,
     "metadata": {},
     "output_type": "execute_result"
    }
   ],
   "source": [
    "b_kilo"
   ]
  },
  {
   "cell_type": "markdown",
   "id": "4c936dd3-dc52-45a9-a08b-16ca30efc03e",
   "metadata": {},
   "source": [
    "<h1>There is no corralation between bill depth and weight</h1>"
   ]
  },
  {
   "cell_type": "markdown",
   "id": "50e4048a-dcb8-4376-b7dd-ff7472e7b5b3",
   "metadata": {},
   "source": [
    "<h1>Use one way Anova</h1>\n",
    "<h1> Science Python known as scipy </h1>"
   ]
  },
  {
   "cell_type": "code",
   "execution_count": 78,
   "id": "1e7a8f75-4b43-4e35-8714-3beb5044b74c",
   "metadata": {},
   "outputs": [
    {
     "name": "stdout",
     "output_type": "stream",
     "text": [
      "Defaulting to user installation because normal site-packages is not writeableNote: you may need to restart the kernel to use updated packages.\n",
      "\n",
      "Requirement already satisfied: scipy in c:\\users\\lab4-studentpc22\\appdata\\local\\packages\\pythonsoftwarefoundation.python.3.13_qbz5n2kfra8p0\\localcache\\local-packages\\python313\\site-packages (1.15.2)\n",
      "Requirement already satisfied: numpy<2.5,>=1.23.5 in c:\\users\\lab4-studentpc22\\appdata\\local\\packages\\pythonsoftwarefoundation.python.3.13_qbz5n2kfra8p0\\localcache\\local-packages\\python313\\site-packages (from scipy) (2.2.2)\n"
     ]
    },
    {
     "name": "stderr",
     "output_type": "stream",
     "text": [
      "\n",
      "[notice] A new release of pip is available: 24.3.1 -> 25.0.1\n",
      "[notice] To update, run: C:\\Users\\LAB4-StudentPC22\\AppData\\Local\\Microsoft\\WindowsApps\\PythonSoftwareFoundation.Python.3.13_qbz5n2kfra8p0\\python.exe -m pip install --upgrade pip\n"
     ]
    }
   ],
   "source": [
    "pip install scipy"
   ]
  },
  {
   "cell_type": "code",
   "execution_count": 79,
   "id": "7b8adead-12f5-44c0-bdc0-7c0b4230b47b",
   "metadata": {},
   "outputs": [],
   "source": [
    "from scipy.stats import f_oneway"
   ]
  },
  {
   "cell_type": "code",
   "execution_count": 81,
   "id": "098395ae-5615-4933-b11e-463d55fa2279",
   "metadata": {},
   "outputs": [
    {
     "data": {
      "text/plain": [
       "0      3750.000000\n",
       "3      4201.754386\n",
       "5      3650.000000\n",
       "7      4675.000000\n",
       "8      3475.000000\n",
       "          ...     \n",
       "334    3800.000000\n",
       "336    3950.000000\n",
       "339    4000.000000\n",
       "341    3775.000000\n",
       "342    4100.000000\n",
       "Name: body_mass_g, Length: 179, dtype: float64"
      ]
     },
     "execution_count": 81,
     "metadata": {},
     "output_type": "execute_result"
    }
   ],
   "source": [
    "penguins[penguins['sex'] == 'male']['body_mass_g']"
   ]
  },
  {
   "cell_type": "code",
   "execution_count": 82,
   "id": "b30cacae-9f79-454c-a077-a76e85281118",
   "metadata": {},
   "outputs": [
    {
     "data": {
      "text/plain": [
       "np.float64(3.0226600487050246e-15)"
      ]
     },
     "execution_count": 82,
     "metadata": {},
     "output_type": "execute_result"
    }
   ],
   "source": [
    "f_stats, p_value = f_oneway(penguins[penguins['sex'] == 'male']['body_mass_g'],\n",
    "                           penguins[penguins['sex'] == 'female']['body_mass_g'])\n",
    "\n",
    "p_value"
   ]
  },
  {
   "cell_type": "markdown",
   "id": "b0469f1a-7651-4804-8e41-dd432276cd99",
   "metadata": {},
   "source": [
    "<h1>Insight #15</h1>\n",
    "<h1>There is a strong corralation between sex and body mass</h1>"
   ]
  },
  {
   "cell_type": "code",
   "execution_count": 83,
   "id": "116217b2-786f-4d5d-9494-4616f7373828",
   "metadata": {},
   "outputs": [
    {
     "data": {
      "text/plain": [
       "np.float64(4.88065474065626e-06)"
      ]
     },
     "execution_count": 83,
     "metadata": {},
     "output_type": "execute_result"
    }
   ],
   "source": [
    "f_stats, p_value = f_oneway(penguins[penguins['sex'] == 'male']['flipper_length_mm'],\n",
    "                           penguins[penguins['sex'] == 'female']['flipper_length_mm'])\n",
    "\n",
    "p_value"
   ]
  },
  {
   "cell_type": "markdown",
   "id": "e501a3b9-5983-4214-9186-38e078fe02c0",
   "metadata": {},
   "source": [
    "<h1>Insight #16</h1>\n",
    "<h1>There is a strong corralation between sex and body mass</h1>"
   ]
  },
  {
   "cell_type": "code",
   "execution_count": null,
   "id": "3e7e59ad-eb81-41c5-9b22-ef5c50d2ba0c",
   "metadata": {},
   "outputs": [],
   "source": []
  }
 ],
 "metadata": {
  "kernelspec": {
   "display_name": "Python 3 (ipykernel)",
   "language": "python",
   "name": "python3"
  },
  "language_info": {
   "codemirror_mode": {
    "name": "ipython",
    "version": 3
   },
   "file_extension": ".py",
   "mimetype": "text/x-python",
   "name": "python",
   "nbconvert_exporter": "python",
   "pygments_lexer": "ipython3",
   "version": "3.13.2"
  }
 },
 "nbformat": 4,
 "nbformat_minor": 5
}
